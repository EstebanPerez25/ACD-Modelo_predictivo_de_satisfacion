{
 "cells": [
  {
   "cell_type": "markdown",
   "id": "117d241a",
   "metadata": {
    "colab_type": "text",
    "id": "view-in-github"
   },
   "source": [
    "<a href=\"https://colab.research.google.com/github/EstebanPerez25/ACD-Modelo_predictivo_de_satisfacion/blob/PredEval_PeriodoOsf/Modelo_predictivo_de_satisfacci%C3%B3n.ipynb\" target=\"_parent\"><img src=\"https://colab.research.google.com/assets/colab-badge.svg\" alt=\"Open In Colab\"/></a>"
   ]
  },
  {
   "cell_type": "markdown",
   "id": "6f31f365-ac78-4ca0-9eed-9548fd3727a3",
   "metadata": {
    "id": "6f31f365-ac78-4ca0-9eed-9548fd3727a3"
   },
   "source": [
    "# MODELO PREDICTIVO DE SATISFACCIÓN DE PROYECTO SOLIDARIO\n",
    "---"
   ]
  },
  {
   "cell_type": "markdown",
   "id": "389a5127-0aa8-4f78-ab5d-85de2ff307e8",
   "metadata": {
    "id": "389a5127-0aa8-4f78-ab5d-85de2ff307e8"
   },
   "source": [
    "Modelo clasificador que puede predecir el grado de satisfacción de estudiantes del Tecnológico de Monterrey en su experiencia realizando un proyecto solidario con una organización socio formadora.\n",
    "\n",
    "\n",
    "\n",
    "Por: **Esteban Pérez. A00832329**. Instituto Tecnológico y de Estudios Superiores de Monterrey. (Junio, 2023)\n",
    "\n"
   ]
  },
  {
   "cell_type": "markdown",
   "id": "30faf79d-2567-4860-af9e-25fcfdedd7ba",
   "metadata": {
    "id": "30faf79d-2567-4860-af9e-25fcfdedd7ba"
   },
   "source": [
    "## I. COMPRENSIÓN DEL NEGOCIO\n",
    "---"
   ]
  },
  {
   "cell_type": "markdown",
   "id": "CctjcxW6yrrd",
   "metadata": {
    "id": "CctjcxW6yrrd"
   },
   "source": [
    "#### **OBJETIVOS DE NEGOCIO**\n",
    "\n",
    "**Objetivo general**\n",
    "\n",
    "1. Predecir, para cada osf, el nivel de satisfacción en el siguiente periodo  (MODELO DE ML)\n",
    "\n",
    "\n",
    "**Objetivos especificos**\n",
    "\n",
    "1. Categorizar comentarios: Negativos, Neutros, Positivos\n",
    "2. Rankear a osf con mejores niveles de satisfacción\n",
    "3. Identificar a osf con peores niveles de satisfacción\n",
    "\n",
    "#### **BENEFICIOS ESPERADOS**\n",
    "\n",
    "* Identificar las características de las OSF mejor calificadas para promover la disponibilidad de más proyectos similares\n",
    "* Ofrecer mejores proyectos solidarios a los alumnos del Tecnológico de Monterrey, Campus MOnterrey\n",
    "* Conocer el grado de satisfacción de una OSF en el futuro\n"
   ]
  },
  {
   "cell_type": "markdown",
   "id": "954cda6f-76bd-4a4f-918e-f5cc65a5fad9",
   "metadata": {
    "id": "954cda6f-76bd-4a4f-918e-f5cc65a5fad9"
   },
   "source": [
    "## II. COMPRENSIÓN DE LOS DATOS\n",
    "---"
   ]
  },
  {
   "cell_type": "markdown",
   "id": "4df6cab3-3364-40f0-972d-b030ebe78264",
   "metadata": {
    "id": "4df6cab3-3364-40f0-972d-b030ebe78264",
    "tags": []
   },
   "source": [
    "### Descripción de variables\n",
    "\n",
    "44 columnas:\n",
    "\n",
    "* `periodoA`: Periodo académico\n",
    "* `fechaInicio`: Fecha de inicio\n",
    "* `fechaFin`: Fecha final\n",
    "* `tipoRespuesta`: Tipo de respuesta\n",
    "* `ip`: Dirección IP\n",
    "* `progreso`: Progreso\n",
    "* `duracion`: Duración (en segundos)\n",
    "* `finalizado`: Finalizado\n",
    "* `fechaRegistrada`: Fecha registrada\n",
    "* `idRespuesta`: ID de respuesta\n",
    "* `apellidoDest`: Apellido del destinatario\n",
    "* `id`: ID\n",
    "* `datRefExt`: Datos de referencia externos\n",
    "* `latitud`: Latitud de ubicación\n",
    "* `longitud`: Longitud de ubicación\n",
    "* `canalDist`: Canal de la distribución\n",
    "* `idioma`: Idioma del usuario\n",
    "* `p1_a`: 1. Evalúa tu nivel satisfacción en los siguientes aspectos: - a) Al concluir este Proyecto Solidario.\n",
    "* `p1_b`: 1. Evalúa tu nivel satisfacción en los siguientes aspectos: - b) Vivir la experiencia de aprendizaje relacionada con un Objetivo de Desarrollo Sostenible.\n",
    "* `p1_c`: 1. Evalúa tu nivel satisfacción en los siguientes aspectos: - c) Nivel de valor aportado a la organización socio formadora a través de tus entregables\n",
    "* `p1_e`: 1. Evalúa tu nivel satisfacción en los siguientes aspectos: - e) Momentos de interacción y escucha con los beneficiarios/destinatarios del proyecto\n",
    "* `p1_f`: 1. Evalúa tu nivel satisfacción en los siguientes aspectos: - f)  Herramientas que aplicaste como las actividades, reportes, \"quizzes\", dentro de la plataforma de CANVAS en el desarrollo de la experiencia de Servicio Social.\n",
    "* `p1_g`: 1. Evalúa tu nivel satisfacción en los siguientes aspectos: - g) Experiencia de colaboración con la organización socio formadora\n",
    "* `p1_h`: 1. Evalúa tu nivel satisfacción en los siguientes aspectos: - h) Seguimiento y liderazgo de la organización socio formadora\n",
    "* `p1_i`: 1. Evalúa tu nivel satisfacción en los siguientes aspectos: - i) Atención y servicio del área que administra el Servicio Social en el campus (asesoría y orientación, información puntual, atención de dudas, seguimiento de incidentes)\n",
    "* `p2`: 2. La Organización Socio Formadora ¿ofreció retroalimentación sobre el desarrollo del Proyecto Solidario y tu desempeño?\n",
    "* `p3`: 3. ¿Consideras interesante la causa social del socio formador?\n",
    "* `p4`: 4. Escribe algún comentario que te interese compartir con la organización socio formadora:\n",
    "* `p5_a`: 5. Expresa tu opinión en los siguientes enunciados, en esta experiencia de servicio social tuve la oportunidad de: - a) Ser sensible ante la vulnerabilidad, el dolor y el sufrimiento del otro y actuar con el fin de eliminarlo, aliviarlo o evitarlo, a través de acciones justas alejadas de la pasión egoísta y/o de sentimientos de superioridad\n",
    "* `p5_b`: 5. Expresa tu opinión en los siguientes enunciados, en esta experiencia de servicio social tuve la oportunidad de: - b) Actuar con responsabilidad, con el fin de asegurar el bienestar de la colectividad, a través de acciones que garantizan el acceso a los derechos humanos, el empoderamiento de los ciudadanos y de las comunidades, así como el cuidado, mantenimiento y uso sostenible de los recursos y bienes comunes\n",
    "* `p5_c`: 5. Expresa tu opinión en los siguientes enunciados, en esta experiencia de servicio social tuve la oportunidad de: - c) Actuar con respeto ante la diversidad de género, sexual, étnica, cultural, de capacidades, generacional, religiosa y socioeconómica mostrando una cordial aceptación de las diferencias y la capacidad para gestionar de manera razonable los conflictos\n",
    "* `p5_e`: 5. Expresa tu opinión en los siguientes enunciados, en esta experiencia de servicio social tuve la oportunidad de: - e) Promover soluciones cooperativas en problemas o coordinar acciones colectivas con el fin de mejorar la calidad de vida de la sociedad, fomentando la cultura de la legalidad, los derechos humanos y/o el fortalecimiento de la democracia\n",
    "* `p6`: 6. Comparte algo en particular sobre la experiencia de servicio social que acabas de vivir. Nos interesa conocer tu opinión:\n",
    "* `p6.1`: 6.1 Tu comentario sobre la experiencia es:\n",
    "* `osf`: Organización Socio Formadora\n",
    "* `crn`: Número CRN\n",
    "* `nombreExp`: Nombre de Experiencia\n",
    "* `perdiodo`: Periodo\n",
    "* `semana`: Semana\n",
    "* `formato`: Tipo de Formato\n",
    "* `matricula`: Matrícula con A0XXXXXXX:\n",
    "* `osf_Proyecto`: Selecciona la Organización Socioformadora y el nombre del proyecto en el que participaste:\n",
    "* `nombreDest`: Nombre del destinatario\n",
    "* `mailDest`: Correo electrónico del destinatario"
   ]
  },
  {
   "cell_type": "markdown",
   "id": "e3ad3712-4cca-4fe4-be92-4520f77dc23d",
   "metadata": {
    "id": "e3ad3712-4cca-4fe4-be92-4520f77dc23d"
   },
   "source": [
    "### II.1 Librerías"
   ]
  },
  {
   "cell_type": "code",
   "execution_count": 1,
   "id": "9IgRRX9z1avm",
   "metadata": {
    "id": "9IgRRX9z1avm"
   },
   "outputs": [],
   "source": [
    "#!pip install sentiment_analysis_spanish\n",
    "#!pip install scikit-learn\n",
    "#!pip install sklearn"
   ]
  },
  {
   "cell_type": "code",
   "execution_count": 2,
   "id": "bd0f37f7",
   "metadata": {
    "id": "bd0f37f7"
   },
   "outputs": [],
   "source": [
    "# Manejo y visualización de datos\n",
    "import pandas as pd\n",
    "import numpy as np\n",
    "import matplotlib.pyplot as plt\n",
    "import re\n",
    "\n",
    "# Preprocesamiento\n",
    "from sklearn.model_selection import train_test_split  # Separar datos en entrenamiento y prueba\n",
    "from sklearn.preprocessing import MinMaxScaler, StandardScaler  # Escalamiento\n",
    "from imblearn.over_sampling import SMOTE  # Sobremuestreo\n",
    "from imblearn.under_sampling import ClusterCentroids  # Submuestreo\n",
    "from sentiment_analysis_spanish import sentiment_analysis\n",
    "from sklearn.preprocessing import PolynomialFeatures\n",
    "from sklearn.feature_selection import SelectKBest, f_regression\n",
    "import warnings  # Ignorar alertas\n",
    "\n",
    "\n",
    "\n",
    "# Modelos de aprendizaje supervisado\n",
    "# Clasificación\n",
    "from sklearn.linear_model import LinearRegression, ElasticNet\n",
    "from sklearn.ensemble import RandomForestRegressor\n",
    "from sklearn.neighbors import KNeighborsRegressor\n",
    "from sklearn.svm import SVR\n",
    "\n",
    "# Modelos de aprendizae no supervisado\n",
    "from sklearn.cluster import KMeans\n",
    "from sklearn.cluster import AgglomerativeClustering\n",
    "import scipy.cluster.hierarchy as shc   # Dendrogram\n",
    "from sklearn.decomposition import PCA\n",
    "\n",
    "# Redes neuronales profundas\n",
    "import keras\n",
    "import keras.backend as kb\n",
    "import tensorflow as tf\n",
    "\n",
    "# Evaluación de modelos\n",
    "from sklearn.metrics import *\n",
    "\n",
    "# Deployment\n",
    "import pickle\n"
   ]
  },
  {
   "cell_type": "markdown",
   "id": "2190bfa1",
   "metadata": {
    "id": "2190bfa1"
   },
   "source": [
    "### II.2 Lectura de datos"
   ]
  },
  {
   "cell_type": "markdown",
   "id": "4ec081b7",
   "metadata": {
    "id": "4ec081b7"
   },
   "source": [
    "#### II.2.1. Cargar todos los archivos csv"
   ]
  },
  {
   "cell_type": "code",
   "execution_count": 3,
   "id": "jVNvI72p-rdb",
   "metadata": {
    "id": "jVNvI72p-rdb"
   },
   "outputs": [],
   "source": [
    "# Url de archivos csv\n",
    "url1 = 'https://raw.githubusercontent.com/EstebanPerez25/ACD-Modelo_predictivo_de_satisfacion/main/Encuesta%2Ba%2BEstudiantes%2BPS_17%2Bde%2Bmayo%2Bde%2B2023_12.05.csv'\n",
    "url2 = 'https://raw.githubusercontent.com/EstebanPerez25/ACD-Modelo_predictivo_de_satisfacion/main/Estudiantes%2BPS%2BFJ22%2BTEC21_17%2Bde%2Bmayo%2Bde%2B2023_12.17.csv'\n",
    "url3 = 'https://raw.githubusercontent.com/EstebanPerez25/ACD-Modelo_predictivo_de_satisfacion/main/Estudiantes%2BPS%2BAD22%2BTEC21_17%2Bde%2Bmayo%2Bde%2B2023_12.07.csv'\n",
    "url4 = 'https://raw.githubusercontent.com/EstebanPerez25/ACD-Modelo_predictivo_de_satisfacion/main/Estudiantes%2BPS_INV23%2BTEC21_17%2Bde%2Bmayo%2Bde%2B2023_12.22.csv'\n",
    "url5 = 'https://raw.githubusercontent.com/EstebanPerez25/ACD-Modelo_predictivo_de_satisfacion/main/Estudiantes%2BPS%2BFJ23_17%2Bde%2Bmayo%2Bde%2B2023_12.28.csv'\n"
   ]
  },
  {
   "cell_type": "code",
   "execution_count": 4,
   "id": "931d7be4",
   "metadata": {
    "id": "931d7be4"
   },
   "outputs": [],
   "source": [
    "# Lectura de datos\n",
    "df_inv22 = pd.read_csv(url1)\n",
    "df_fj22 = pd.read_csv(url2)\n",
    "df_ad22 = pd.read_csv(url3)\n",
    "df_inv23 = pd.read_csv(url4)\n",
    "df_fj23 = pd.read_csv(url5)\n",
    "\n",
    "# Se eliminó previamente la primera fila del archivo csv porque\n",
    "# repite el nombre de la columna pero en inglés\n",
    "\n",
    "# Agregando una primera columna indicando el periodo académico\n",
    "df_inv22.insert(0, 'PA', 'INV22')\n",
    "df_fj22.insert(0, 'PA', 'FJ22')\n",
    "df_ad22.insert(0, 'PA', 'AD22')\n",
    "df_inv23.insert(0, 'PA', 'INV23')\n",
    "df_fj23.insert(0, 'PA', 'FJ23')"
   ]
  },
  {
   "cell_type": "markdown",
   "id": "bc00cc00-b5ba-4500-9221-3e00b416c00b",
   "metadata": {
    "id": "bc00cc00-b5ba-4500-9221-3e00b416c00b"
   },
   "source": [
    "#### II.2.2 Primer preprocesamiento de datos"
   ]
  },
  {
   "cell_type": "markdown",
   "id": "0da47c98-623e-431a-87b5-702896a0bd47",
   "metadata": {
    "id": "0da47c98-623e-431a-87b5-702896a0bd47"
   },
   "source": [
    "##### 1. Unificación de datos"
   ]
  },
  {
   "cell_type": "code",
   "execution_count": 5,
   "id": "98f512d5",
   "metadata": {
    "id": "98f512d5"
   },
   "outputs": [],
   "source": [
    "df_m = pd.concat([df_inv22, df_fj22, df_ad22, df_inv23, df_fj23])"
   ]
  },
  {
   "cell_type": "markdown",
   "id": "3dce28f9-9a69-45e2-a29f-c28209d60191",
   "metadata": {
    "id": "3dce28f9-9a69-45e2-a29f-c28209d60191"
   },
   "source": [
    "##### 2. Renombramiento de columanas"
   ]
  },
  {
   "cell_type": "code",
   "execution_count": 6,
   "id": "97b62b7f-c31f-4f08-96e4-a2ef03813946",
   "metadata": {
    "id": "97b62b7f-c31f-4f08-96e4-a2ef03813946"
   },
   "outputs": [],
   "source": [
    "renames = ['periodoA',\n",
    "           'fechaInicio',\n",
    "           'fechaFin',\n",
    "           'tipoRespuesta',\n",
    "           'ip',\n",
    "           'progreso',\n",
    "           'duracion',\n",
    "           'finalizado',\n",
    "           'fechaRegistrada',\n",
    "           'idRespuesta',\n",
    "           'apellidoDest',\n",
    "           'id',\n",
    "           'datRefExt',\n",
    "           'latitud',\n",
    "           'longitud',\n",
    "           'canalDist',\n",
    "           'idioma',\n",
    "           'p1_a',\n",
    "           'p1_b',\n",
    "           'p1_c',\n",
    "           'p1_e',\n",
    "           'p1_f',\n",
    "           'p1_g',\n",
    "           'p1_h',\n",
    "           'p1_i',\n",
    "           'p2',\n",
    "           'p3',\n",
    "           'p4',\n",
    "           'p5_a',\n",
    "           'p5_b',\n",
    "           'p5_c',\n",
    "           'p5_e',\n",
    "           'p6',\n",
    "           'p6.1',\n",
    "           'osf',\n",
    "           'crn',\n",
    "           'nombreExp',\n",
    "           'periodo',\n",
    "           'semana',\n",
    "           'formato',\n",
    "           'matricula',\n",
    "           'osf_Proyecto',\n",
    "           'nombreDest',\n",
    "           'mailDest'\n",
    "          ]\n",
    "for i,r in enumerate(renames):\n",
    "    #print(f'{i}: {r}')\n",
    "    df_m.rename(columns={df_m.columns[i]: r}, inplace=True)"
   ]
  },
  {
   "cell_type": "markdown",
   "id": "efa7fc0d-c7d6-4ce5-8217-c8905748edcb",
   "metadata": {
    "id": "efa7fc0d-c7d6-4ce5-8217-c8905748edcb"
   },
   "source": [
    "##### 3. Reordenamiento de columnas"
   ]
  },
  {
   "cell_type": "code",
   "execution_count": 7,
   "id": "39e6b2f4-0d97-43b5-8449-459c1bc574c1",
   "metadata": {
    "id": "39e6b2f4-0d97-43b5-8449-459c1bc574c1"
   },
   "outputs": [],
   "source": [
    "reorder = ['periodoA',\n",
    "\n",
    "           'osf',\n",
    "           'osf_Proyecto',\n",
    "           'nombreExp',\n",
    "           'crn',\n",
    "\n",
    "           'periodo',\n",
    "           'semana',\n",
    "           'formato',\n",
    "\n",
    "           'fechaInicio',\n",
    "           'progreso',\n",
    "           'duracion',\n",
    "           'finalizado',\n",
    "           'fechaFin',\n",
    "           'fechaRegistrada',\n",
    "\n",
    "           'id',\n",
    "           'idRespuesta',\n",
    "           'tipoRespuesta',\n",
    "           'idioma',\n",
    "           'ip',\n",
    "           'matricula',\n",
    "           'latitud',\n",
    "           'longitud',\n",
    "\n",
    "           'nombreDest',\n",
    "           'apellidoDest',\n",
    "           'mailDest',\n",
    "\n",
    "           'datRefExt',\n",
    "           'canalDist',\n",
    "\n",
    "           'p1_a',\n",
    "           'p1_b',\n",
    "           'p1_c',\n",
    "           'p1_e',\n",
    "           'p1_f',\n",
    "           'p1_g',\n",
    "           'p1_h',\n",
    "           'p1_i',\n",
    "           'p2',\n",
    "           'p3',\n",
    "           'p4',\n",
    "           'p5_a',\n",
    "           'p5_b',\n",
    "           'p5_c',\n",
    "           'p5_e',\n",
    "           'p6',\n",
    "           'p6.1',\n",
    "\n",
    "          ]\n",
    "df_m = df_m.reindex(columns=reorder)"
   ]
  },
  {
   "cell_type": "code",
   "execution_count": 8,
   "id": "3c614bcb-459a-4d50-83ca-0513b2cc3d42",
   "metadata": {
    "colab": {
     "base_uri": "https://localhost:8080/"
    },
    "id": "3c614bcb-459a-4d50-83ca-0513b2cc3d42",
    "outputId": "d72cd0aa-0141-47d8-ee04-d233c9a9f5a7"
   },
   "outputs": [
    {
     "data": {
      "text/plain": [
       "Index(['periodoA', 'osf', 'osf_Proyecto', 'nombreExp', 'crn', 'periodo',\n",
       "       'semana', 'formato', 'fechaInicio', 'progreso', 'duracion',\n",
       "       'finalizado', 'fechaFin', 'fechaRegistrada', 'id', 'idRespuesta',\n",
       "       'tipoRespuesta', 'idioma', 'ip', 'matricula', 'latitud', 'longitud',\n",
       "       'nombreDest', 'apellidoDest', 'mailDest', 'datRefExt', 'canalDist',\n",
       "       'p1_a', 'p1_b', 'p1_c', 'p1_e', 'p1_f', 'p1_g', 'p1_h', 'p1_i', 'p2',\n",
       "       'p3', 'p4', 'p5_a', 'p5_b', 'p5_c', 'p5_e', 'p6', 'p6.1'],\n",
       "      dtype='object')"
      ]
     },
     "execution_count": 8,
     "metadata": {},
     "output_type": "execute_result"
    }
   ],
   "source": [
    "df_m.columns"
   ]
  },
  {
   "cell_type": "markdown",
   "id": "0ee6e4af-544a-415c-a9a7-d916137d5ee3",
   "metadata": {
    "id": "0ee6e4af-544a-415c-a9a7-d916137d5ee3"
   },
   "source": [
    "### II.3 Descripción de los datos"
   ]
  },
  {
   "cell_type": "markdown",
   "id": "e61308a2-dd76-41ff-84ec-de4fce4b8c08",
   "metadata": {
    "id": "e61308a2-dd76-41ff-84ec-de4fce4b8c08"
   },
   "source": [
    "#### II.3.1 Previsualización del dataset"
   ]
  },
  {
   "cell_type": "code",
   "execution_count": 9,
   "id": "1abd2ad2-a422-4a55-9f50-55f28b5e1fbd",
   "metadata": {
    "colab": {
     "base_uri": "https://localhost:8080/",
     "height": 629
    },
    "id": "1abd2ad2-a422-4a55-9f50-55f28b5e1fbd",
    "outputId": "9a691b66-f578-448a-e92f-f94c690ef857"
   },
   "outputs": [
    {
     "data": {
      "text/html": [
       "<div>\n",
       "<style scoped>\n",
       "    .dataframe tbody tr th:only-of-type {\n",
       "        vertical-align: middle;\n",
       "    }\n",
       "\n",
       "    .dataframe tbody tr th {\n",
       "        vertical-align: top;\n",
       "    }\n",
       "\n",
       "    .dataframe thead th {\n",
       "        text-align: right;\n",
       "    }\n",
       "</style>\n",
       "<table border=\"1\" class=\"dataframe\">\n",
       "  <thead>\n",
       "    <tr style=\"text-align: right;\">\n",
       "      <th></th>\n",
       "      <th>periodoA</th>\n",
       "      <th>osf</th>\n",
       "      <th>osf_Proyecto</th>\n",
       "      <th>nombreExp</th>\n",
       "      <th>crn</th>\n",
       "      <th>periodo</th>\n",
       "      <th>semana</th>\n",
       "      <th>formato</th>\n",
       "      <th>fechaInicio</th>\n",
       "      <th>progreso</th>\n",
       "      <th>...</th>\n",
       "      <th>p1_i</th>\n",
       "      <th>p2</th>\n",
       "      <th>p3</th>\n",
       "      <th>p4</th>\n",
       "      <th>p5_a</th>\n",
       "      <th>p5_b</th>\n",
       "      <th>p5_c</th>\n",
       "      <th>p5_e</th>\n",
       "      <th>p6</th>\n",
       "      <th>p6.1</th>\n",
       "    </tr>\n",
       "  </thead>\n",
       "  <tbody>\n",
       "    <tr>\n",
       "      <th>0</th>\n",
       "      <td>INV22</td>\n",
       "      <td>NaN</td>\n",
       "      <td>NaN</td>\n",
       "      <td>NaN</td>\n",
       "      <td>NaN</td>\n",
       "      <td>NaN</td>\n",
       "      <td>NaN</td>\n",
       "      <td>NaN</td>\n",
       "      <td>22/04/2021 13:24</td>\n",
       "      <td>100</td>\n",
       "      <td>...</td>\n",
       "      <td>NaN</td>\n",
       "      <td>NaN</td>\n",
       "      <td>NaN</td>\n",
       "      <td>NaN</td>\n",
       "      <td>NaN</td>\n",
       "      <td>NaN</td>\n",
       "      <td>NaN</td>\n",
       "      <td>NaN</td>\n",
       "      <td>NaN</td>\n",
       "      <td>NaN</td>\n",
       "    </tr>\n",
       "    <tr>\n",
       "      <th>1</th>\n",
       "      <td>INV22</td>\n",
       "      <td>León Ortigosa ABP</td>\n",
       "      <td>NaN</td>\n",
       "      <td>NaN</td>\n",
       "      <td>26892.0</td>\n",
       "      <td>NaN</td>\n",
       "      <td>NaN</td>\n",
       "      <td>NaN</td>\n",
       "      <td>22/04/2021 17:35</td>\n",
       "      <td>100</td>\n",
       "      <td>...</td>\n",
       "      <td>\\n5 Muy Satisfecho</td>\n",
       "      <td>Sí</td>\n",
       "      <td>Sí</td>\n",
       "      <td>Me gustó mucho la causa a la que se estaba apo...</td>\n",
       "      <td>4</td>\n",
       "      <td>\\n5 Totalmente de Acuerdo</td>\n",
       "      <td>\\n5 Totalmente de Acuerdo</td>\n",
       "      <td>\\n5 Totalmente de Acuerdo</td>\n",
       "      <td>Es complicado conseguir colaboraciones en esto...</td>\n",
       "      <td>Reconocimiento</td>\n",
       "    </tr>\n",
       "    <tr>\n",
       "      <th>2</th>\n",
       "      <td>INV22</td>\n",
       "      <td>Comenzar de Nuevo, A.C.</td>\n",
       "      <td>NaN</td>\n",
       "      <td>NaN</td>\n",
       "      <td>26918.0</td>\n",
       "      <td>NaN</td>\n",
       "      <td>NaN</td>\n",
       "      <td>NaN</td>\n",
       "      <td>22/04/2021 18:31</td>\n",
       "      <td>100</td>\n",
       "      <td>...</td>\n",
       "      <td>\\n1 Nada Satisfecho</td>\n",
       "      <td>Sí</td>\n",
       "      <td>Sí</td>\n",
       "      <td>Me gustó el servicio, pero me hubiera gustado ...</td>\n",
       "      <td>4</td>\n",
       "      <td>4</td>\n",
       "      <td>4</td>\n",
       "      <td>4</td>\n",
       "      <td>Pues ojalá que ahora sí me valgan mis horas, n...</td>\n",
       "      <td>Reconocimiento</td>\n",
       "    </tr>\n",
       "    <tr>\n",
       "      <th>3</th>\n",
       "      <td>INV22</td>\n",
       "      <td>Casa Paterna La Gran Familia, A.C.</td>\n",
       "      <td>NaN</td>\n",
       "      <td>NaN</td>\n",
       "      <td>26913.0</td>\n",
       "      <td>NaN</td>\n",
       "      <td>NaN</td>\n",
       "      <td>NaN</td>\n",
       "      <td>23/04/2021 04:47</td>\n",
       "      <td>100</td>\n",
       "      <td>...</td>\n",
       "      <td>4</td>\n",
       "      <td>Sí</td>\n",
       "      <td>Sí</td>\n",
       "      <td>Muchas gracias por el apoyo y la oportunidad d...</td>\n",
       "      <td>\\n5 Totalmente de Acuerdo</td>\n",
       "      <td>\\n5 Totalmente de Acuerdo</td>\n",
       "      <td>\\n5 Totalmente de Acuerdo</td>\n",
       "      <td>\\n5 Totalmente de Acuerdo</td>\n",
       "      <td>Lo único que me desagrado del servicio fue la ...</td>\n",
       "      <td>Área de oportunidad</td>\n",
       "    </tr>\n",
       "    <tr>\n",
       "      <th>4</th>\n",
       "      <td>INV22</td>\n",
       "      <td>Programa de Acompañamiento de Servicio Social,...</td>\n",
       "      <td>NaN</td>\n",
       "      <td>NaN</td>\n",
       "      <td>26933.0</td>\n",
       "      <td>NaN</td>\n",
       "      <td>NaN</td>\n",
       "      <td>NaN</td>\n",
       "      <td>23/04/2021 07:45</td>\n",
       "      <td>100</td>\n",
       "      <td>...</td>\n",
       "      <td>\\n5 Muy Satisfecho</td>\n",
       "      <td>Sí</td>\n",
       "      <td>Sí</td>\n",
       "      <td>¡Muchas gracias por la experiencia!</td>\n",
       "      <td>\\n5 Totalmente de Acuerdo</td>\n",
       "      <td>\\n5 Totalmente de Acuerdo</td>\n",
       "      <td>\\n5 Totalmente de Acuerdo</td>\n",
       "      <td>\\n5 Totalmente de Acuerdo</td>\n",
       "      <td>Me gusto mucho la experiencia por la apertura ...</td>\n",
       "      <td>Reconocimiento</td>\n",
       "    </tr>\n",
       "  </tbody>\n",
       "</table>\n",
       "<p>5 rows × 44 columns</p>\n",
       "</div>"
      ],
      "text/plain": [
       "  periodoA                                                osf osf_Proyecto  \\\n",
       "0    INV22                                                NaN          NaN   \n",
       "1    INV22                                  León Ortigosa ABP          NaN   \n",
       "2    INV22                            Comenzar de Nuevo, A.C.          NaN   \n",
       "3    INV22                 Casa Paterna La Gran Familia, A.C.          NaN   \n",
       "4    INV22  Programa de Acompañamiento de Servicio Social,...          NaN   \n",
       "\n",
       "  nombreExp      crn  periodo semana formato       fechaInicio  progreso  ...  \\\n",
       "0       NaN      NaN      NaN    NaN     NaN  22/04/2021 13:24       100  ...   \n",
       "1       NaN  26892.0      NaN    NaN     NaN  22/04/2021 17:35       100  ...   \n",
       "2       NaN  26918.0      NaN    NaN     NaN  22/04/2021 18:31       100  ...   \n",
       "3       NaN  26913.0      NaN    NaN     NaN  23/04/2021 04:47       100  ...   \n",
       "4       NaN  26933.0      NaN    NaN     NaN  23/04/2021 07:45       100  ...   \n",
       "\n",
       "                  p1_i   p2   p3  \\\n",
       "0                  NaN  NaN  NaN   \n",
       "1   \\n5 Muy Satisfecho   Sí   Sí   \n",
       "2  \\n1 Nada Satisfecho   Sí   Sí   \n",
       "3                    4   Sí   Sí   \n",
       "4   \\n5 Muy Satisfecho   Sí   Sí   \n",
       "\n",
       "                                                  p4  \\\n",
       "0                                                NaN   \n",
       "1  Me gustó mucho la causa a la que se estaba apo...   \n",
       "2  Me gustó el servicio, pero me hubiera gustado ...   \n",
       "3  Muchas gracias por el apoyo y la oportunidad d...   \n",
       "4                ¡Muchas gracias por la experiencia!   \n",
       "\n",
       "                        p5_a                       p5_b  \\\n",
       "0                        NaN                        NaN   \n",
       "1                          4  \\n5 Totalmente de Acuerdo   \n",
       "2                          4                          4   \n",
       "3  \\n5 Totalmente de Acuerdo  \\n5 Totalmente de Acuerdo   \n",
       "4  \\n5 Totalmente de Acuerdo  \\n5 Totalmente de Acuerdo   \n",
       "\n",
       "                        p5_c                       p5_e  \\\n",
       "0                        NaN                        NaN   \n",
       "1  \\n5 Totalmente de Acuerdo  \\n5 Totalmente de Acuerdo   \n",
       "2                          4                          4   \n",
       "3  \\n5 Totalmente de Acuerdo  \\n5 Totalmente de Acuerdo   \n",
       "4  \\n5 Totalmente de Acuerdo  \\n5 Totalmente de Acuerdo   \n",
       "\n",
       "                                                  p6                 p6.1  \n",
       "0                                                NaN                  NaN  \n",
       "1  Es complicado conseguir colaboraciones en esto...       Reconocimiento  \n",
       "2  Pues ojalá que ahora sí me valgan mis horas, n...       Reconocimiento  \n",
       "3  Lo único que me desagrado del servicio fue la ...  Área de oportunidad  \n",
       "4  Me gusto mucho la experiencia por la apertura ...       Reconocimiento  \n",
       "\n",
       "[5 rows x 44 columns]"
      ]
     },
     "execution_count": 9,
     "metadata": {},
     "output_type": "execute_result"
    }
   ],
   "source": [
    "df_m.head()"
   ]
  },
  {
   "cell_type": "markdown",
   "id": "f4c11026-9531-4398-ac1f-6d7f208dcc34",
   "metadata": {
    "id": "f4c11026-9531-4398-ac1f-6d7f208dcc34"
   },
   "source": [
    "#### II.3.2 Dimensionalidad"
   ]
  },
  {
   "cell_type": "code",
   "execution_count": 10,
   "id": "8156767a-0312-4805-ad24-7dcfd6cd59c0",
   "metadata": {
    "colab": {
     "base_uri": "https://localhost:8080/"
    },
    "id": "8156767a-0312-4805-ad24-7dcfd6cd59c0",
    "outputId": "e9d6cba7-9cc4-4718-afe0-19992a871b19"
   },
   "outputs": [
    {
     "name": "stdout",
     "output_type": "stream",
     "text": [
      "Registros:  10499\n",
      "Campos:  44\n"
     ]
    }
   ],
   "source": [
    "print('Registros: ', df_m.shape[0])\n",
    "print('Campos: ', df_m.shape[1])"
   ]
  },
  {
   "cell_type": "markdown",
   "id": "dce9967f-06a5-4bbf-ae37-449cbdd93677",
   "metadata": {
    "id": "dce9967f-06a5-4bbf-ae37-449cbdd93677"
   },
   "source": [
    "#### II.3.3 Descripción de variables"
   ]
  },
  {
   "cell_type": "code",
   "execution_count": 11,
   "id": "1d4c9c61-ef76-434b-94a6-1d75cea5bc9a",
   "metadata": {
    "colab": {
     "base_uri": "https://localhost:8080/"
    },
    "id": "1d4c9c61-ef76-434b-94a6-1d75cea5bc9a",
    "outputId": "ab40b394-28bf-433e-fdb4-b97706c4655b"
   },
   "outputs": [
    {
     "name": "stdout",
     "output_type": "stream",
     "text": [
      "<class 'pandas.core.frame.DataFrame'>\n",
      "Int64Index: 10499 entries, 0 to 368\n",
      "Data columns (total 44 columns):\n",
      " #   Column           Non-Null Count  Dtype  \n",
      "---  ------           --------------  -----  \n",
      " 0   periodoA         10499 non-null  object \n",
      " 1   osf              5804 non-null   object \n",
      " 2   osf_Proyecto     4239 non-null   object \n",
      " 3   nombreExp        1792 non-null   object \n",
      " 4   crn              5804 non-null   float64\n",
      " 5   periodo          1792 non-null   float64\n",
      " 6   semana           1779 non-null   object \n",
      " 7   formato          1792 non-null   object \n",
      " 8   fechaInicio      10499 non-null  object \n",
      " 9   progreso         10499 non-null  int64  \n",
      " 10  duracion         10499 non-null  int64  \n",
      " 11  finalizado       10499 non-null  bool   \n",
      " 12  fechaFin         10499 non-null  object \n",
      " 13  fechaRegistrada  10499 non-null  object \n",
      " 14  id               10499 non-null  object \n",
      " 15  idRespuesta      10499 non-null  object \n",
      " 16  tipoRespuesta    10499 non-null  object \n",
      " 17  idioma           10499 non-null  object \n",
      " 18  ip               10496 non-null  object \n",
      " 19  matricula        2764 non-null   object \n",
      " 20  latitud          10495 non-null  float64\n",
      " 21  longitud         10495 non-null  float64\n",
      " 22  nombreDest       0 non-null      float64\n",
      " 23  apellidoDest     3216 non-null   object \n",
      " 24  mailDest         0 non-null      float64\n",
      " 25  datRefExt        0 non-null      float64\n",
      " 26  canalDist        8979 non-null   object \n",
      " 27  p1_a             10497 non-null  object \n",
      " 28  p1_b             10497 non-null  object \n",
      " 29  p1_c             10497 non-null  object \n",
      " 30  p1_e             10497 non-null  object \n",
      " 31  p1_f             10497 non-null  object \n",
      " 32  p1_g             10497 non-null  object \n",
      " 33  p1_h             10497 non-null  object \n",
      " 34  p1_i             10497 non-null  object \n",
      " 35  p2               10497 non-null  object \n",
      " 36  p3               10497 non-null  object \n",
      " 37  p4               10338 non-null  object \n",
      " 38  p5_a             10497 non-null  object \n",
      " 39  p5_b             10497 non-null  object \n",
      " 40  p5_c             10497 non-null  object \n",
      " 41  p5_e             10497 non-null  object \n",
      " 42  p6               9070 non-null   object \n",
      " 43  p6.1             9064 non-null   object \n",
      "dtypes: bool(1), float64(7), int64(2), object(34)\n",
      "memory usage: 3.5+ MB\n"
     ]
    }
   ],
   "source": [
    "df_m.info()"
   ]
  },
  {
   "cell_type": "markdown",
   "id": "d43021ca-931f-4bc8-b559-0fc2e953e969",
   "metadata": {
    "id": "d43021ca-931f-4bc8-b559-0fc2e953e969"
   },
   "source": [
    "### II.4 Exploración de los datos"
   ]
  },
  {
   "cell_type": "markdown",
   "id": "5f92e610-4c4f-4d54-8b14-d9731b1ee213",
   "metadata": {
    "id": "5f92e610-4c4f-4d54-8b14-d9731b1ee213"
   },
   "source": [
    "#### II.4.1 Medidas estadísticas"
   ]
  },
  {
   "cell_type": "markdown",
   "id": "49698326-4de6-4a05-8b34-b0a22401bdda",
   "metadata": {
    "id": "49698326-4de6-4a05-8b34-b0a22401bdda"
   },
   "source": [
    "##### A) Variables cuantitativas"
   ]
  },
  {
   "cell_type": "code",
   "execution_count": 12,
   "id": "ef29844b-919c-4030-a7ba-136b34ad0136",
   "metadata": {
    "colab": {
     "base_uri": "https://localhost:8080/"
    },
    "id": "ef29844b-919c-4030-a7ba-136b34ad0136",
    "outputId": "18cd348c-cd5c-4ad5-ca04-4b33b139c187"
   },
   "outputs": [
    {
     "name": "stdout",
     "output_type": "stream",
     "text": [
      "1: progreso\n",
      "2: duracion\n",
      "3: latitud\n",
      "4: longitud\n"
     ]
    }
   ],
   "source": [
    "v_cuantitativas = ['progreso', 'duracion', 'latitud', 'longitud']\n",
    "\n",
    "for i,y in enumerate(v_cuantitativas):\n",
    "    print(f'{i+1}: {y}')"
   ]
  },
  {
   "cell_type": "code",
   "execution_count": 13,
   "id": "01b41ebf-3814-44c0-99c4-371cb705953c",
   "metadata": {
    "colab": {
     "base_uri": "https://localhost:8080/",
     "height": 300
    },
    "id": "01b41ebf-3814-44c0-99c4-371cb705953c",
    "outputId": "64391ea1-f33b-4d90-d86c-b36806ecb4ac"
   },
   "outputs": [
    {
     "data": {
      "text/html": [
       "<div>\n",
       "<style scoped>\n",
       "    .dataframe tbody tr th:only-of-type {\n",
       "        vertical-align: middle;\n",
       "    }\n",
       "\n",
       "    .dataframe tbody tr th {\n",
       "        vertical-align: top;\n",
       "    }\n",
       "\n",
       "    .dataframe thead th {\n",
       "        text-align: right;\n",
       "    }\n",
       "</style>\n",
       "<table border=\"1\" class=\"dataframe\">\n",
       "  <thead>\n",
       "    <tr style=\"text-align: right;\">\n",
       "      <th></th>\n",
       "      <th>progreso</th>\n",
       "      <th>duracion</th>\n",
       "      <th>latitud</th>\n",
       "      <th>longitud</th>\n",
       "    </tr>\n",
       "  </thead>\n",
       "  <tbody>\n",
       "    <tr>\n",
       "      <th>count</th>\n",
       "      <td>10499.000000</td>\n",
       "      <td>1.049900e+04</td>\n",
       "      <td>10495.000000</td>\n",
       "      <td>10495.000000</td>\n",
       "    </tr>\n",
       "    <tr>\n",
       "      <th>mean</th>\n",
       "      <td>99.995428</td>\n",
       "      <td>8.582590e+03</td>\n",
       "      <td>24.995108</td>\n",
       "      <td>-99.212264</td>\n",
       "    </tr>\n",
       "    <tr>\n",
       "      <th>std</th>\n",
       "      <td>0.234194</td>\n",
       "      <td>5.214845e+04</td>\n",
       "      <td>4.066914</td>\n",
       "      <td>10.763758</td>\n",
       "    </tr>\n",
       "    <tr>\n",
       "      <th>min</th>\n",
       "      <td>88.000000</td>\n",
       "      <td>2.500000e+01</td>\n",
       "      <td>-37.828000</td>\n",
       "      <td>-123.133700</td>\n",
       "    </tr>\n",
       "    <tr>\n",
       "      <th>25%</th>\n",
       "      <td>100.000000</td>\n",
       "      <td>1.190000e+02</td>\n",
       "      <td>25.644897</td>\n",
       "      <td>-100.325800</td>\n",
       "    </tr>\n",
       "    <tr>\n",
       "      <th>50%</th>\n",
       "      <td>100.000000</td>\n",
       "      <td>1.900000e+02</td>\n",
       "      <td>25.654600</td>\n",
       "      <td>-100.311000</td>\n",
       "    </tr>\n",
       "    <tr>\n",
       "      <th>75%</th>\n",
       "      <td>100.000000</td>\n",
       "      <td>3.610000e+02</td>\n",
       "      <td>25.680200</td>\n",
       "      <td>-100.263100</td>\n",
       "    </tr>\n",
       "    <tr>\n",
       "      <th>max</th>\n",
       "      <td>100.000000</td>\n",
       "      <td>1.298823e+06</td>\n",
       "      <td>59.955000</td>\n",
       "      <td>144.966900</td>\n",
       "    </tr>\n",
       "  </tbody>\n",
       "</table>\n",
       "</div>"
      ],
      "text/plain": [
       "           progreso      duracion       latitud      longitud\n",
       "count  10499.000000  1.049900e+04  10495.000000  10495.000000\n",
       "mean      99.995428  8.582590e+03     24.995108    -99.212264\n",
       "std        0.234194  5.214845e+04      4.066914     10.763758\n",
       "min       88.000000  2.500000e+01    -37.828000   -123.133700\n",
       "25%      100.000000  1.190000e+02     25.644897   -100.325800\n",
       "50%      100.000000  1.900000e+02     25.654600   -100.311000\n",
       "75%      100.000000  3.610000e+02     25.680200   -100.263100\n",
       "max      100.000000  1.298823e+06     59.955000    144.966900"
      ]
     },
     "execution_count": 13,
     "metadata": {},
     "output_type": "execute_result"
    }
   ],
   "source": [
    "df_m[v_cuantitativas].describe()"
   ]
  },
  {
   "cell_type": "markdown",
   "id": "4eee2f8b-a398-4e5a-a317-b0d2e196d0e4",
   "metadata": {
    "id": "4eee2f8b-a398-4e5a-a317-b0d2e196d0e4"
   },
   "source": [
    "##### Variables cualitativas"
   ]
  },
  {
   "cell_type": "code",
   "execution_count": 14,
   "id": "b6b98f4e-33a0-426d-b796-af254d7e6db1",
   "metadata": {
    "colab": {
     "base_uri": "https://localhost:8080/"
    },
    "id": "b6b98f4e-33a0-426d-b796-af254d7e6db1",
    "outputId": "40935485-7019-464a-ae0d-eca94d382777",
    "tags": []
   },
   "outputs": [
    {
     "name": "stdout",
     "output_type": "stream",
     "text": [
      "1: periodoA\n",
      "2: osf\n",
      "3: osf_Proyecto\n",
      "4: nombreExp\n",
      "5: crn\n",
      "6: periodo\n",
      "7: semana\n",
      "8: formato\n",
      "9: fechaInicio\n",
      "10: finalizado\n",
      "11: fechaFin\n",
      "12: fechaRegistrada\n",
      "13: id\n",
      "14: idRespuesta\n",
      "15: tipoRespuesta\n",
      "16: idioma\n",
      "17: ip\n",
      "18: matricula\n",
      "19: apellidoDest\n",
      "20: canalDist\n",
      "21: p1_a\n",
      "22: p1_b\n",
      "23: p1_c\n",
      "24: p1_e\n",
      "25: p1_f\n",
      "26: p1_g\n",
      "27: p1_h\n",
      "28: p1_i\n",
      "29: p2\n",
      "30: p3\n",
      "31: p4\n",
      "32: p5_a\n",
      "33: p5_b\n",
      "34: p5_c\n",
      "35: p5_e\n",
      "36: p6\n",
      "37: p6.1\n"
     ]
    }
   ],
   "source": [
    "v_cualitativas = list(df_m.columns)\n",
    "for x in v_cuantitativas:\n",
    "    v_cualitativas.remove(x)\n",
    "\n",
    "# Remover columnas con 100% valores nulos para evitar errores\n",
    "v_cualitativas.remove('nombreDest')\n",
    "v_cualitativas.remove('mailDest')\n",
    "v_cualitativas.remove('datRefExt')\n",
    "\n",
    "for i,y in enumerate(v_cualitativas):\n",
    "    print(f'{i+1}: {y}')\n",
    "\n",
    "#'periodoA', 'crn', 'semana', 'formato', 'progreso', 'idioma'"
   ]
  },
  {
   "cell_type": "code",
   "execution_count": 15,
   "id": "24dfd8fa-55fa-421c-b2a5-123697055b78",
   "metadata": {
    "colab": {
     "base_uri": "https://localhost:8080/",
     "height": 1000
    },
    "id": "24dfd8fa-55fa-421c-b2a5-123697055b78",
    "outputId": "33b08757-4f86-419a-ceea-da3e0835cc11"
   },
   "outputs": [
    {
     "data": {
      "text/html": [
       "<div>\n",
       "<style scoped>\n",
       "    .dataframe tbody tr th:only-of-type {\n",
       "        vertical-align: middle;\n",
       "    }\n",
       "\n",
       "    .dataframe tbody tr th {\n",
       "        vertical-align: top;\n",
       "    }\n",
       "\n",
       "    .dataframe thead th {\n",
       "        text-align: right;\n",
       "    }\n",
       "</style>\n",
       "<table border=\"1\" class=\"dataframe\">\n",
       "  <thead>\n",
       "    <tr style=\"text-align: right;\">\n",
       "      <th></th>\n",
       "      <th>Mode</th>\n",
       "      <th>Valores diferentes</th>\n",
       "    </tr>\n",
       "  </thead>\n",
       "  <tbody>\n",
       "    <tr>\n",
       "      <th>periodoA</th>\n",
       "      <td>INV22</td>\n",
       "      <td>5</td>\n",
       "    </tr>\n",
       "    <tr>\n",
       "      <th>osf</th>\n",
       "      <td>Dirección de Servicio Social</td>\n",
       "      <td>252</td>\n",
       "    </tr>\n",
       "    <tr>\n",
       "      <th>osf_Proyecto</th>\n",
       "      <td>Proeducación IAP, Jóvenes Ayudando a Niñas y N...</td>\n",
       "      <td>479</td>\n",
       "    </tr>\n",
       "    <tr>\n",
       "      <th>nombreExp</th>\n",
       "      <td>Aprendamos Juntos: Tutor Académico Matématicas</td>\n",
       "      <td>237</td>\n",
       "    </tr>\n",
       "    <tr>\n",
       "      <th>crn</th>\n",
       "      <td>444.0</td>\n",
       "      <td>613</td>\n",
       "    </tr>\n",
       "    <tr>\n",
       "      <th>periodo</th>\n",
       "      <td>3.0</td>\n",
       "      <td>4</td>\n",
       "    </tr>\n",
       "    <tr>\n",
       "      <th>semana</th>\n",
       "      <td>01-mar</td>\n",
       "      <td>5</td>\n",
       "    </tr>\n",
       "    <tr>\n",
       "      <th>formato</th>\n",
       "      <td>Regular</td>\n",
       "      <td>1</td>\n",
       "    </tr>\n",
       "    <tr>\n",
       "      <th>fechaInicio</th>\n",
       "      <td>25/11/2021 10:17</td>\n",
       "      <td>8295</td>\n",
       "    </tr>\n",
       "    <tr>\n",
       "      <th>finalizado</th>\n",
       "      <td>True</td>\n",
       "      <td>2</td>\n",
       "    </tr>\n",
       "    <tr>\n",
       "      <th>fechaFin</th>\n",
       "      <td>06/06/2022 16:34</td>\n",
       "      <td>8377</td>\n",
       "    </tr>\n",
       "    <tr>\n",
       "      <th>fechaRegistrada</th>\n",
       "      <td>06/06/2022 16:34</td>\n",
       "      <td>8373</td>\n",
       "    </tr>\n",
       "    <tr>\n",
       "      <th>id</th>\n",
       "      <td>@00001</td>\n",
       "      <td>4436</td>\n",
       "    </tr>\n",
       "    <tr>\n",
       "      <th>idRespuesta</th>\n",
       "      <td>R_00MFXuu5J5IxilX</td>\n",
       "      <td>10499</td>\n",
       "    </tr>\n",
       "    <tr>\n",
       "      <th>tipoRespuesta</th>\n",
       "      <td>IP Address</td>\n",
       "      <td>3</td>\n",
       "    </tr>\n",
       "    <tr>\n",
       "      <th>idioma</th>\n",
       "      <td>ES-ES</td>\n",
       "      <td>1</td>\n",
       "    </tr>\n",
       "    <tr>\n",
       "      <th>ip</th>\n",
       "      <td>131.178.200.61</td>\n",
       "      <td>7896</td>\n",
       "    </tr>\n",
       "    <tr>\n",
       "      <th>matricula</th>\n",
       "      <td>A00828772</td>\n",
       "      <td>2690</td>\n",
       "    </tr>\n",
       "    <tr>\n",
       "      <th>apellidoDest</th>\n",
       "      <td>González Garza</td>\n",
       "      <td>2599</td>\n",
       "    </tr>\n",
       "    <tr>\n",
       "      <th>canalDist</th>\n",
       "      <td>anonymous</td>\n",
       "      <td>4</td>\n",
       "    </tr>\n",
       "    <tr>\n",
       "      <th>p1_a</th>\n",
       "      <td>\\n5 Muy Satisfecho</td>\n",
       "      <td>5</td>\n",
       "    </tr>\n",
       "    <tr>\n",
       "      <th>p1_b</th>\n",
       "      <td>\\n5 Muy Satisfecho</td>\n",
       "      <td>5</td>\n",
       "    </tr>\n",
       "    <tr>\n",
       "      <th>p1_c</th>\n",
       "      <td>\\n5 Muy Satisfecho</td>\n",
       "      <td>5</td>\n",
       "    </tr>\n",
       "    <tr>\n",
       "      <th>p1_e</th>\n",
       "      <td>\\n5 Muy Satisfecho</td>\n",
       "      <td>5</td>\n",
       "    </tr>\n",
       "    <tr>\n",
       "      <th>p1_f</th>\n",
       "      <td>\\n5 Muy Satisfecho</td>\n",
       "      <td>5</td>\n",
       "    </tr>\n",
       "    <tr>\n",
       "      <th>p1_g</th>\n",
       "      <td>\\n5 Muy Satisfecho</td>\n",
       "      <td>5</td>\n",
       "    </tr>\n",
       "    <tr>\n",
       "      <th>p1_h</th>\n",
       "      <td>\\n5 Muy Satisfecho</td>\n",
       "      <td>5</td>\n",
       "    </tr>\n",
       "    <tr>\n",
       "      <th>p1_i</th>\n",
       "      <td>\\n5 Muy Satisfecho</td>\n",
       "      <td>5</td>\n",
       "    </tr>\n",
       "    <tr>\n",
       "      <th>p2</th>\n",
       "      <td>Sí</td>\n",
       "      <td>2</td>\n",
       "    </tr>\n",
       "    <tr>\n",
       "      <th>p3</th>\n",
       "      <td>Sí</td>\n",
       "      <td>2</td>\n",
       "    </tr>\n",
       "    <tr>\n",
       "      <th>p4</th>\n",
       "      <td>.</td>\n",
       "      <td>9140</td>\n",
       "    </tr>\n",
       "    <tr>\n",
       "      <th>p5_a</th>\n",
       "      <td>\\n5 Totalmente de Acuerdo</td>\n",
       "      <td>5</td>\n",
       "    </tr>\n",
       "    <tr>\n",
       "      <th>p5_b</th>\n",
       "      <td>\\n5 Totalmente de Acuerdo</td>\n",
       "      <td>5</td>\n",
       "    </tr>\n",
       "    <tr>\n",
       "      <th>p5_c</th>\n",
       "      <td>\\n5 Totalmente de Acuerdo</td>\n",
       "      <td>5</td>\n",
       "    </tr>\n",
       "    <tr>\n",
       "      <th>p5_e</th>\n",
       "      <td>\\n5 Totalmente de Acuerdo</td>\n",
       "      <td>5</td>\n",
       "    </tr>\n",
       "    <tr>\n",
       "      <th>p6</th>\n",
       "      <td>.</td>\n",
       "      <td>8321</td>\n",
       "    </tr>\n",
       "    <tr>\n",
       "      <th>p6.1</th>\n",
       "      <td>Reconocimiento</td>\n",
       "      <td>2</td>\n",
       "    </tr>\n",
       "  </tbody>\n",
       "</table>\n",
       "</div>"
      ],
      "text/plain": [
       "                                                              Mode  \\\n",
       "periodoA                                                     INV22   \n",
       "osf                                   Dirección de Servicio Social   \n",
       "osf_Proyecto     Proeducación IAP, Jóvenes Ayudando a Niñas y N...   \n",
       "nombreExp           Aprendamos Juntos: Tutor Académico Matématicas   \n",
       "crn                                                          444.0   \n",
       "periodo                                                        3.0   \n",
       "semana                                                      01-mar   \n",
       "formato                                                    Regular   \n",
       "fechaInicio                                       25/11/2021 10:17   \n",
       "finalizado                                                    True   \n",
       "fechaFin                                          06/06/2022 16:34   \n",
       "fechaRegistrada                                   06/06/2022 16:34   \n",
       "id                                                          @00001   \n",
       "idRespuesta                                      R_00MFXuu5J5IxilX   \n",
       "tipoRespuesta                                           IP Address   \n",
       "idioma                                                       ES-ES   \n",
       "ip                                                  131.178.200.61   \n",
       "matricula                                                A00828772   \n",
       "apellidoDest                                        González Garza   \n",
       "canalDist                                                anonymous   \n",
       "p1_a                                            \\n5 Muy Satisfecho   \n",
       "p1_b                                            \\n5 Muy Satisfecho   \n",
       "p1_c                                            \\n5 Muy Satisfecho   \n",
       "p1_e                                            \\n5 Muy Satisfecho   \n",
       "p1_f                                            \\n5 Muy Satisfecho   \n",
       "p1_g                                            \\n5 Muy Satisfecho   \n",
       "p1_h                                            \\n5 Muy Satisfecho   \n",
       "p1_i                                            \\n5 Muy Satisfecho   \n",
       "p2                                                              Sí   \n",
       "p3                                                              Sí   \n",
       "p4                                                               .   \n",
       "p5_a                                     \\n5 Totalmente de Acuerdo   \n",
       "p5_b                                     \\n5 Totalmente de Acuerdo   \n",
       "p5_c                                     \\n5 Totalmente de Acuerdo   \n",
       "p5_e                                     \\n5 Totalmente de Acuerdo   \n",
       "p6                                                               .   \n",
       "p6.1                                                Reconocimiento   \n",
       "\n",
       "                 Valores diferentes  \n",
       "periodoA                          5  \n",
       "osf                             252  \n",
       "osf_Proyecto                    479  \n",
       "nombreExp                       237  \n",
       "crn                             613  \n",
       "periodo                           4  \n",
       "semana                            5  \n",
       "formato                           1  \n",
       "fechaInicio                    8295  \n",
       "finalizado                        2  \n",
       "fechaFin                       8377  \n",
       "fechaRegistrada                8373  \n",
       "id                             4436  \n",
       "idRespuesta                   10499  \n",
       "tipoRespuesta                     3  \n",
       "idioma                            1  \n",
       "ip                             7896  \n",
       "matricula                      2690  \n",
       "apellidoDest                   2599  \n",
       "canalDist                         4  \n",
       "p1_a                              5  \n",
       "p1_b                              5  \n",
       "p1_c                              5  \n",
       "p1_e                              5  \n",
       "p1_f                              5  \n",
       "p1_g                              5  \n",
       "p1_h                              5  \n",
       "p1_i                              5  \n",
       "p2                                2  \n",
       "p3                                2  \n",
       "p4                             9140  \n",
       "p5_a                              5  \n",
       "p5_b                              5  \n",
       "p5_c                              5  \n",
       "p5_e                              5  \n",
       "p6                             8321  \n",
       "p6.1                              2  "
      ]
     },
     "execution_count": 15,
     "metadata": {},
     "output_type": "execute_result"
    }
   ],
   "source": [
    "dict_mode = {}\n",
    "\n",
    "for x in v_cualitativas:\n",
    "    dict_mode[x] = df_m[x].mode()[0]\n",
    "    #print(f'{x}: {df_m[x].mode()[0]}')\n",
    "\n",
    "\n",
    "df_vCual = pd.DataFrame.from_dict(dict_mode, orient='index').rename(columns={0:'Mode'})\n",
    "\n",
    "df_vCual['Valores diferentes'] = [len(df_m[x].value_counts()) for x in v_cualitativas]\n",
    "df_vCual"
   ]
  },
  {
   "cell_type": "markdown",
   "id": "49bafb33-499f-410f-a8f1-cb8170b88845",
   "metadata": {
    "id": "49bafb33-499f-410f-a8f1-cb8170b88845"
   },
   "source": [
    "#### II.4.2 EDA Univariado"
   ]
  },
  {
   "cell_type": "markdown",
   "id": "b9d6fe40-a488-4a37-975b-90dcd62cdd64",
   "metadata": {
    "id": "b9d6fe40-a488-4a37-975b-90dcd62cdd64"
   },
   "source": [
    "##### A) Variables cuantitativas"
   ]
  },
  {
   "cell_type": "code",
   "execution_count": 16,
   "id": "3fppgvRtu23p",
   "metadata": {
    "colab": {
     "base_uri": "https://localhost:8080/"
    },
    "id": "3fppgvRtu23p",
    "outputId": "a8687adb-604a-4f86-c686-2d007800ba7f"
   },
   "outputs": [
    {
     "name": "stdout",
     "output_type": "stream",
     "text": [
      "Index(['periodoA', 'osf', 'osf_Proyecto', 'nombreExp', 'crn', 'periodo',\n",
      "       'semana', 'formato', 'fechaInicio', 'progreso', 'duracion',\n",
      "       'finalizado', 'fechaFin', 'fechaRegistrada', 'id', 'idRespuesta',\n",
      "       'tipoRespuesta', 'idioma', 'ip', 'matricula', 'latitud', 'longitud',\n",
      "       'nombreDest', 'apellidoDest', 'mailDest', 'datRefExt', 'canalDist',\n",
      "       'p1_a', 'p1_b', 'p1_c', 'p1_e', 'p1_f', 'p1_g', 'p1_h', 'p1_i', 'p2',\n",
      "       'p3', 'p4', 'p5_a', 'p5_b', 'p5_c', 'p5_e', 'p6', 'p6.1'],\n",
      "      dtype='object')\n"
     ]
    },
    {
     "data": {
      "text/plain": [
       "['progreso', 'duracion', 'latitud', 'longitud']"
      ]
     },
     "execution_count": 16,
     "metadata": {},
     "output_type": "execute_result"
    }
   ],
   "source": [
    "print(df_m.columns)\n",
    "v_cuantitativas"
   ]
  },
  {
   "cell_type": "code",
   "execution_count": 17,
   "id": "133f31ba-df50-4be5-9325-7d0a8e9d2616",
   "metadata": {
    "colab": {
     "base_uri": "https://localhost:8080/",
     "height": 493
    },
    "id": "133f31ba-df50-4be5-9325-7d0a8e9d2616",
    "outputId": "7c63ec29-1bb5-4a9f-b58a-33942042c7b3"
   },
   "outputs": [
    {
     "data": {
      "image/png": "[encoded data removed]",
      "text/plain": [
       "<Figure size 1600x200 with 4 Axes>"
      ]
     },
     "metadata": {},
     "output_type": "display_data"
    },
    {
     "data": {
      "image/png": "[encoded data removed]",
      "text/plain": [
       "<Figure size 1650x200 with 4 Axes>"
      ]
     },
     "metadata": {},
     "output_type": "display_data"
    }
   ],
   "source": [
    "# Gráficos de barras\n",
    "plt.subplots(1, 4, figsize=(16, 2))\n",
    "\n",
    "for idx, i in enumerate(v_cuantitativas):\n",
    "    plt.subplot(1, 4, idx+1)\n",
    "    plt.hist(df_m[i], color='deepskyblue')\n",
    "    plt.title(i)\n",
    "    plt.grid(True)\n",
    "\n",
    "\n",
    "# Gráficos de caja\n",
    "plt.subplots(1, 4, figsize=(16.5, 2))\n",
    "\n",
    "for idx, i in enumerate(v_cuantitativas):\n",
    "    plt.subplot(1, 4, idx+1)\n",
    "    pd.DataFrame(df_m[i]).boxplot(vert=False)\n",
    "\n",
    "    plt.yticks([])\n",
    "    plt.grid(True)\n",
    "    plt.title(i)\n",
    "\n",
    "#plt.tight_layout(pad = 0.5)\n",
    "plt.show()"
   ]
  },
  {
   "cell_type": "markdown",
   "id": "e39f88cc-4393-46d7-8d79-7598ecae3f2b",
   "metadata": {
    "id": "e39f88cc-4393-46d7-8d79-7598ecae3f2b"
   },
   "source": [
    "##### A) Variables cualitativas"
   ]
  },
  {
   "cell_type": "code",
   "execution_count": 18,
   "id": "d5b29c3d-45eb-420d-a2e9-9a7ac3f6cc44",
   "metadata": {
    "colab": {
     "base_uri": "https://localhost:8080/",
     "height": 1000
    },
    "id": "d5b29c3d-45eb-420d-a2e9-9a7ac3f6cc44",
    "outputId": "2f67ab25-c0c6-459e-c092-43a06577ff86",
    "tags": []
   },
   "outputs": [
    {
     "data": {
      "image/png": "[encoded data removed]",
      "text/plain": [
       "<Figure size 1200x1800 with 24 Axes>"
      ]
     },
     "metadata": {},
     "output_type": "display_data"
    }
   ],
   "source": [
    "# Variables cualitativas con menos de 10 valores distintos\n",
    "vc = []\n",
    "\n",
    "for x in v_cualitativas:\n",
    "    if (len(df_m[x].value_counts()) < 10):\n",
    "        vc.append(x)\n",
    "\n",
    "\n",
    "\n",
    "# Gráficos de pastel\n",
    "plt.subplots(8, 3, figsize=(12, 18))\n",
    "\n",
    "for idx, i in enumerate(vc):\n",
    "\n",
    "    plt.subplot(8, 3, idx+1)\n",
    "    plt.pie(df_m[i].dropna().value_counts(),\n",
    "           labels=df_m[i].dropna().unique(),\n",
    "           labeldistance=1.3)\n",
    "    plt.title(i)\n",
    "\n",
    "plt.subplot(8, 3, len(vc)+1)\n",
    "plt.pie(df_m[vc[0]].dropna().value_counts(),\n",
    "        labels=df_m[vc[0]].dropna().unique(),\n",
    "        labeldistance=1.3)\n",
    "plt.title(vc[0])\n",
    "\n",
    "plt.tight_layout(pad = 0.5)\n",
    "plt.show()"
   ]
  },
  {
   "cell_type": "markdown",
   "id": "7b0f1977-c92a-4815-8ff7-a81603cf4beb",
   "metadata": {
    "id": "7b0f1977-c92a-4815-8ff7-a81603cf4beb"
   },
   "source": [
    "#### II.4.3 EDA Multivariado"
   ]
  },
  {
   "cell_type": "markdown",
   "id": "18a5accc-8636-405e-a496-41b15ea4db62",
   "metadata": {
    "id": "18a5accc-8636-405e-a496-41b15ea4db62"
   },
   "source": [
    "##### A) Variables cuantitativas"
   ]
  },
  {
   "cell_type": "code",
   "execution_count": 19,
   "id": "4d95c9d0-f1a2-42a9-a659-c5b910e652a6",
   "metadata": {
    "colab": {
     "base_uri": "https://localhost:8080/",
     "height": 175
    },
    "id": "4d95c9d0-f1a2-42a9-a659-c5b910e652a6",
    "outputId": "e1fbb986-5893-4ceb-bdc7-8dd73cc81e52"
   },
   "outputs": [
    {
     "data": {
      "text/html": [
       "<style type=\"text/css\">\n",
       "#T_96049_row0_col0, #T_96049_row1_col1, #T_96049_row2_col2, #T_96049_row3_col3 {\n",
       "  background-color: #b40426;\n",
       "  color: #f1f1f1;\n",
       "}\n",
       "#T_96049_row0_col1, #T_96049_row1_col0 {\n",
       "  background-color: #3e51c5;\n",
       "  color: #f1f1f1;\n",
       "}\n",
       "#T_96049_row0_col2, #T_96049_row0_col3, #T_96049_row2_col0, #T_96049_row3_col0 {\n",
       "  background-color: #000000;\n",
       "  color: #f1f1f1;\n",
       "}\n",
       "#T_96049_row1_col2, #T_96049_row2_col1 {\n",
       "  background-color: #3b4cc0;\n",
       "  color: #f1f1f1;\n",
       "}\n",
       "#T_96049_row1_col3, #T_96049_row3_col1 {\n",
       "  background-color: #3c4ec2;\n",
       "  color: #f1f1f1;\n",
       "}\n",
       "#T_96049_row2_col3, #T_96049_row3_col2 {\n",
       "  background-color: #5d7ce6;\n",
       "  color: #f1f1f1;\n",
       "}\n",
       "</style>\n",
       "<table id=\"T_96049\">\n",
       "  <thead>\n",
       "    <tr>\n",
       "      <th class=\"blank level0\" >&nbsp;</th>\n",
       "      <th id=\"T_96049_level0_col0\" class=\"col_heading level0 col0\" >progreso</th>\n",
       "      <th id=\"T_96049_level0_col1\" class=\"col_heading level0 col1\" >duracion</th>\n",
       "      <th id=\"T_96049_level0_col2\" class=\"col_heading level0 col2\" >latitud</th>\n",
       "      <th id=\"T_96049_level0_col3\" class=\"col_heading level0 col3\" >longitud</th>\n",
       "    </tr>\n",
       "  </thead>\n",
       "  <tbody>\n",
       "    <tr>\n",
       "      <th id=\"T_96049_level0_row0\" class=\"row_heading level0 row0\" >progreso</th>\n",
       "      <td id=\"T_96049_row0_col0\" class=\"data row0 col0\" >1.00</td>\n",
       "      <td id=\"T_96049_row0_col1\" class=\"data row0 col1\" >0.00</td>\n",
       "      <td id=\"T_96049_row0_col2\" class=\"data row0 col2\" >nan</td>\n",
       "      <td id=\"T_96049_row0_col3\" class=\"data row0 col3\" >nan</td>\n",
       "    </tr>\n",
       "    <tr>\n",
       "      <th id=\"T_96049_level0_row1\" class=\"row_heading level0 row1\" >duracion</th>\n",
       "      <td id=\"T_96049_row1_col0\" class=\"data row1 col0\" >0.00</td>\n",
       "      <td id=\"T_96049_row1_col1\" class=\"data row1 col1\" >1.00</td>\n",
       "      <td id=\"T_96049_row1_col2\" class=\"data row1 col2\" >-0.01</td>\n",
       "      <td id=\"T_96049_row1_col3\" class=\"data row1 col3\" >-0.01</td>\n",
       "    </tr>\n",
       "    <tr>\n",
       "      <th id=\"T_96049_level0_row2\" class=\"row_heading level0 row2\" >latitud</th>\n",
       "      <td id=\"T_96049_row2_col0\" class=\"data row2 col0\" >nan</td>\n",
       "      <td id=\"T_96049_row2_col1\" class=\"data row2 col1\" >-0.01</td>\n",
       "      <td id=\"T_96049_row2_col2\" class=\"data row2 col2\" >1.00</td>\n",
       "      <td id=\"T_96049_row2_col3\" class=\"data row2 col3\" >0.10</td>\n",
       "    </tr>\n",
       "    <tr>\n",
       "      <th id=\"T_96049_level0_row3\" class=\"row_heading level0 row3\" >longitud</th>\n",
       "      <td id=\"T_96049_row3_col0\" class=\"data row3 col0\" >nan</td>\n",
       "      <td id=\"T_96049_row3_col1\" class=\"data row3 col1\" >-0.01</td>\n",
       "      <td id=\"T_96049_row3_col2\" class=\"data row3 col2\" >0.10</td>\n",
       "      <td id=\"T_96049_row3_col3\" class=\"data row3 col3\" >1.00</td>\n",
       "    </tr>\n",
       "  </tbody>\n",
       "</table>\n"
      ],
      "text/plain": [
       "<pandas.io.formats.style.Styler at 0x1b93d1ba3b0>"
      ]
     },
     "execution_count": 19,
     "metadata": {},
     "output_type": "execute_result"
    }
   ],
   "source": [
    "df_m[v_cuantitativas].corr('pearson')\\\n",
    ".style.background_gradient(cmap='coolwarm',\n",
    "                           axis=None).format(precision=2)"
   ]
  },
  {
   "cell_type": "markdown",
   "id": "5ec3ea0b-d391-4e8e-8c96-252fddd5cab1",
   "metadata": {
    "id": "5ec3ea0b-d391-4e8e-8c96-252fddd5cab1"
   },
   "source": [
    "### II.5 Verificación de calidad de los datos"
   ]
  },
  {
   "cell_type": "markdown",
   "id": "dfee803d-abfd-4354-a6e3-e8769d6b5fe9",
   "metadata": {
    "id": "dfee803d-abfd-4354-a6e3-e8769d6b5fe9"
   },
   "source": [
    "#### II.5.1 Complitud\n",
    "\n",
    "Obtener el porcentaje de valores nulos o faltantes por columna"
   ]
  },
  {
   "cell_type": "code",
   "execution_count": 20,
   "id": "565bdaa0-d261-47ac-8681-399493eeabf8",
   "metadata": {
    "colab": {
     "base_uri": "https://localhost:8080/",
     "height": 1000
    },
    "id": "565bdaa0-d261-47ac-8681-399493eeabf8",
    "outputId": "69a6a0eb-468c-47b1-f245-4c621d9ea04e"
   },
   "outputs": [
    {
     "data": {
      "text/html": [
       "<div>\n",
       "<style scoped>\n",
       "    .dataframe tbody tr th:only-of-type {\n",
       "        vertical-align: middle;\n",
       "    }\n",
       "\n",
       "    .dataframe tbody tr th {\n",
       "        vertical-align: top;\n",
       "    }\n",
       "\n",
       "    .dataframe thead th {\n",
       "        text-align: right;\n",
       "    }\n",
       "</style>\n",
       "<table border=\"1\" class=\"dataframe\">\n",
       "  <thead>\n",
       "    <tr style=\"text-align: right;\">\n",
       "      <th></th>\n",
       "      <th>0</th>\n",
       "    </tr>\n",
       "  </thead>\n",
       "  <tbody>\n",
       "    <tr>\n",
       "      <th>periodoA</th>\n",
       "      <td>0.000</td>\n",
       "    </tr>\n",
       "    <tr>\n",
       "      <th>osf</th>\n",
       "      <td>44.719</td>\n",
       "    </tr>\n",
       "    <tr>\n",
       "      <th>osf_Proyecto</th>\n",
       "      <td>59.625</td>\n",
       "    </tr>\n",
       "    <tr>\n",
       "      <th>nombreExp</th>\n",
       "      <td>82.932</td>\n",
       "    </tr>\n",
       "    <tr>\n",
       "      <th>crn</th>\n",
       "      <td>44.719</td>\n",
       "    </tr>\n",
       "    <tr>\n",
       "      <th>periodo</th>\n",
       "      <td>82.932</td>\n",
       "    </tr>\n",
       "    <tr>\n",
       "      <th>semana</th>\n",
       "      <td>83.056</td>\n",
       "    </tr>\n",
       "    <tr>\n",
       "      <th>formato</th>\n",
       "      <td>82.932</td>\n",
       "    </tr>\n",
       "    <tr>\n",
       "      <th>fechaInicio</th>\n",
       "      <td>0.000</td>\n",
       "    </tr>\n",
       "    <tr>\n",
       "      <th>progreso</th>\n",
       "      <td>0.000</td>\n",
       "    </tr>\n",
       "    <tr>\n",
       "      <th>duracion</th>\n",
       "      <td>0.000</td>\n",
       "    </tr>\n",
       "    <tr>\n",
       "      <th>finalizado</th>\n",
       "      <td>0.000</td>\n",
       "    </tr>\n",
       "    <tr>\n",
       "      <th>fechaFin</th>\n",
       "      <td>0.000</td>\n",
       "    </tr>\n",
       "    <tr>\n",
       "      <th>fechaRegistrada</th>\n",
       "      <td>0.000</td>\n",
       "    </tr>\n",
       "    <tr>\n",
       "      <th>id</th>\n",
       "      <td>0.000</td>\n",
       "    </tr>\n",
       "    <tr>\n",
       "      <th>idRespuesta</th>\n",
       "      <td>0.000</td>\n",
       "    </tr>\n",
       "    <tr>\n",
       "      <th>tipoRespuesta</th>\n",
       "      <td>0.000</td>\n",
       "    </tr>\n",
       "    <tr>\n",
       "      <th>idioma</th>\n",
       "      <td>0.000</td>\n",
       "    </tr>\n",
       "    <tr>\n",
       "      <th>ip</th>\n",
       "      <td>0.029</td>\n",
       "    </tr>\n",
       "    <tr>\n",
       "      <th>matricula</th>\n",
       "      <td>73.674</td>\n",
       "    </tr>\n",
       "    <tr>\n",
       "      <th>latitud</th>\n",
       "      <td>0.038</td>\n",
       "    </tr>\n",
       "    <tr>\n",
       "      <th>longitud</th>\n",
       "      <td>0.038</td>\n",
       "    </tr>\n",
       "    <tr>\n",
       "      <th>nombreDest</th>\n",
       "      <td>100.000</td>\n",
       "    </tr>\n",
       "    <tr>\n",
       "      <th>apellidoDest</th>\n",
       "      <td>69.369</td>\n",
       "    </tr>\n",
       "    <tr>\n",
       "      <th>mailDest</th>\n",
       "      <td>100.000</td>\n",
       "    </tr>\n",
       "    <tr>\n",
       "      <th>datRefExt</th>\n",
       "      <td>100.000</td>\n",
       "    </tr>\n",
       "    <tr>\n",
       "      <th>canalDist</th>\n",
       "      <td>14.478</td>\n",
       "    </tr>\n",
       "    <tr>\n",
       "      <th>p1_a</th>\n",
       "      <td>0.019</td>\n",
       "    </tr>\n",
       "    <tr>\n",
       "      <th>p1_b</th>\n",
       "      <td>0.019</td>\n",
       "    </tr>\n",
       "    <tr>\n",
       "      <th>p1_c</th>\n",
       "      <td>0.019</td>\n",
       "    </tr>\n",
       "    <tr>\n",
       "      <th>p1_e</th>\n",
       "      <td>0.019</td>\n",
       "    </tr>\n",
       "    <tr>\n",
       "      <th>p1_f</th>\n",
       "      <td>0.019</td>\n",
       "    </tr>\n",
       "    <tr>\n",
       "      <th>p1_g</th>\n",
       "      <td>0.019</td>\n",
       "    </tr>\n",
       "    <tr>\n",
       "      <th>p1_h</th>\n",
       "      <td>0.019</td>\n",
       "    </tr>\n",
       "    <tr>\n",
       "      <th>p1_i</th>\n",
       "      <td>0.019</td>\n",
       "    </tr>\n",
       "    <tr>\n",
       "      <th>p2</th>\n",
       "      <td>0.019</td>\n",
       "    </tr>\n",
       "    <tr>\n",
       "      <th>p3</th>\n",
       "      <td>0.019</td>\n",
       "    </tr>\n",
       "    <tr>\n",
       "      <th>p4</th>\n",
       "      <td>1.533</td>\n",
       "    </tr>\n",
       "    <tr>\n",
       "      <th>p5_a</th>\n",
       "      <td>0.019</td>\n",
       "    </tr>\n",
       "    <tr>\n",
       "      <th>p5_b</th>\n",
       "      <td>0.019</td>\n",
       "    </tr>\n",
       "    <tr>\n",
       "      <th>p5_c</th>\n",
       "      <td>0.019</td>\n",
       "    </tr>\n",
       "    <tr>\n",
       "      <th>p5_e</th>\n",
       "      <td>0.019</td>\n",
       "    </tr>\n",
       "    <tr>\n",
       "      <th>p6</th>\n",
       "      <td>13.611</td>\n",
       "    </tr>\n",
       "    <tr>\n",
       "      <th>p6.1</th>\n",
       "      <td>13.668</td>\n",
       "    </tr>\n",
       "  </tbody>\n",
       "</table>\n",
       "</div>"
      ],
      "text/plain": [
       "                       0\n",
       "periodoA           0.000\n",
       "osf               44.719\n",
       "osf_Proyecto      59.625\n",
       "nombreExp         82.932\n",
       "crn               44.719\n",
       "periodo           82.932\n",
       "semana            83.056\n",
       "formato           82.932\n",
       "fechaInicio        0.000\n",
       "progreso           0.000\n",
       "duracion           0.000\n",
       "finalizado         0.000\n",
       "fechaFin           0.000\n",
       "fechaRegistrada    0.000\n",
       "id                 0.000\n",
       "idRespuesta        0.000\n",
       "tipoRespuesta      0.000\n",
       "idioma             0.000\n",
       "ip                 0.029\n",
       "matricula         73.674\n",
       "latitud            0.038\n",
       "longitud           0.038\n",
       "nombreDest       100.000\n",
       "apellidoDest      69.369\n",
       "mailDest         100.000\n",
       "datRefExt        100.000\n",
       "canalDist         14.478\n",
       "p1_a               0.019\n",
       "p1_b               0.019\n",
       "p1_c               0.019\n",
       "p1_e               0.019\n",
       "p1_f               0.019\n",
       "p1_g               0.019\n",
       "p1_h               0.019\n",
       "p1_i               0.019\n",
       "p2                 0.019\n",
       "p3                 0.019\n",
       "p4                 1.533\n",
       "p5_a               0.019\n",
       "p5_b               0.019\n",
       "p5_c               0.019\n",
       "p5_e               0.019\n",
       "p6                13.611\n",
       "p6.1              13.668"
      ]
     },
     "execution_count": 20,
     "metadata": {},
     "output_type": "execute_result"
    }
   ],
   "source": [
    "pd.DataFrame(round(df_m.isnull().sum()/len(df_m)*100, 3))"
   ]
  },
  {
   "cell_type": "markdown",
   "id": "e5051a39-5778-4346-84d8-817f4d62b148",
   "metadata": {
    "id": "e5051a39-5778-4346-84d8-817f4d62b148"
   },
   "source": [
    "#### II.5.2 Conformidad\n",
    "\n",
    "Verificar si hay un mismo tipo de dato por columna"
   ]
  },
  {
   "cell_type": "code",
   "execution_count": 21,
   "id": "683d4322-de3c-48ba-bb56-6a354b8069f3",
   "metadata": {
    "colab": {
     "base_uri": "https://localhost:8080/",
     "height": 1000
    },
    "id": "683d4322-de3c-48ba-bb56-6a354b8069f3",
    "outputId": "57693446-70e9-44b5-871d-85de519682d2"
   },
   "outputs": [
    {
     "data": {
      "text/html": [
       "<div>\n",
       "<style scoped>\n",
       "    .dataframe tbody tr th:only-of-type {\n",
       "        vertical-align: middle;\n",
       "    }\n",
       "\n",
       "    .dataframe tbody tr th {\n",
       "        vertical-align: top;\n",
       "    }\n",
       "\n",
       "    .dataframe thead th {\n",
       "        text-align: right;\n",
       "    }\n",
       "</style>\n",
       "<table border=\"1\" class=\"dataframe\">\n",
       "  <thead>\n",
       "    <tr style=\"text-align: right;\">\n",
       "      <th></th>\n",
       "      <th>Tipos de datos en columna</th>\n",
       "    </tr>\n",
       "  </thead>\n",
       "  <tbody>\n",
       "    <tr>\n",
       "      <th>periodoA</th>\n",
       "      <td>&lt;class 'str'&gt;</td>\n",
       "    </tr>\n",
       "    <tr>\n",
       "      <th>osf</th>\n",
       "      <td>&lt;class 'str'&gt;</td>\n",
       "    </tr>\n",
       "    <tr>\n",
       "      <th>osf_Proyecto</th>\n",
       "      <td>&lt;class 'str'&gt;</td>\n",
       "    </tr>\n",
       "    <tr>\n",
       "      <th>nombreExp</th>\n",
       "      <td>&lt;class 'str'&gt;</td>\n",
       "    </tr>\n",
       "    <tr>\n",
       "      <th>crn</th>\n",
       "      <td>&lt;class 'float'&gt;</td>\n",
       "    </tr>\n",
       "    <tr>\n",
       "      <th>periodo</th>\n",
       "      <td>&lt;class 'float'&gt;</td>\n",
       "    </tr>\n",
       "    <tr>\n",
       "      <th>semana</th>\n",
       "      <td>&lt;class 'str'&gt;</td>\n",
       "    </tr>\n",
       "    <tr>\n",
       "      <th>formato</th>\n",
       "      <td>&lt;class 'str'&gt;</td>\n",
       "    </tr>\n",
       "    <tr>\n",
       "      <th>fechaInicio</th>\n",
       "      <td>&lt;class 'str'&gt;</td>\n",
       "    </tr>\n",
       "    <tr>\n",
       "      <th>progreso</th>\n",
       "      <td>&lt;class 'int'&gt;</td>\n",
       "    </tr>\n",
       "    <tr>\n",
       "      <th>duracion</th>\n",
       "      <td>&lt;class 'int'&gt;</td>\n",
       "    </tr>\n",
       "    <tr>\n",
       "      <th>finalizado</th>\n",
       "      <td>&lt;class 'bool'&gt;</td>\n",
       "    </tr>\n",
       "    <tr>\n",
       "      <th>fechaFin</th>\n",
       "      <td>&lt;class 'str'&gt;</td>\n",
       "    </tr>\n",
       "    <tr>\n",
       "      <th>fechaRegistrada</th>\n",
       "      <td>&lt;class 'str'&gt;</td>\n",
       "    </tr>\n",
       "    <tr>\n",
       "      <th>id</th>\n",
       "      <td>&lt;class 'str'&gt;</td>\n",
       "    </tr>\n",
       "    <tr>\n",
       "      <th>idRespuesta</th>\n",
       "      <td>&lt;class 'str'&gt;</td>\n",
       "    </tr>\n",
       "    <tr>\n",
       "      <th>tipoRespuesta</th>\n",
       "      <td>&lt;class 'str'&gt;</td>\n",
       "    </tr>\n",
       "    <tr>\n",
       "      <th>idioma</th>\n",
       "      <td>&lt;class 'str'&gt;</td>\n",
       "    </tr>\n",
       "    <tr>\n",
       "      <th>ip</th>\n",
       "      <td>&lt;class 'str'&gt;</td>\n",
       "    </tr>\n",
       "    <tr>\n",
       "      <th>matricula</th>\n",
       "      <td>&lt;class 'str'&gt;</td>\n",
       "    </tr>\n",
       "    <tr>\n",
       "      <th>latitud</th>\n",
       "      <td>&lt;class 'float'&gt;</td>\n",
       "    </tr>\n",
       "    <tr>\n",
       "      <th>longitud</th>\n",
       "      <td>&lt;class 'float'&gt;</td>\n",
       "    </tr>\n",
       "    <tr>\n",
       "      <th>nombreDest</th>\n",
       "      <td>None</td>\n",
       "    </tr>\n",
       "    <tr>\n",
       "      <th>apellidoDest</th>\n",
       "      <td>&lt;class 'str'&gt;</td>\n",
       "    </tr>\n",
       "    <tr>\n",
       "      <th>mailDest</th>\n",
       "      <td>None</td>\n",
       "    </tr>\n",
       "    <tr>\n",
       "      <th>datRefExt</th>\n",
       "      <td>None</td>\n",
       "    </tr>\n",
       "    <tr>\n",
       "      <th>canalDist</th>\n",
       "      <td>&lt;class 'str'&gt;</td>\n",
       "    </tr>\n",
       "    <tr>\n",
       "      <th>p1_a</th>\n",
       "      <td>&lt;class 'str'&gt;</td>\n",
       "    </tr>\n",
       "    <tr>\n",
       "      <th>p1_b</th>\n",
       "      <td>&lt;class 'str'&gt;</td>\n",
       "    </tr>\n",
       "    <tr>\n",
       "      <th>p1_c</th>\n",
       "      <td>&lt;class 'str'&gt;</td>\n",
       "    </tr>\n",
       "    <tr>\n",
       "      <th>p1_e</th>\n",
       "      <td>&lt;class 'str'&gt;</td>\n",
       "    </tr>\n",
       "    <tr>\n",
       "      <th>p1_f</th>\n",
       "      <td>&lt;class 'str'&gt;</td>\n",
       "    </tr>\n",
       "    <tr>\n",
       "      <th>p1_g</th>\n",
       "      <td>&lt;class 'str'&gt;</td>\n",
       "    </tr>\n",
       "    <tr>\n",
       "      <th>p1_h</th>\n",
       "      <td>&lt;class 'str'&gt;</td>\n",
       "    </tr>\n",
       "    <tr>\n",
       "      <th>p1_i</th>\n",
       "      <td>&lt;class 'str'&gt;</td>\n",
       "    </tr>\n",
       "    <tr>\n",
       "      <th>p2</th>\n",
       "      <td>&lt;class 'str'&gt;</td>\n",
       "    </tr>\n",
       "    <tr>\n",
       "      <th>p3</th>\n",
       "      <td>&lt;class 'str'&gt;</td>\n",
       "    </tr>\n",
       "    <tr>\n",
       "      <th>p4</th>\n",
       "      <td>&lt;class 'str'&gt;</td>\n",
       "    </tr>\n",
       "    <tr>\n",
       "      <th>p5_a</th>\n",
       "      <td>&lt;class 'str'&gt;</td>\n",
       "    </tr>\n",
       "    <tr>\n",
       "      <th>p5_b</th>\n",
       "      <td>&lt;class 'str'&gt;</td>\n",
       "    </tr>\n",
       "    <tr>\n",
       "      <th>p5_c</th>\n",
       "      <td>&lt;class 'str'&gt;</td>\n",
       "    </tr>\n",
       "    <tr>\n",
       "      <th>p5_e</th>\n",
       "      <td>&lt;class 'str'&gt;</td>\n",
       "    </tr>\n",
       "    <tr>\n",
       "      <th>p6</th>\n",
       "      <td>&lt;class 'str'&gt;</td>\n",
       "    </tr>\n",
       "    <tr>\n",
       "      <th>p6.1</th>\n",
       "      <td>&lt;class 'str'&gt;</td>\n",
       "    </tr>\n",
       "  </tbody>\n",
       "</table>\n",
       "</div>"
      ],
      "text/plain": [
       "                Tipos de datos en columna\n",
       "periodoA                    <class 'str'>\n",
       "osf                         <class 'str'>\n",
       "osf_Proyecto                <class 'str'>\n",
       "nombreExp                   <class 'str'>\n",
       "crn                       <class 'float'>\n",
       "periodo                   <class 'float'>\n",
       "semana                      <class 'str'>\n",
       "formato                     <class 'str'>\n",
       "fechaInicio                 <class 'str'>\n",
       "progreso                    <class 'int'>\n",
       "duracion                    <class 'int'>\n",
       "finalizado                 <class 'bool'>\n",
       "fechaFin                    <class 'str'>\n",
       "fechaRegistrada             <class 'str'>\n",
       "id                          <class 'str'>\n",
       "idRespuesta                 <class 'str'>\n",
       "tipoRespuesta               <class 'str'>\n",
       "idioma                      <class 'str'>\n",
       "ip                          <class 'str'>\n",
       "matricula                   <class 'str'>\n",
       "latitud                   <class 'float'>\n",
       "longitud                  <class 'float'>\n",
       "nombreDest                           None\n",
       "apellidoDest                <class 'str'>\n",
       "mailDest                             None\n",
       "datRefExt                            None\n",
       "canalDist                   <class 'str'>\n",
       "p1_a                        <class 'str'>\n",
       "p1_b                        <class 'str'>\n",
       "p1_c                        <class 'str'>\n",
       "p1_e                        <class 'str'>\n",
       "p1_f                        <class 'str'>\n",
       "p1_g                        <class 'str'>\n",
       "p1_h                        <class 'str'>\n",
       "p1_i                        <class 'str'>\n",
       "p2                          <class 'str'>\n",
       "p3                          <class 'str'>\n",
       "p4                          <class 'str'>\n",
       "p5_a                        <class 'str'>\n",
       "p5_b                        <class 'str'>\n",
       "p5_c                        <class 'str'>\n",
       "p5_e                        <class 'str'>\n",
       "p6                          <class 'str'>\n",
       "p6.1                        <class 'str'>"
      ]
     },
     "execution_count": 21,
     "metadata": {},
     "output_type": "execute_result"
    }
   ],
   "source": [
    "dict_c = {}\n",
    "\n",
    "for col in df_m.columns:\n",
    "    l = []\n",
    "    for t in df_m[col].value_counts().index:\n",
    "        l.append(type(t))\n",
    "\n",
    "    dict_c[col] = set(l)\n",
    "\n",
    "pd.DataFrame.from_dict(dict_c, orient='index').rename(columns={0:'Tipos de datos en columna'})"
   ]
  },
  {
   "cell_type": "markdown",
   "id": "90f46ca0-b523-464d-b465-149d0114245f",
   "metadata": {
    "id": "90f46ca0-b523-464d-b465-149d0114245f"
   },
   "source": [
    "#### II.5.3 Unicidad\n",
    "\n",
    "Verificar si no hay registros repetidos"
   ]
  },
  {
   "cell_type": "code",
   "execution_count": 22,
   "id": "9a34c10e-001d-40bf-b21e-a1498851f59d",
   "metadata": {
    "colab": {
     "base_uri": "https://localhost:8080/",
     "height": 79
    },
    "id": "9a34c10e-001d-40bf-b21e-a1498851f59d",
    "outputId": "49ea460c-1803-43de-e0aa-fc7d4dfaded2"
   },
   "outputs": [
    {
     "data": {
      "text/html": [
       "<div>\n",
       "<style scoped>\n",
       "    .dataframe tbody tr th:only-of-type {\n",
       "        vertical-align: middle;\n",
       "    }\n",
       "\n",
       "    .dataframe tbody tr th {\n",
       "        vertical-align: top;\n",
       "    }\n",
       "\n",
       "    .dataframe thead th {\n",
       "        text-align: right;\n",
       "    }\n",
       "</style>\n",
       "<table border=\"1\" class=\"dataframe\">\n",
       "  <thead>\n",
       "    <tr style=\"text-align: right;\">\n",
       "      <th></th>\n",
       "      <th>periodoA</th>\n",
       "      <th>osf</th>\n",
       "      <th>osf_Proyecto</th>\n",
       "      <th>nombreExp</th>\n",
       "      <th>crn</th>\n",
       "      <th>periodo</th>\n",
       "      <th>semana</th>\n",
       "      <th>formato</th>\n",
       "      <th>fechaInicio</th>\n",
       "      <th>progreso</th>\n",
       "      <th>...</th>\n",
       "      <th>p1_i</th>\n",
       "      <th>p2</th>\n",
       "      <th>p3</th>\n",
       "      <th>p4</th>\n",
       "      <th>p5_a</th>\n",
       "      <th>p5_b</th>\n",
       "      <th>p5_c</th>\n",
       "      <th>p5_e</th>\n",
       "      <th>p6</th>\n",
       "      <th>p6.1</th>\n",
       "    </tr>\n",
       "  </thead>\n",
       "  <tbody>\n",
       "  </tbody>\n",
       "</table>\n",
       "<p>0 rows × 44 columns</p>\n",
       "</div>"
      ],
      "text/plain": [
       "Empty DataFrame\n",
       "Columns: [periodoA, osf, osf_Proyecto, nombreExp, crn, periodo, semana, formato, fechaInicio, progreso, duracion, finalizado, fechaFin, fechaRegistrada, id, idRespuesta, tipoRespuesta, idioma, ip, matricula, latitud, longitud, nombreDest, apellidoDest, mailDest, datRefExt, canalDist, p1_a, p1_b, p1_c, p1_e, p1_f, p1_g, p1_h, p1_i, p2, p3, p4, p5_a, p5_b, p5_c, p5_e, p6, p6.1]\n",
       "Index: []\n",
       "\n",
       "[0 rows x 44 columns]"
      ]
     },
     "execution_count": 22,
     "metadata": {},
     "output_type": "execute_result"
    }
   ],
   "source": [
    "df_m[df_m.duplicated()]"
   ]
  },
  {
   "cell_type": "markdown",
   "id": "6f421fc4-db13-47db-ad5d-120f394458f6",
   "metadata": {
    "id": "6f421fc4-db13-47db-ad5d-120f394458f6"
   },
   "source": [
    "## III. PREPARACIÓN DE LOS DATOS\n",
    "---"
   ]
  },
  {
   "cell_type": "markdown",
   "id": "8b707c8b-ee47-4fdc-8156-fb61a8e02283",
   "metadata": {
    "id": "8b707c8b-ee47-4fdc-8156-fb61a8e02283"
   },
   "source": [
    "**Preprocesamiento previo**\n",
    "\n",
    "* Se eliminó el primer renglón en los cinco archivos para no tener el nombre de cada columna en inglés\n",
    "* Se agregó a cada archivo una primera columna indicando el periodo académico al que pertenece\n",
    "* Se unificaron los 5 archivos en uno solo, manteniendo todas las columnas de cada uno de ellos\n",
    "* Se renombraron las columnas para tener títulos más cortos y representativos\n",
    "* Se cambió el órden de las columnas para agruparlas por similitud\n",
    "\n",
    "\n",
    "**Preprocesamiento siguiente**\n",
    "\n",
    "1. Limpieza de datos:\n",
    "* Eliminar columnas con un solo dato: idioma, tipo respuesta, finalizado\n",
    "* Eliminar vaores nulos de columnas con más del 30% de valores nulos: nombreDest, mailDest, datRefExt\n",
    "\n",
    "2. Transformación de datos:\n",
    "* Eliminar columnas que no aportan información relevante\n",
    "* Eliminar renglones que contengan solamente valores nulos en las columnas de la pregunta 1\n",
    "* Transformar datos a valores numéricos enteros entre 1 y 5 en pregunta 1 y 53\n",
    "* Transformar datos a valores booleanos en pregunta 24\n",
    "* Convertir datos de texto de pregunta 6.1 a número binario\n",
    "* Convertir variable de texto \"periodoA\" a variable entera\n",
    "* Procesamiento de lenguaje natural (NLP) a preguntas 4 y 6\n",
    "* Agregar columna evaluacion (variable objetivo)\n",
    "* Balanceo de datos respecto a la variable objetivo\n",
    "* Separar variables en\n",
    "\n",
    "\n",
    "\n",
    "\n",
    "\n",
    "\n",
    "* Transformar texto a números entre 1 y 5 en columnas de la pregunta 1 y 5\n",
    "* Transformar texto a variable binaria(entera entre 0 y 1) en columnas de la pregunta 2 y 3\n",
    "* Unir columnas osf y osf_proyecto\n",
    "* Agregar columna nombreExp a osf\n",
    "* Convertir datos de texto de pregunta 6.1 a número binario\n",
    "* SMOTE (para aumentar la muestra de la clase minoritaria / Oversampling) y  CusterCentroids (Para reducir la muestra de la clase mayoritaria / Undersampling)\n",
    "* Normalizar los datos\n",
    "* Crear nueva columna `evaluacion`. Ésta será a variable objetivo y se obtendrá al calcular el promedio de los valores numéricos de cada columna"
   ]
  },
  {
   "cell_type": "markdown",
   "id": "021b09b8-7ba4-4073-8283-4f575ee56d38",
   "metadata": {
    "id": "021b09b8-7ba4-4073-8283-4f575ee56d38"
   },
   "source": [
    "### III.1 Limpieza de datos"
   ]
  },
  {
   "cell_type": "code",
   "execution_count": 23,
   "id": "9bd06d99-4d36-4933-a1c1-aaa71bca9551",
   "metadata": {
    "id": "9bd06d99-4d36-4933-a1c1-aaa71bca9551"
   },
   "outputs": [],
   "source": [
    "df_l = df_m.copy()"
   ]
  },
  {
   "cell_type": "markdown",
   "id": "6ac9f9f4-d0f7-42d9-b1e0-d910ba46e858",
   "metadata": {
    "id": "6ac9f9f4-d0f7-42d9-b1e0-d910ba46e858"
   },
   "source": [
    "##### 1. Eliminar columnas con un solo dato"
   ]
  },
  {
   "cell_type": "code",
   "execution_count": 24,
   "id": "75b5c43a-7008-49d9-b6c7-a2cfc4456698",
   "metadata": {
    "id": "75b5c43a-7008-49d9-b6c7-a2cfc4456698"
   },
   "outputs": [],
   "source": [
    "df_l.drop(['progreso', 'duracion', 'formato', 'idioma', 'p3'], axis=1, inplace=True)"
   ]
  },
  {
   "cell_type": "markdown",
   "id": "84d7abbd-4caf-44e9-b0ec-3bece9af37ec",
   "metadata": {
    "id": "84d7abbd-4caf-44e9-b0ec-3bece9af37ec"
   },
   "source": [
    "##### 2. Eliminar variables con más de 80% valores nulos"
   ]
  },
  {
   "cell_type": "code",
   "execution_count": 25,
   "id": "6d274f47-e22c-49cf-b511-f8cbfdffb579",
   "metadata": {
    "id": "6d274f47-e22c-49cf-b511-f8cbfdffb579"
   },
   "outputs": [],
   "source": [
    "df_l.drop(['nombreDest', 'mailDest', 'datRefExt', 'nombreExp'], axis=1, inplace=True)"
   ]
  },
  {
   "cell_type": "markdown",
   "id": "6cefdd33-2041-488d-bc21-f9508e6a0b73",
   "metadata": {
    "id": "6cefdd33-2041-488d-bc21-f9508e6a0b73"
   },
   "source": [
    "### III.2 Transformación de datos"
   ]
  },
  {
   "cell_type": "code",
   "execution_count": 26,
   "id": "d90f2a8d-6260-4078-8f94-84c7e23de0f2",
   "metadata": {
    "id": "d90f2a8d-6260-4078-8f94-84c7e23de0f2"
   },
   "outputs": [],
   "source": [
    "df_t = df_l.copy()"
   ]
  },
  {
   "cell_type": "markdown",
   "id": "b1fcbdb3-e517-447a-bcf3-a462dbae2698",
   "metadata": {
    "id": "b1fcbdb3-e517-447a-bcf3-a462dbae2698"
   },
   "source": [
    "##### 1. Eliminar variables no relevantes"
   ]
  },
  {
   "cell_type": "code",
   "execution_count": 27,
   "id": "059be4f1-1cdd-43cc-89d3-4f764e75f223",
   "metadata": {
    "id": "059be4f1-1cdd-43cc-89d3-4f764e75f223"
   },
   "outputs": [],
   "source": [
    "df_t.drop(['latitud', 'longitud', 'periodo', 'semana',\n",
    "           'finalizado', 'tipoRespuesta', 'canalDist', 'crn',\n",
    "           'fechaInicio', 'fechaFin', 'fechaRegistrada', 'id',\n",
    "           'idRespuesta', 'ip', 'matricula', 'apellidoDest',\n",
    "           'p1_c', 'p1_f'], axis=1, inplace=True)"
   ]
  },
  {
   "cell_type": "code",
   "execution_count": 28,
   "id": "2cbd4138-1bb2-4f23-8586-5185a047f1df",
   "metadata": {
    "colab": {
     "base_uri": "https://localhost:8080/",
     "height": 582
    },
    "id": "2cbd4138-1bb2-4f23-8586-5185a047f1df",
    "outputId": "b74a5849-d029-4039-f675-4507049bb294"
   },
   "outputs": [
    {
     "data": {
      "text/html": [
       "<div>\n",
       "<style scoped>\n",
       "    .dataframe tbody tr th:only-of-type {\n",
       "        vertical-align: middle;\n",
       "    }\n",
       "\n",
       "    .dataframe tbody tr th {\n",
       "        vertical-align: top;\n",
       "    }\n",
       "\n",
       "    .dataframe thead th {\n",
       "        text-align: right;\n",
       "    }\n",
       "</style>\n",
       "<table border=\"1\" class=\"dataframe\">\n",
       "  <thead>\n",
       "    <tr style=\"text-align: right;\">\n",
       "      <th></th>\n",
       "      <th>0</th>\n",
       "    </tr>\n",
       "  </thead>\n",
       "  <tbody>\n",
       "    <tr>\n",
       "      <th>0</th>\n",
       "      <td>periodoA</td>\n",
       "    </tr>\n",
       "    <tr>\n",
       "      <th>1</th>\n",
       "      <td>osf</td>\n",
       "    </tr>\n",
       "    <tr>\n",
       "      <th>2</th>\n",
       "      <td>osf_Proyecto</td>\n",
       "    </tr>\n",
       "    <tr>\n",
       "      <th>3</th>\n",
       "      <td>p1_a</td>\n",
       "    </tr>\n",
       "    <tr>\n",
       "      <th>4</th>\n",
       "      <td>p1_b</td>\n",
       "    </tr>\n",
       "    <tr>\n",
       "      <th>5</th>\n",
       "      <td>p1_e</td>\n",
       "    </tr>\n",
       "    <tr>\n",
       "      <th>6</th>\n",
       "      <td>p1_g</td>\n",
       "    </tr>\n",
       "    <tr>\n",
       "      <th>7</th>\n",
       "      <td>p1_h</td>\n",
       "    </tr>\n",
       "    <tr>\n",
       "      <th>8</th>\n",
       "      <td>p1_i</td>\n",
       "    </tr>\n",
       "    <tr>\n",
       "      <th>9</th>\n",
       "      <td>p2</td>\n",
       "    </tr>\n",
       "    <tr>\n",
       "      <th>10</th>\n",
       "      <td>p4</td>\n",
       "    </tr>\n",
       "    <tr>\n",
       "      <th>11</th>\n",
       "      <td>p5_a</td>\n",
       "    </tr>\n",
       "    <tr>\n",
       "      <th>12</th>\n",
       "      <td>p5_b</td>\n",
       "    </tr>\n",
       "    <tr>\n",
       "      <th>13</th>\n",
       "      <td>p5_c</td>\n",
       "    </tr>\n",
       "    <tr>\n",
       "      <th>14</th>\n",
       "      <td>p5_e</td>\n",
       "    </tr>\n",
       "    <tr>\n",
       "      <th>15</th>\n",
       "      <td>p6</td>\n",
       "    </tr>\n",
       "    <tr>\n",
       "      <th>16</th>\n",
       "      <td>p6.1</td>\n",
       "    </tr>\n",
       "  </tbody>\n",
       "</table>\n",
       "</div>"
      ],
      "text/plain": [
       "               0\n",
       "0       periodoA\n",
       "1            osf\n",
       "2   osf_Proyecto\n",
       "3           p1_a\n",
       "4           p1_b\n",
       "5           p1_e\n",
       "6           p1_g\n",
       "7           p1_h\n",
       "8           p1_i\n",
       "9             p2\n",
       "10            p4\n",
       "11          p5_a\n",
       "12          p5_b\n",
       "13          p5_c\n",
       "14          p5_e\n",
       "15            p6\n",
       "16          p6.1"
      ]
     },
     "execution_count": 28,
     "metadata": {},
     "output_type": "execute_result"
    }
   ],
   "source": [
    "pd.DataFrame(df_t.columns)"
   ]
  },
  {
   "cell_type": "markdown",
   "id": "ec82ee9b-d9b2-42f6-89e8-1acf3901b8a6",
   "metadata": {
    "id": "ec82ee9b-d9b2-42f6-89e8-1acf3901b8a6"
   },
   "source": [
    "##### 2. Eliminar renglones con unicamente valores nulos"
   ]
  },
  {
   "cell_type": "code",
   "execution_count": 29,
   "id": "730038d5-1afa-42ca-9594-1fd151129d91",
   "metadata": {
    "id": "730038d5-1afa-42ca-9594-1fd151129d91"
   },
   "outputs": [],
   "source": [
    "df_t.dropna(subset=df_t.columns[3:9], inplace=True)"
   ]
  },
  {
   "cell_type": "markdown",
   "id": "cd2c173f-37ab-4e88-98da-cb1e8be228e6",
   "metadata": {
    "id": "cd2c173f-37ab-4e88-98da-cb1e8be228e6"
   },
   "source": [
    "##### 3. Transformar datos a valores numéricos enteros entre 1 y 5 en pregunta 1 y 5"
   ]
  },
  {
   "cell_type": "code",
   "execution_count": 30,
   "id": "4f482407-60d2-4ce4-a452-b81c857531c9",
   "metadata": {
    "id": "4f482407-60d2-4ce4-a452-b81c857531c9"
   },
   "outputs": [],
   "source": [
    "# Transformación en pregunta 1\n",
    "for col in df_t.columns[3:9]:\n",
    "    df_t[col] = df_t[col].apply(lambda x: int(re.search(r'\\d+', x).group()))"
   ]
  },
  {
   "cell_type": "code",
   "execution_count": 31,
   "id": "a13cf71d-52d5-45d7-b40a-32c277362a15",
   "metadata": {
    "id": "a13cf71d-52d5-45d7-b40a-32c277362a15"
   },
   "outputs": [],
   "source": [
    "# Transformación en pregunta 5\n",
    "for col in df_t.columns[11:15]:\n",
    "    df_t[col] = df_t[col].apply(lambda x: int(re.search(r'\\d+', x).group()))"
   ]
  },
  {
   "cell_type": "markdown",
   "id": "26c9f27f-d535-4f71-b515-542672881279",
   "metadata": {
    "id": "26c9f27f-d535-4f71-b515-542672881279"
   },
   "source": [
    "##### 4. Transformar datos a valores booleanos en pregunta 2"
   ]
  },
  {
   "cell_type": "code",
   "execution_count": 32,
   "id": "cecee243-1a90-4432-a951-5a5f91beb781",
   "metadata": {
    "id": "cecee243-1a90-4432-a951-5a5f91beb781"
   },
   "outputs": [],
   "source": [
    "def boolCol(dato):\n",
    "    if dato == 'Sí':\n",
    "        return bool(1)\n",
    "    else:\n",
    "        return bool(0)\n",
    "\n",
    "df_t['p2'] = df_t['p2'].apply((boolCol))\n",
    "\n",
    "#df_t.to_excel('DataTransf.xlsx', engine='xlsxwriter')"
   ]
  },
  {
   "cell_type": "markdown",
   "id": "30c43cef-5f07-402e-a893-477ed0038873",
   "metadata": {
    "id": "30c43cef-5f07-402e-a893-477ed0038873"
   },
   "source": [
    "##### 5. Convertir datos de texto de pregunta 6.1 a número binario\n",
    "\n",
    "* 0: Área de oportunuidad\n",
    "* 1 : Reconocimiento"
   ]
  },
  {
   "cell_type": "code",
   "execution_count": 33,
   "id": "0874d608-8c37-4939-865c-cd8fbf93546c",
   "metadata": {
    "id": "0874d608-8c37-4939-865c-cd8fbf93546c"
   },
   "outputs": [],
   "source": [
    "def boolCol(dato):\n",
    "    if dato == 'Reconocimiento':\n",
    "        return bool(1)\n",
    "    else:\n",
    "        return bool(0)\n",
    "\n",
    "df_t['p6.1'] = df_t['p6.1'].apply((boolCol))"
   ]
  },
  {
   "cell_type": "markdown",
   "id": "3d315095-5e53-451c-9ef0-2acc61f75f40",
   "metadata": {
    "id": "3d315095-5e53-451c-9ef0-2acc61f75f40"
   },
   "source": [
    "##### 6. Convertir variable de texto \"periodoA\" a variable entera\n",
    "\n",
    "Sustituir el valor de texto del periodo a un valor numérico:\n",
    "\n",
    "* INV22: 0\n",
    "* FJ22: 1\n",
    "* AD22: 2\n",
    "* INV23: 3\n",
    "* FJ23: 4"
   ]
  },
  {
   "cell_type": "code",
   "execution_count": 34,
   "id": "09056491-1a78-47bb-85da-99804d405756",
   "metadata": {
    "colab": {
     "base_uri": "https://localhost:8080/"
    },
    "id": "09056491-1a78-47bb-85da-99804d405756",
    "outputId": "5988331f-6b00-4832-83b2-40cf75ff8bb4"
   },
   "outputs": [
    {
     "data": {
      "text/plain": [
       "array(['INV22', 'FJ22', 'AD22', 'INV23', 'FJ23'], dtype=object)"
      ]
     },
     "execution_count": 34,
     "metadata": {},
     "output_type": "execute_result"
    }
   ],
   "source": [
    "df_t.periodoA.unique()"
   ]
  },
  {
   "cell_type": "code",
   "execution_count": 35,
   "id": "83870baa-47dc-4310-a286-08775d83cae0",
   "metadata": {
    "id": "83870baa-47dc-4310-a286-08775d83cae0"
   },
   "outputs": [],
   "source": [
    "for row in range(0, len(df_t)):\n",
    "    if (df_t.iloc[row, 0] == 'INV22'):\n",
    "        df_t.iloc[row, 0] = int(1)\n",
    "    elif (df_t.iloc[row, 0] == 'FJ22'):\n",
    "        df_t.iloc[row, 0] = int(2)\n",
    "    elif (df_t.iloc[row, 0] == 'AD22'):\n",
    "        df_t.iloc[row, 0] = int(3)\n",
    "    elif (df_t.iloc[row, 0] == 'INV23'):\n",
    "        df_t.iloc[row, 0] = int(4)\n",
    "    elif (df_t.iloc[row, 0] == 'FJ23'):\n",
    "        df_t.iloc[row, 0] = int(5)\n",
    "\n",
    "df_t.periodoA = df_t.periodoA.apply(lambda x: int(x))"
   ]
  },
  {
   "cell_type": "code",
   "execution_count": 36,
   "id": "2zUTMv-n0uml",
   "metadata": {
    "colab": {
     "base_uri": "https://localhost:8080/"
    },
    "id": "2zUTMv-n0uml",
    "outputId": "67dba5ee-5817-40c0-8e26-604f1bd48f29"
   },
   "outputs": [
    {
     "data": {
      "text/plain": [
       "array([1, 2, 3, 4, 5], dtype=int64)"
      ]
     },
     "execution_count": 36,
     "metadata": {},
     "output_type": "execute_result"
    }
   ],
   "source": [
    "df_t.periodoA.unique()"
   ]
  },
  {
   "cell_type": "markdown",
   "id": "Rs_KNizt19cP",
   "metadata": {
    "id": "Rs_KNizt19cP"
   },
   "source": [
    "##### 7. Columna descriptiva de la OSF\n",
    "\n",
    "Se unen las columnas `osf` y `osf_proyecto` en una sola."
   ]
  },
  {
   "cell_type": "code",
   "execution_count": 37,
   "id": "UhrXfmIH2YXJ",
   "metadata": {
    "id": "UhrXfmIH2YXJ"
   },
   "outputs": [],
   "source": [
    "# Renombrar índices (del 0 al 10496)\n",
    "df_t.index = list(range(0,len(df_t)))"
   ]
  },
  {
   "cell_type": "code",
   "execution_count": 38,
   "id": "GwJy5bZZ2gVA",
   "metadata": {
    "id": "GwJy5bZZ2gVA"
   },
   "outputs": [],
   "source": [
    "# Pasar valores de columna osf_Proyecto a osf\n",
    "df_t.iloc[6213:,1] = df_t.iloc[6213:, 2]"
   ]
  },
  {
   "cell_type": "code",
   "execution_count": 39,
   "id": "5hUsSs_r2mRx",
   "metadata": {
    "id": "5hUsSs_r2mRx"
   },
   "outputs": [],
   "source": [
    "# Eliminar columna osf_Proyecto\n",
    "df_t.drop('osf_Proyecto', axis=1, inplace=True)"
   ]
  },
  {
   "cell_type": "code",
   "execution_count": 40,
   "id": "uqan2PEYxWGj",
   "metadata": {
    "colab": {
     "base_uri": "https://localhost:8080/",
     "height": 49
    },
    "id": "uqan2PEYxWGj",
    "outputId": "2e0654cf-0775-47fc-c2d1-fe9e44fa6a7f"
   },
   "outputs": [
    {
     "data": {
      "text/html": [
       "<div>\n",
       "<style scoped>\n",
       "    .dataframe tbody tr th:only-of-type {\n",
       "        vertical-align: middle;\n",
       "    }\n",
       "\n",
       "    .dataframe tbody tr th {\n",
       "        vertical-align: top;\n",
       "    }\n",
       "\n",
       "    .dataframe thead th {\n",
       "        text-align: right;\n",
       "    }\n",
       "</style>\n",
       "<table border=\"1\" class=\"dataframe\">\n",
       "  <thead>\n",
       "    <tr style=\"text-align: right;\">\n",
       "      <th></th>\n",
       "      <th>periodoA</th>\n",
       "      <th>osf</th>\n",
       "      <th>p1_a</th>\n",
       "      <th>p1_b</th>\n",
       "      <th>p1_e</th>\n",
       "      <th>p1_g</th>\n",
       "      <th>p1_h</th>\n",
       "      <th>p1_i</th>\n",
       "      <th>p2</th>\n",
       "      <th>p4</th>\n",
       "      <th>p5_a</th>\n",
       "      <th>p5_b</th>\n",
       "      <th>p5_c</th>\n",
       "      <th>p5_e</th>\n",
       "      <th>p6</th>\n",
       "      <th>p6.1</th>\n",
       "    </tr>\n",
       "  </thead>\n",
       "  <tbody>\n",
       "  </tbody>\n",
       "</table>\n",
       "</div>"
      ],
      "text/plain": [
       "Empty DataFrame\n",
       "Columns: [periodoA, osf, p1_a, p1_b, p1_e, p1_g, p1_h, p1_i, p2, p4, p5_a, p5_b, p5_c, p5_e, p6, p6.1]\n",
       "Index: []"
      ]
     },
     "execution_count": 40,
     "metadata": {},
     "output_type": "execute_result"
    }
   ],
   "source": [
    "df_t[df_t.osf == '']"
   ]
  },
  {
   "cell_type": "markdown",
   "id": "50caee8c-9c14-496d-85d2-8f3eae6802e3",
   "metadata": {
    "id": "50caee8c-9c14-496d-85d2-8f3eae6802e3"
   },
   "source": [
    "##### 7. Procesamiento de lenguaje natural (NLP) a preguntas 4 y 6\n",
    "\n",
    "Para estas preguntas se realizará una tokenización del texto con base en un diccionario de palabras clave que nos darán un indicio acerca de si el comentario fue positivo o negativo"
   ]
  },
  {
   "cell_type": "markdown",
   "id": "3074ca4c-5f90-444f-b206-093c46f11941",
   "metadata": {
    "id": "3074ca4c-5f90-444f-b206-093c46f11941"
   },
   "source": [
    "7.1 Limpieza y normalizacion del texto\n",
    "\n",
    "Eliminar carácteres especiales, signos de puntuación, artículos, nexos y preposiciones"
   ]
  },
  {
   "cell_type": "code",
   "execution_count": 41,
   "id": "0bb39f04-4fa3-4999-9b2e-ce3f5c2c33b4",
   "metadata": {
    "id": "0bb39f04-4fa3-4999-9b2e-ce3f5c2c33b4"
   },
   "outputs": [],
   "source": [
    "def preprocess(texto):\n",
    "    # Convertir texto a string\n",
    "    texto = str(texto)\n",
    "\n",
    "    puntuacion = r'[,;.:¡!¿?@#$%&[\\](){}<>~=+\\-*/|\\\\_^`\"\\']'\n",
    "    texto = re.sub(puntuacion, ' ', texto)\n",
    "\n",
    "    # Todo a minúsculas\n",
    "    texto = texto.lower()\n",
    "\n",
    "    # Acentos\n",
    "    texto = re.sub('á', 'a', texto)\n",
    "    texto = re.sub('é', 'e', texto)\n",
    "    texto = re.sub('í', 'i', texto)\n",
    "    texto = re.sub('ó', 'o', texto)\n",
    "    texto = re.sub('ú', 'u', texto)\n",
    "    texto = re.sub('ü', 'u', texto)\n",
    "    texto = re.sub('ñ', 'n', texto)\n",
    "\n",
    "    return texto"
   ]
  },
  {
   "cell_type": "code",
   "execution_count": 42,
   "id": "a4ZVoN2izTRa",
   "metadata": {
    "id": "a4ZVoN2izTRa"
   },
   "outputs": [],
   "source": [
    "df_nlp = df_t.copy()"
   ]
  },
  {
   "cell_type": "code",
   "execution_count": 43,
   "id": "73VXUGjQ0MbH",
   "metadata": {
    "id": "73VXUGjQ0MbH"
   },
   "outputs": [],
   "source": [
    "# Aplicamos las tres etapas de preprocesamiento anterior\n",
    "df_nlp.p4 = df_nlp.p4.apply(preprocess)\n",
    "\n",
    "df_nlp.p6 = df_nlp.p6.apply(preprocess)"
   ]
  },
  {
   "cell_type": "markdown",
   "id": "BOLQLWT27fsz",
   "metadata": {
    "id": "BOLQLWT27fsz"
   },
   "source": [
    "7.2 Análisis de sentimiento en columnas\n",
    "\n",
    "Valores cercanos a cero significan connotaciones negativas y los cercanos a 1 connotaciones positivas"
   ]
  },
  {
   "cell_type": "code",
   "execution_count": 44,
   "id": "nfUwZRr14K8p",
   "metadata": {
    "id": "nfUwZRr14K8p"
   },
   "outputs": [],
   "source": [
    "warnings.filterwarnings(\"ignore\")  # Ignorar alarma\n",
    "\n",
    "# Crear instancia de analizador de sentimiento\n",
    "sas = sentiment_analysis.SentimentAnalysisSpanish()"
   ]
  },
  {
   "cell_type": "code",
   "execution_count": 45,
   "id": "6NnvS7aYzO43",
   "metadata": {
    "id": "6NnvS7aYzO43"
   },
   "outputs": [],
   "source": [
    "# Aplicamos analizador a pregunta 4\n",
    "for idx,w in enumerate(df_nlp.p4):\n",
    "    df_nlp.loc[idx, 'p4'] = sas.sentiment(w)\n",
    "\n",
    "# Aplicamos analizador a pregunta 6\n",
    "for idx,w in enumerate(df_nlp.p6):\n",
    "    df_nlp.loc[idx, 'p6'] = sas.sentiment(w)\n",
    "\n",
    "#df_tokens.sort_values(by='sentimiento', ascending=False)"
   ]
  },
  {
   "cell_type": "markdown",
   "id": "MSGYV0-15kKZ",
   "metadata": {
    "id": "MSGYV0-15kKZ"
   },
   "source": [
    "7.3 Discretizamos para convertir la variable continua a discreta:\n",
    "\n",
    "* 0 = Comentario malo\n",
    "* 2 = Comentario neutro\n",
    "* 5 = Comentario bueno"
   ]
  },
  {
   "cell_type": "code",
   "execution_count": 46,
   "id": "MKrlHkBu5jD2",
   "metadata": {
    "id": "MKrlHkBu5jD2"
   },
   "outputs": [],
   "source": [
    "# Discretizar pregunta 4\n",
    "df_nlp.p4 = pd.cut(df_nlp.p4,\n",
    "                   bins=[0, 0.15, 0.85, 1],\n",
    "                       labels=[0, 2, 5],\n",
    "                       include_lowest = True, right=True)\n",
    "\n",
    "# Discretizar pregunta 6\n",
    "df_nlp.p6 = pd.cut(df_nlp.p6,\n",
    "                   bins=[0, 0.15, 0.85, 1],\n",
    "                   labels=[0, 2, 5],\n",
    "                   include_lowest = True, right=True)\n",
    "\n",
    "#target_binned.value_counts()\n",
    "# Cambiar tipo de dato de categórico a entero\n",
    "df_nlp.p4 = df_nlp.p4.astype('int16')\n",
    "df_nlp.p6 = df_nlp.p6.astype('int16')"
   ]
  },
  {
   "cell_type": "code",
   "execution_count": 47,
   "id": "S4upLix36-rc",
   "metadata": {
    "colab": {
     "base_uri": "https://localhost:8080/"
    },
    "id": "S4upLix36-rc",
    "outputId": "20ece564-8cfb-4cdc-ec74-00aa7020651e"
   },
   "outputs": [
    {
     "data": {
      "text/plain": [
       "0    5085\n",
       "2    3547\n",
       "5    1865\n",
       "Name: p4, dtype: int64"
      ]
     },
     "execution_count": 47,
     "metadata": {},
     "output_type": "execute_result"
    }
   ],
   "source": [
    "df_nlp.p4.value_counts()"
   ]
  },
  {
   "cell_type": "code",
   "execution_count": 48,
   "id": "zoTW-wPc6bKn",
   "metadata": {
    "colab": {
     "base_uri": "https://localhost:8080/"
    },
    "id": "zoTW-wPc6bKn",
    "outputId": "f86eb052-29cc-4f06-ddc6-8f1f8465c852"
   },
   "outputs": [
    {
     "data": {
      "text/plain": [
       "0    5464\n",
       "2    4203\n",
       "5     830\n",
       "Name: p6, dtype: int64"
      ]
     },
     "execution_count": 48,
     "metadata": {},
     "output_type": "execute_result"
    }
   ],
   "source": [
    "df_nlp.p6.value_counts()"
   ]
  },
  {
   "cell_type": "code",
   "execution_count": 49,
   "id": "gsTWHBY63t-l",
   "metadata": {
    "colab": {
     "base_uri": "https://localhost:8080/",
     "height": 206
    },
    "id": "gsTWHBY63t-l",
    "outputId": "0dc10868-a7a8-4ba8-f3d5-0c1d06f71f50"
   },
   "outputs": [
    {
     "data": {
      "text/html": [
       "<div>\n",
       "<style scoped>\n",
       "    .dataframe tbody tr th:only-of-type {\n",
       "        vertical-align: middle;\n",
       "    }\n",
       "\n",
       "    .dataframe tbody tr th {\n",
       "        vertical-align: top;\n",
       "    }\n",
       "\n",
       "    .dataframe thead th {\n",
       "        text-align: right;\n",
       "    }\n",
       "</style>\n",
       "<table border=\"1\" class=\"dataframe\">\n",
       "  <thead>\n",
       "    <tr style=\"text-align: right;\">\n",
       "      <th></th>\n",
       "      <th>periodoA</th>\n",
       "      <th>osf</th>\n",
       "      <th>p1_a</th>\n",
       "      <th>p1_b</th>\n",
       "      <th>p1_e</th>\n",
       "      <th>p1_g</th>\n",
       "      <th>p1_h</th>\n",
       "      <th>p1_i</th>\n",
       "      <th>p2</th>\n",
       "      <th>p4</th>\n",
       "      <th>p5_a</th>\n",
       "      <th>p5_b</th>\n",
       "      <th>p5_c</th>\n",
       "      <th>p5_e</th>\n",
       "      <th>p6</th>\n",
       "      <th>p6.1</th>\n",
       "    </tr>\n",
       "  </thead>\n",
       "  <tbody>\n",
       "    <tr>\n",
       "      <th>0</th>\n",
       "      <td>1</td>\n",
       "      <td>León Ortigosa ABP</td>\n",
       "      <td>4</td>\n",
       "      <td>5</td>\n",
       "      <td>5</td>\n",
       "      <td>5</td>\n",
       "      <td>5</td>\n",
       "      <td>5</td>\n",
       "      <td>True</td>\n",
       "      <td>0</td>\n",
       "      <td>4</td>\n",
       "      <td>5</td>\n",
       "      <td>5</td>\n",
       "      <td>5</td>\n",
       "      <td>0</td>\n",
       "      <td>True</td>\n",
       "    </tr>\n",
       "    <tr>\n",
       "      <th>1</th>\n",
       "      <td>1</td>\n",
       "      <td>Comenzar de Nuevo, A.C.</td>\n",
       "      <td>4</td>\n",
       "      <td>4</td>\n",
       "      <td>4</td>\n",
       "      <td>4</td>\n",
       "      <td>4</td>\n",
       "      <td>1</td>\n",
       "      <td>True</td>\n",
       "      <td>0</td>\n",
       "      <td>4</td>\n",
       "      <td>4</td>\n",
       "      <td>4</td>\n",
       "      <td>4</td>\n",
       "      <td>0</td>\n",
       "      <td>True</td>\n",
       "    </tr>\n",
       "    <tr>\n",
       "      <th>2</th>\n",
       "      <td>1</td>\n",
       "      <td>Casa Paterna La Gran Familia, A.C.</td>\n",
       "      <td>4</td>\n",
       "      <td>5</td>\n",
       "      <td>5</td>\n",
       "      <td>5</td>\n",
       "      <td>5</td>\n",
       "      <td>4</td>\n",
       "      <td>True</td>\n",
       "      <td>0</td>\n",
       "      <td>5</td>\n",
       "      <td>5</td>\n",
       "      <td>5</td>\n",
       "      <td>5</td>\n",
       "      <td>0</td>\n",
       "      <td>False</td>\n",
       "    </tr>\n",
       "    <tr>\n",
       "      <th>3</th>\n",
       "      <td>1</td>\n",
       "      <td>Programa de Acompañamiento de Servicio Social,...</td>\n",
       "      <td>5</td>\n",
       "      <td>5</td>\n",
       "      <td>3</td>\n",
       "      <td>5</td>\n",
       "      <td>5</td>\n",
       "      <td>5</td>\n",
       "      <td>True</td>\n",
       "      <td>0</td>\n",
       "      <td>5</td>\n",
       "      <td>5</td>\n",
       "      <td>5</td>\n",
       "      <td>5</td>\n",
       "      <td>0</td>\n",
       "      <td>True</td>\n",
       "    </tr>\n",
       "    <tr>\n",
       "      <th>4</th>\n",
       "      <td>1</td>\n",
       "      <td>Casa Monarca Ayuda Humanitaria al Migrante A.B.P.</td>\n",
       "      <td>4</td>\n",
       "      <td>3</td>\n",
       "      <td>3</td>\n",
       "      <td>5</td>\n",
       "      <td>5</td>\n",
       "      <td>2</td>\n",
       "      <td>True</td>\n",
       "      <td>0</td>\n",
       "      <td>4</td>\n",
       "      <td>4</td>\n",
       "      <td>4</td>\n",
       "      <td>4</td>\n",
       "      <td>0</td>\n",
       "      <td>False</td>\n",
       "    </tr>\n",
       "  </tbody>\n",
       "</table>\n",
       "</div>"
      ],
      "text/plain": [
       "   periodoA                                                osf  p1_a  p1_b  \\\n",
       "0         1                                  León Ortigosa ABP     4     5   \n",
       "1         1                            Comenzar de Nuevo, A.C.     4     4   \n",
       "2         1                 Casa Paterna La Gran Familia, A.C.     4     5   \n",
       "3         1  Programa de Acompañamiento de Servicio Social,...     5     5   \n",
       "4         1  Casa Monarca Ayuda Humanitaria al Migrante A.B.P.     4     3   \n",
       "\n",
       "   p1_e  p1_g  p1_h  p1_i    p2  p4  p5_a  p5_b  p5_c  p5_e  p6   p6.1  \n",
       "0     5     5     5     5  True   0     4     5     5     5   0   True  \n",
       "1     4     4     4     1  True   0     4     4     4     4   0   True  \n",
       "2     5     5     5     4  True   0     5     5     5     5   0  False  \n",
       "3     3     5     5     5  True   0     5     5     5     5   0   True  \n",
       "4     3     5     5     2  True   0     4     4     4     4   0  False  "
      ]
     },
     "execution_count": 49,
     "metadata": {},
     "output_type": "execute_result"
    }
   ],
   "source": [
    "df_nlp.head(5)"
   ]
  },
  {
   "cell_type": "markdown",
   "id": "52b36155-0d06-477d-b177-29b8ca3be840",
   "metadata": {
    "id": "52b36155-0d06-477d-b177-29b8ca3be840"
   },
   "source": [
    "##### 8. Agregar columna categoria de OSF\n",
    "\n",
    "Esta columna mostrará la categoría del proyecto de la OSF"
   ]
  },
  {
   "cell_type": "markdown",
   "id": "hqgoahq82wob",
   "metadata": {
    "id": "hqgoahq82wob"
   },
   "source": [
    "8.1 Importamos una tabla eralizada manualmente que indica las categorías de cada una de las OSF y proyectos mencionados en el dataset\n",
    "\n"
   ]
  },
  {
   "cell_type": "code",
   "execution_count": 50,
   "id": "450b4b2c-666d-4b50-a0b4-096484eed8ae",
   "metadata": {
    "id": "450b4b2c-666d-4b50-a0b4-096484eed8ae"
   },
   "outputs": [],
   "source": [
    "url6 = 'https://raw.githubusercontent.com/EstebanPerez25/ACD-Modelo_predictivo_de_satisfacion/TipoDeOsf/OSF.csv'\n",
    "\n",
    "df_cat = pd.read_csv(url6)\n"
   ]
  },
  {
   "cell_type": "code",
   "execution_count": 51,
   "id": "8103405f-b078-463e-8f9c-aabe3190e5d0",
   "metadata": {
    "colab": {
     "base_uri": "https://localhost:8080/",
     "height": 143
    },
    "id": "8103405f-b078-463e-8f9c-aabe3190e5d0",
    "outputId": "e07ce8c9-c10b-4f60-ca83-9ef7516aa151"
   },
   "outputs": [
    {
     "data": {
      "text/html": [
       "<div>\n",
       "<style scoped>\n",
       "    .dataframe tbody tr th:only-of-type {\n",
       "        vertical-align: middle;\n",
       "    }\n",
       "\n",
       "    .dataframe tbody tr th {\n",
       "        vertical-align: top;\n",
       "    }\n",
       "\n",
       "    .dataframe thead th {\n",
       "        text-align: right;\n",
       "    }\n",
       "</style>\n",
       "<table border=\"1\" class=\"dataframe\">\n",
       "  <thead>\n",
       "    <tr style=\"text-align: right;\">\n",
       "      <th></th>\n",
       "      <th>osf</th>\n",
       "      <th>clase</th>\n",
       "    </tr>\n",
       "  </thead>\n",
       "  <tbody>\n",
       "    <tr>\n",
       "      <th>0</th>\n",
       "      <td>León Ortigosa ABP</td>\n",
       "      <td>ONG - Humanitaria</td>\n",
       "    </tr>\n",
       "    <tr>\n",
       "      <th>1</th>\n",
       "      <td>Comenzar de Nuevo, A.C.</td>\n",
       "      <td>ONG - Humanitaria</td>\n",
       "    </tr>\n",
       "    <tr>\n",
       "      <th>2</th>\n",
       "      <td>Casa Paterna La Gran Familia, A.C.</td>\n",
       "      <td>ONG - Humanitaria</td>\n",
       "    </tr>\n",
       "  </tbody>\n",
       "</table>\n",
       "</div>"
      ],
      "text/plain": [
       "                                  osf              clase\n",
       "0                   León Ortigosa ABP  ONG - Humanitaria\n",
       "1             Comenzar de Nuevo, A.C.  ONG - Humanitaria\n",
       "2  Casa Paterna La Gran Familia, A.C.  ONG - Humanitaria"
      ]
     },
     "execution_count": 51,
     "metadata": {},
     "output_type": "execute_result"
    }
   ],
   "source": [
    "df_cat.head(3)"
   ]
  },
  {
   "cell_type": "markdown",
   "id": "f3aeKnBj5e36",
   "metadata": {
    "id": "f3aeKnBj5e36"
   },
   "source": [
    "8.2. Agregamos columna `categoria` al data frame utilizando la tabla anterior para asignar la categoría a cada renglón"
   ]
  },
  {
   "cell_type": "code",
   "execution_count": 52,
   "id": "Gb7RbdKE5wtC",
   "metadata": {
    "id": "Gb7RbdKE5wtC"
   },
   "outputs": [],
   "source": [
    "df_categoria = df_nlp.copy()"
   ]
  },
  {
   "cell_type": "code",
   "execution_count": 53,
   "id": "bvG3YDsC6lUq",
   "metadata": {
    "id": "bvG3YDsC6lUq"
   },
   "outputs": [],
   "source": [
    "# Función para asignar categorgoría a cada osf\n",
    "def asignarCat(osf):\n",
    "    for r in range(0, len(df_cat)):\n",
    "        if (osf == df_cat['osf'][r]):\n",
    "            return df_cat['clase'][r]\n"
   ]
  },
  {
   "cell_type": "code",
   "execution_count": 54,
   "id": "uFUjesUv6E0N",
   "metadata": {
    "id": "uFUjesUv6E0N"
   },
   "outputs": [],
   "source": [
    "df_categoria.insert(2, \"categoria\", df_categoria.osf.apply(asignarCat))"
   ]
  },
  {
   "cell_type": "code",
   "execution_count": 55,
   "id": "Ck5yGf0T7f7x",
   "metadata": {
    "colab": {
     "base_uri": "https://localhost:8080/",
     "height": 143
    },
    "id": "Ck5yGf0T7f7x",
    "outputId": "3f81a15a-47b0-4d8f-e7af-71dae45ed8fe"
   },
   "outputs": [
    {
     "data": {
      "text/html": [
       "<div>\n",
       "<style scoped>\n",
       "    .dataframe tbody tr th:only-of-type {\n",
       "        vertical-align: middle;\n",
       "    }\n",
       "\n",
       "    .dataframe tbody tr th {\n",
       "        vertical-align: top;\n",
       "    }\n",
       "\n",
       "    .dataframe thead th {\n",
       "        text-align: right;\n",
       "    }\n",
       "</style>\n",
       "<table border=\"1\" class=\"dataframe\">\n",
       "  <thead>\n",
       "    <tr style=\"text-align: right;\">\n",
       "      <th></th>\n",
       "      <th>periodoA</th>\n",
       "      <th>osf</th>\n",
       "      <th>categoria</th>\n",
       "      <th>p1_a</th>\n",
       "      <th>p1_b</th>\n",
       "      <th>p1_e</th>\n",
       "      <th>p1_g</th>\n",
       "      <th>p1_h</th>\n",
       "      <th>p1_i</th>\n",
       "      <th>p2</th>\n",
       "      <th>p4</th>\n",
       "      <th>p5_a</th>\n",
       "      <th>p5_b</th>\n",
       "      <th>p5_c</th>\n",
       "      <th>p5_e</th>\n",
       "      <th>p6</th>\n",
       "      <th>p6.1</th>\n",
       "    </tr>\n",
       "  </thead>\n",
       "  <tbody>\n",
       "    <tr>\n",
       "      <th>0</th>\n",
       "      <td>1</td>\n",
       "      <td>León Ortigosa ABP</td>\n",
       "      <td>ONG - Humanitaria</td>\n",
       "      <td>4</td>\n",
       "      <td>5</td>\n",
       "      <td>5</td>\n",
       "      <td>5</td>\n",
       "      <td>5</td>\n",
       "      <td>5</td>\n",
       "      <td>True</td>\n",
       "      <td>0</td>\n",
       "      <td>4</td>\n",
       "      <td>5</td>\n",
       "      <td>5</td>\n",
       "      <td>5</td>\n",
       "      <td>0</td>\n",
       "      <td>True</td>\n",
       "    </tr>\n",
       "    <tr>\n",
       "      <th>1</th>\n",
       "      <td>1</td>\n",
       "      <td>Comenzar de Nuevo, A.C.</td>\n",
       "      <td>ONG - Humanitaria</td>\n",
       "      <td>4</td>\n",
       "      <td>4</td>\n",
       "      <td>4</td>\n",
       "      <td>4</td>\n",
       "      <td>4</td>\n",
       "      <td>1</td>\n",
       "      <td>True</td>\n",
       "      <td>0</td>\n",
       "      <td>4</td>\n",
       "      <td>4</td>\n",
       "      <td>4</td>\n",
       "      <td>4</td>\n",
       "      <td>0</td>\n",
       "      <td>True</td>\n",
       "    </tr>\n",
       "    <tr>\n",
       "      <th>2</th>\n",
       "      <td>1</td>\n",
       "      <td>Casa Paterna La Gran Familia, A.C.</td>\n",
       "      <td>ONG - Humanitaria</td>\n",
       "      <td>4</td>\n",
       "      <td>5</td>\n",
       "      <td>5</td>\n",
       "      <td>5</td>\n",
       "      <td>5</td>\n",
       "      <td>4</td>\n",
       "      <td>True</td>\n",
       "      <td>0</td>\n",
       "      <td>5</td>\n",
       "      <td>5</td>\n",
       "      <td>5</td>\n",
       "      <td>5</td>\n",
       "      <td>0</td>\n",
       "      <td>False</td>\n",
       "    </tr>\n",
       "  </tbody>\n",
       "</table>\n",
       "</div>"
      ],
      "text/plain": [
       "   periodoA                                 osf          categoria  p1_a  \\\n",
       "0         1                   León Ortigosa ABP  ONG - Humanitaria     4   \n",
       "1         1             Comenzar de Nuevo, A.C.  ONG - Humanitaria     4   \n",
       "2         1  Casa Paterna La Gran Familia, A.C.  ONG - Humanitaria     4   \n",
       "\n",
       "   p1_b  p1_e  p1_g  p1_h  p1_i    p2  p4  p5_a  p5_b  p5_c  p5_e  p6   p6.1  \n",
       "0     5     5     5     5     5  True   0     4     5     5     5   0   True  \n",
       "1     4     4     4     4     1  True   0     4     4     4     4   0   True  \n",
       "2     5     5     5     5     4  True   0     5     5     5     5   0  False  "
      ]
     },
     "execution_count": 55,
     "metadata": {},
     "output_type": "execute_result"
    }
   ],
   "source": [
    "df_categoria.head(3)"
   ]
  },
  {
   "cell_type": "code",
   "execution_count": 56,
   "id": "UsWsnmA77oAB",
   "metadata": {
    "colab": {
     "base_uri": "https://localhost:8080/",
     "height": 679
    },
    "id": "UsWsnmA77oAB",
    "outputId": "a6594a7f-0100-40b6-a56e-542741800467"
   },
   "outputs": [
    {
     "data": {
      "image/png": "[encoded data removed]",
      "text/plain": [
       "<Figure size 640x480 with 1 Axes>"
      ]
     },
     "metadata": {},
     "output_type": "display_data"
    }
   ],
   "source": [
    "df_categoria.categoria.value_counts().plot.bar(color='deepskyblue');"
   ]
  },
  {
   "cell_type": "markdown",
   "id": "OKscEr6hSS96",
   "metadata": {
    "id": "OKscEr6hSS96"
   },
   "source": [
    "##### 9. Agregar columna de evaluación\n",
    "\n",
    "Esta corresponde a el promedio de los puntajes de las preguntas anteriores"
   ]
  },
  {
   "cell_type": "code",
   "execution_count": 57,
   "id": "iD4k9reCSmMR",
   "metadata": {
    "id": "iD4k9reCSmMR"
   },
   "outputs": [],
   "source": [
    "df_eval = df_categoria.copy()"
   ]
  },
  {
   "cell_type": "code",
   "execution_count": 58,
   "id": "m87AtF12SfeL",
   "metadata": {
    "id": "m87AtF12SfeL"
   },
   "outputs": [],
   "source": [
    "df_eval['evaluacion'] = 0\n",
    "\n",
    "for r in range(0,len(df_eval)):\n",
    "    df_eval.iloc[r, len(df_eval.columns)-1] = round((df_eval.iloc[r, 3:9].sum() +\n",
    "                                           5*df_eval.iloc[r, 9] +\n",
    "                                           df_eval.iloc[r, 10] +\n",
    "                                           df_eval.iloc[r, 11:15].sum() +\n",
    "                                           df_eval.iloc[r, 15] +\n",
    "                                           5*df_eval.iloc[r, 16])/14)"
   ]
  },
  {
   "cell_type": "code",
   "execution_count": 59,
   "id": "8jrPv4qBVPyM",
   "metadata": {
    "colab": {
     "base_uri": "https://localhost:8080/",
     "height": 425
    },
    "id": "8jrPv4qBVPyM",
    "outputId": "c7213972-bb1a-4877-e089-c3681db166e2"
   },
   "outputs": [
    {
     "data": {
      "image/png": "[encoded data removed]",
      "text/plain": [
       "<Figure size 640x480 with 1 Axes>"
      ]
     },
     "metadata": {},
     "output_type": "display_data"
    }
   ],
   "source": [
    "pd.DataFrame(df_eval.evaluacion.value_counts()).plot.bar(color='deepskyblue');"
   ]
  },
  {
   "cell_type": "markdown",
   "id": "u_Zlm6UuY0vL",
   "metadata": {
    "id": "u_Zlm6UuY0vL"
   },
   "source": [
    "##### 10. Identificar palabras relevantes en los comentarios.\n",
    "\n",
    "Aquí se pretende que obtener las palabras clave de los comentarios, por ejemplo, los adjetivos calificativos de los comentarios; o aquellas palabras con fuertes connotaciones positivas y negativas.\n"
   ]
  },
  {
   "cell_type": "code",
   "execution_count": 60,
   "id": "e2i5iWltZLGr",
   "metadata": {
    "id": "e2i5iWltZLGr"
   },
   "outputs": [],
   "source": [
    "df_coment = df_eval.copy()"
   ]
  },
  {
   "cell_type": "code",
   "execution_count": 61,
   "id": "rhFb1gPHZyRT",
   "metadata": {
    "colab": {
     "base_uri": "https://localhost:8080/"
    },
    "id": "rhFb1gPHZyRT",
    "outputId": "6ab67812-21fd-4a60-92e5-886b04b033e6"
   },
   "outputs": [
    {
     "data": {
      "text/plain": [
       "Index(['periodoA', 'osf', 'p1_a', 'p1_b', 'p1_e', 'p1_g', 'p1_h', 'p1_i', 'p2',\n",
       "       'p4', 'p5_a', 'p5_b', 'p5_c', 'p5_e', 'p6', 'p6.1'],\n",
       "      dtype='object')"
      ]
     },
     "execution_count": 61,
     "metadata": {},
     "output_type": "execute_result"
    }
   ],
   "source": [
    "# Retomamos un data frame pasado para recuperar\n",
    "# el texto de los comentarios\n",
    "df_t.columns"
   ]
  },
  {
   "cell_type": "code",
   "execution_count": 62,
   "id": "rjJr9YEdaD3h",
   "metadata": {
    "id": "rjJr9YEdaD3h"
   },
   "outputs": [],
   "source": [
    "# Agregamos ambos campos de comentarios en una nueva columna\n",
    "df_coment['comentarios'] = df_t.p4 + '. ' + df_t.p6"
   ]
  },
  {
   "cell_type": "code",
   "execution_count": 63,
   "id": "4X_7bDvzZnDd",
   "metadata": {
    "id": "4X_7bDvzZnDd"
   },
   "outputs": [],
   "source": [
    "# Aplicamos las etapas de preprocesamiento\n",
    "df_coment.comentarios = df_coment.comentarios.apply(preprocess)"
   ]
  },
  {
   "cell_type": "code",
   "execution_count": 64,
   "id": "tmToGYCLbJMX",
   "metadata": {
    "id": "tmToGYCLbJMX"
   },
   "outputs": [],
   "source": [
    "# Tokenizamos el texto (dividirlo en palabras)\n",
    "df_coment.comentarios = df_coment.comentarios.apply(lambda x: \\\n",
    " [token for token in x.split()])"
   ]
  },
  {
   "cell_type": "code",
   "execution_count": 65,
   "id": "yJnXA9r_cDNz",
   "metadata": {
    "colab": {
     "base_uri": "https://localhost:8080/"
    },
    "id": "yJnXA9r_cDNz",
    "outputId": "31c85b55-3e04-4962-9a22-a17bc4308ed0"
   },
   "outputs": [
    {
     "name": "stdout",
     "output_type": "stream",
     "text": [
      "Cantidad de palabras diferentes: 11849\n"
     ]
    }
   ],
   "source": [
    "# Creamos una lista con todas las palabras, sin repetir\n",
    "words = []\n",
    "\n",
    "for row in range(0, len(df_coment)):\n",
    "    words += df_coment.iloc[row, len(df_coment.columns)-1]\n",
    "\n",
    "words = set(words)\n",
    "\n",
    "print(f'Cantidad de palabras diferentes: {len(words)}')"
   ]
  },
  {
   "cell_type": "code",
   "execution_count": 66,
   "id": "Ejhf1M7kdBTW",
   "metadata": {
    "id": "Ejhf1M7kdBTW"
   },
   "outputs": [],
   "source": [
    "# A cada palabra le asignamos un valor de acuerdo al\n",
    "# análisis de sentimiento y lo guardamos en un dataframe\n",
    "sa = {}\n",
    "\n",
    "for word in words:\n",
    "    sa[word] = sas.sentiment(word)\n",
    "\n",
    "df_tokens = pd.DataFrame.from_dict(sa, orient='index').\\\n",
    "rename(columns={0:'sentimiento'}).\\\n",
    "sort_values(by='sentimiento', ascending=False)"
   ]
  },
  {
   "cell_type": "code",
   "execution_count": 67,
   "id": "Z1w7ChhYdmic",
   "metadata": {
    "colab": {
     "base_uri": "https://localhost:8080/",
     "height": 452
    },
    "id": "Z1w7ChhYdmic",
    "outputId": "af4275e9-8a28-4c96-ffde-ee8464efaf2c"
   },
   "outputs": [
    {
     "data": {
      "image/png": "[encoded data removed]",
      "text/plain": [
       "<Figure size 640x480 with 1 Axes>"
      ]
     },
     "metadata": {},
     "output_type": "display_data"
    }
   ],
   "source": [
    "df_tokens.hist(bins=20, color='deepskyblue');"
   ]
  },
  {
   "cell_type": "markdown",
   "id": "T0a6mkrs44He",
   "metadata": {
    "id": "T0a6mkrs44He"
   },
   "source": [
    "Observamos que la mayoría de las palabras son neutras, es decir, rondan el 0.5"
   ]
  },
  {
   "cell_type": "code",
   "execution_count": 69,
   "id": "m5JZofMzaVdt",
   "metadata": {
    "id": "m5JZofMzaVdt"
   },
   "outputs": [],
   "source": [
    "#len([sas.sentiment(x) for x in df_coment.comentarios[0]])\n",
    "# Solo dejaremos las palabras que relevantes\n",
    "# (Las que tengan un valor de sentimiento dentro de un intervalo\n",
    "def pRelevantes(lista):\n",
    "\n",
    "    # Intervalo de palabras relevantes\n",
    "    min = 0.3\n",
    "    max = 0.7\n",
    "    # Lista para almacenar palabras relevantes\n",
    "    relevantes = []\n",
    "\n",
    "    for x in lista:\n",
    "        if ((sas.sentiment(x) < min) or (sas.sentiment(x) > max)):\n",
    "            relevantes.append(x)\n",
    "\n",
    "    return relevantes\n",
    "\n",
    "\n",
    "\n",
    "#pRelevantes(df_coment.comentarios[475])"
   ]
  },
  {
   "cell_type": "code",
   "execution_count": 70,
   "id": "IHA9WMija8tZ",
   "metadata": {
    "id": "IHA9WMija8tZ"
   },
   "outputs": [],
   "source": [
    "df_coment.comentarios = df_coment.comentarios.apply(pRelevantes)"
   ]
  },
  {
   "cell_type": "code",
   "execution_count": 71,
   "id": "dG1BfTov6A6E",
   "metadata": {
    "colab": {
     "base_uri": "https://localhost:8080/",
     "height": 239
    },
    "id": "dG1BfTov6A6E",
    "outputId": "d81bba31-19ac-4aef-dc0e-845297eb2797"
   },
   "outputs": [
    {
     "data": {
      "text/html": [
       "<div>\n",
       "<style scoped>\n",
       "    .dataframe tbody tr th:only-of-type {\n",
       "        vertical-align: middle;\n",
       "    }\n",
       "\n",
       "    .dataframe tbody tr th {\n",
       "        vertical-align: top;\n",
       "    }\n",
       "\n",
       "    .dataframe thead th {\n",
       "        text-align: right;\n",
       "    }\n",
       "</style>\n",
       "<table border=\"1\" class=\"dataframe\">\n",
       "  <thead>\n",
       "    <tr style=\"text-align: right;\">\n",
       "      <th></th>\n",
       "      <th>periodoA</th>\n",
       "      <th>osf</th>\n",
       "      <th>categoria</th>\n",
       "      <th>p1_a</th>\n",
       "      <th>p1_b</th>\n",
       "      <th>p1_e</th>\n",
       "      <th>p1_g</th>\n",
       "      <th>p1_h</th>\n",
       "      <th>p1_i</th>\n",
       "      <th>p2</th>\n",
       "      <th>p4</th>\n",
       "      <th>p5_a</th>\n",
       "      <th>p5_b</th>\n",
       "      <th>p5_c</th>\n",
       "      <th>p5_e</th>\n",
       "      <th>p6</th>\n",
       "      <th>p6.1</th>\n",
       "      <th>evaluacion</th>\n",
       "      <th>comentarios</th>\n",
       "    </tr>\n",
       "  </thead>\n",
       "  <tbody>\n",
       "    <tr>\n",
       "      <th>0</th>\n",
       "      <td>1</td>\n",
       "      <td>León Ortigosa ABP</td>\n",
       "      <td>ONG - Humanitaria</td>\n",
       "      <td>4</td>\n",
       "      <td>5</td>\n",
       "      <td>5</td>\n",
       "      <td>5</td>\n",
       "      <td>5</td>\n",
       "      <td>5</td>\n",
       "      <td>True</td>\n",
       "      <td>0</td>\n",
       "      <td>4</td>\n",
       "      <td>5</td>\n",
       "      <td>5</td>\n",
       "      <td>5</td>\n",
       "      <td>0</td>\n",
       "      <td>True</td>\n",
       "      <td>4</td>\n",
       "      <td>[se, actitud, estos, mejorar]</td>\n",
       "    </tr>\n",
       "    <tr>\n",
       "      <th>1</th>\n",
       "      <td>1</td>\n",
       "      <td>Comenzar de Nuevo, A.C.</td>\n",
       "      <td>ONG - Humanitaria</td>\n",
       "      <td>4</td>\n",
       "      <td>4</td>\n",
       "      <td>4</td>\n",
       "      <td>4</td>\n",
       "      <td>4</td>\n",
       "      <td>1</td>\n",
       "      <td>True</td>\n",
       "      <td>0</td>\n",
       "      <td>4</td>\n",
       "      <td>4</td>\n",
       "      <td>4</td>\n",
       "      <td>4</td>\n",
       "      <td>0</td>\n",
       "      <td>True</td>\n",
       "      <td>3</td>\n",
       "      <td>[hubiera, mas, mas, mas, respecto, pues, ahora...</td>\n",
       "    </tr>\n",
       "    <tr>\n",
       "      <th>2</th>\n",
       "      <td>1</td>\n",
       "      <td>Casa Paterna La Gran Familia, A.C.</td>\n",
       "      <td>ONG - Humanitaria</td>\n",
       "      <td>4</td>\n",
       "      <td>5</td>\n",
       "      <td>5</td>\n",
       "      <td>5</td>\n",
       "      <td>5</td>\n",
       "      <td>4</td>\n",
       "      <td>True</td>\n",
       "      <td>0</td>\n",
       "      <td>5</td>\n",
       "      <td>5</td>\n",
       "      <td>5</td>\n",
       "      <td>5</td>\n",
       "      <td>0</td>\n",
       "      <td>False</td>\n",
       "      <td>4</td>\n",
       "      <td>[dia, dia, falta, veces, no, no, falta, se, de...</td>\n",
       "    </tr>\n",
       "  </tbody>\n",
       "</table>\n",
       "</div>"
      ],
      "text/plain": [
       "   periodoA                                 osf          categoria  p1_a  \\\n",
       "0         1                   León Ortigosa ABP  ONG - Humanitaria     4   \n",
       "1         1             Comenzar de Nuevo, A.C.  ONG - Humanitaria     4   \n",
       "2         1  Casa Paterna La Gran Familia, A.C.  ONG - Humanitaria     4   \n",
       "\n",
       "   p1_b  p1_e  p1_g  p1_h  p1_i    p2  p4  p5_a  p5_b  p5_c  p5_e  p6   p6.1  \\\n",
       "0     5     5     5     5     5  True   0     4     5     5     5   0   True   \n",
       "1     4     4     4     4     1  True   0     4     4     4     4   0   True   \n",
       "2     5     5     5     5     4  True   0     5     5     5     5   0  False   \n",
       "\n",
       "   evaluacion                                        comentarios  \n",
       "0           4                      [se, actitud, estos, mejorar]  \n",
       "1           3  [hubiera, mas, mas, mas, respecto, pues, ahora...  \n",
       "2           4  [dia, dia, falta, veces, no, no, falta, se, de...  "
      ]
     },
     "execution_count": 71,
     "metadata": {},
     "output_type": "execute_result"
    }
   ],
   "source": [
    "df_coment.head(3)"
   ]
  },
  {
   "cell_type": "code",
   "execution_count": 72,
   "id": "7uO20giMKTgo",
   "metadata": {
    "id": "7uO20giMKTgo"
   },
   "outputs": [],
   "source": [
    "df_osf = pd.DataFrame(df_coment.osf.value_counts())"
   ]
  },
  {
   "cell_type": "code",
   "execution_count": 73,
   "id": "nvBUrDLuKucX",
   "metadata": {
    "colab": {
     "base_uri": "https://localhost:8080/",
     "height": 206
    },
    "id": "nvBUrDLuKucX",
    "outputId": "965311c4-7fc0-474e-ff13-bd5ee5de3a68"
   },
   "outputs": [
    {
     "data": {
      "text/html": [
       "<div>\n",
       "<style scoped>\n",
       "    .dataframe tbody tr th:only-of-type {\n",
       "        vertical-align: middle;\n",
       "    }\n",
       "\n",
       "    .dataframe tbody tr th {\n",
       "        vertical-align: top;\n",
       "    }\n",
       "\n",
       "    .dataframe thead th {\n",
       "        text-align: right;\n",
       "    }\n",
       "</style>\n",
       "<table border=\"1\" class=\"dataframe\">\n",
       "  <thead>\n",
       "    <tr style=\"text-align: right;\">\n",
       "      <th></th>\n",
       "      <th>osf</th>\n",
       "    </tr>\n",
       "  </thead>\n",
       "  <tbody>\n",
       "    <tr>\n",
       "      <th>Dirección de Servicio Social</th>\n",
       "      <td>621</td>\n",
       "    </tr>\n",
       "    <tr>\n",
       "      <th>Dirección de Servicio Social - Aprendizajes para todos</th>\n",
       "      <td>398</td>\n",
       "    </tr>\n",
       "    <tr>\n",
       "      <th>Tierra de Artistas, A.C.</th>\n",
       "      <td>225</td>\n",
       "    </tr>\n",
       "    <tr>\n",
       "      <th>SAIIS, Sociedad de Alumnos de Ingeniero Industrial y de Sistemas</th>\n",
       "      <td>183</td>\n",
       "    </tr>\n",
       "    <tr>\n",
       "      <th>Proeducación IAP, Jóvenes Ayudando a Niñas y Niños_Tutorías para defender a la Educación</th>\n",
       "      <td>168</td>\n",
       "    </tr>\n",
       "  </tbody>\n",
       "</table>\n",
       "</div>"
      ],
      "text/plain": [
       "                                                    osf\n",
       "Dirección de Servicio Social                        621\n",
       "Dirección de Servicio Social - Aprendizajes par...  398\n",
       "Tierra de Artistas, A.C.                            225\n",
       "SAIIS, Sociedad de Alumnos de Ingeniero Industr...  183\n",
       "Proeducación IAP, Jóvenes Ayudando a Niñas y Ni...  168"
      ]
     },
     "execution_count": 73,
     "metadata": {},
     "output_type": "execute_result"
    }
   ],
   "source": [
    "df_osf.head(5)"
   ]
  },
  {
   "cell_type": "markdown",
   "id": "FCRitZsjOJsY",
   "metadata": {
    "id": "FCRitZsjOJsY"
   },
   "source": [
    "**Seleccionar a las OSF que están en los 5 perdiodos**"
   ]
  },
  {
   "cell_type": "code",
   "execution_count": 74,
   "id": "hg4JS0swOWUt",
   "metadata": {
    "id": "hg4JS0swOWUt"
   },
   "outputs": [],
   "source": [
    "# Índices de cada OSF\n",
    "osfs = df_coment.osf.unique()  # Lista de osf's\n",
    "\n",
    "df_coment.osf[df_coment.osf == osfs[0]].index\n",
    "\n",
    "dict_osf = {}  # Diccionario con nombre e índices de cada osf\n",
    "for osf in osfs:\n",
    "    dict_osf[osf] = df_coment.osf[df_coment.osf == osf].index"
   ]
  },
  {
   "cell_type": "code",
   "execution_count": 75,
   "id": "8zH2Q3TAPWv2",
   "metadata": {
    "colab": {
     "base_uri": "https://localhost:8080/"
    },
    "id": "8zH2Q3TAPWv2",
    "outputId": "8984937f-795c-447c-b0d6-b21911a1a5cc"
   },
   "outputs": [
    {
     "name": "stdout",
     "output_type": "stream",
     "text": [
      "EJEMPLO\n",
      "OSF: León Ortigosa ABP.\n",
      "Índices:[0, 81, 82, 130, 234, 269, 285, 289]\n"
     ]
    }
   ],
   "source": [
    "print(f'EJEMPLO\\nOSF: {osfs[0]}.\\nÍndices:{list(dict_osf[osfs[0]])}')"
   ]
  },
  {
   "cell_type": "code",
   "execution_count": null,
   "id": "hWTB0djPQA3B",
   "metadata": {
    "id": "hWTB0djPQA3B"
   },
   "outputs": [],
   "source": [
    "#Identificamos a las osf que están en los 5 periodos\n",
    "# Lista con osf que tienen presencia en los 5 periodos académicos\n",
    "osf5 = []\n",
    "# Diccionario con los periodos donde cada osf tiene presencia\n",
    "dict_osfn = {}\n",
    "\n",
    "for osf in osfs:\n",
    "    periodos = set(df_coment.periodoA.iloc[dict_osf[osf]])\n",
    "    dict_osfn[osf] = periodos\n",
    "\n",
    "\n",
    "\n",
    "#pd.DataFrame.from_dict(dict_osfn, orient='index').rename(columns={0:'periodos'})"
   ]
  },
  {
   "cell_type": "code",
   "execution_count": null,
   "id": "UeZrRU4LRX_g",
   "metadata": {
    "colab": {
     "base_uri": "https://localhost:8080/"
    },
    "id": "UeZrRU4LRX_g",
    "outputId": "ecf86fc6-3f93-466b-915b-46ce6a770f17"
   },
   "outputs": [],
   "source": [
    "# Mostrar los osf que tienen presencia en 3 periodos\n",
    "osf_3p = []  # Lista con nombres de las osf con presencia en 3 periodos\n",
    "for x in osfs:\n",
    "    if (len(dict_osfn[x]) == 3):\n",
    "        print(f'-> {x} \\n* Presencia en periodos: {dict_osfn[x]}\\n')\n",
    "        osf_3p.append(x)"
   ]
  },
  {
   "cell_type": "code",
   "execution_count": null,
   "id": "xgcmsCBFy9Zl",
   "metadata": {
    "colab": {
     "base_uri": "https://localhost:8080/"
    },
    "id": "xgcmsCBFy9Zl",
    "outputId": "d69d9bae-2961-40bf-d203-8a559a38da76"
   },
   "outputs": [],
   "source": [
    "# Cantidad de osf que tienen presencia en 1 a 5 periodos\n",
    "for i in range(1, 6):\n",
    "    suma = 0\n",
    "    for x in osfs:\n",
    "        if (len(dict_osfn[x]) == i):\n",
    "            suma += 1\n",
    "    print(f'{i} periodos: {suma} OSF\\'s')"
   ]
  },
  {
   "cell_type": "markdown",
   "id": "ePeYSWIoy4qe",
   "metadata": {
    "id": "ePeYSWIoy4qe"
   },
   "source": [
    "No hay OSF que tengan presencia en los 5 periodos, solamente en 1, 2 y 3. Por ello, aplicaremos los modelos de regresión a las OSF que tienen presencia en 3 periodos."
   ]
  },
  {
   "cell_type": "markdown",
   "id": "5411a4c9-1be7-4912-8699-026564569428",
   "metadata": {
    "id": "5411a4c9-1be7-4912-8699-026564569428"
   },
   "source": [
    "##### 10. Separar variables en dependiente e independiente\n",
    "\n",
    "Trabajaremos en la **predicción de series de tiempo**, de tal forma que se logre el objetivo de predecir cuál será la calificación y comentarios en la encuesta del siguiente periodo académico, para cada uno de los OSF.\n",
    "\n",
    "Para ello, sólo consideraremos las variables numéricas:\n",
    "\n",
    "**Variables independientes:**\n",
    "* `perdiodoA`\n",
    "* `p1_a`\n",
    "* `p1_b`\n",
    "* `p1_e`\n",
    "* `p1_g`\n",
    "* `p1_h`\n",
    "* `p1_i`\n",
    "* `p2`\n",
    "* `p4`\n",
    "* `p5_a`\n",
    "* `p5_b`\n",
    "* `p5_c`\n",
    "* `p5_e`\n",
    "* `p6`\n",
    "* `p6.1`\n",
    "\n",
    "**Variable dependiente:**\n",
    "* `evaluacion`"
   ]
  },
  {
   "cell_type": "markdown",
   "id": "pqt6uamE2XQl",
   "metadata": {
    "id": "pqt6uamE2XQl"
   },
   "source": [
    "---\n",
    "---\n",
    "---\n",
    "---\n"
   ]
  },
  {
   "cell_type": "markdown",
   "id": "93feb61a-4ef8-4ad5-92ea-1a8cd2f45736",
   "metadata": {
    "id": "93feb61a-4ef8-4ad5-92ea-1a8cd2f45736"
   },
   "source": [
    "## IV. MODELACIÓN\n",
    "---\n",
    "\n",
    "En esta sección se seguirán las siguientes dos etapas\n",
    "\n",
    "\n",
    "**A) Modelo de regresión para predecir series de tiempo del nivel de satisfacción**\n",
    "\n",
    "Se elegirá el mejor de los siguientes modelos de regresión de aprendizaje supervisado capaz de **predecir la evaluación de cada OSF en un periodo académico futuro a los datos de entrenamiento**.\n",
    "\n",
    "Los modelos a probar son los siguientes:\n",
    "\n",
    "* Regresión lineal y/o Regresión polinómica\n",
    "* Regresión con K-NN\n",
    "* Regresión con Random Forest\n",
    "* Regresión con Support Vector Machine (SVM)\n",
    "* Regresión con redes neuronales\n",
    "\n",
    "**B) Generación de nueva información a partir de los datos**\n",
    "Se utilzarán modelos de aprendizaje no supervisado para las siguientes tareas:\n",
    "\n",
    "* Identificar las variables más relevantes: Análisis de componentes principales (PCA)\n",
    "* Identificar si los mejors osf tienen algo en común (K-Means y Clusterización)"
   ]
  },
  {
   "cell_type": "markdown",
   "id": "407209a7-47b8-43df-8cef-e45a83f42042",
   "metadata": {
    "id": "407209a7-47b8-43df-8cef-e45a83f42042"
   },
   "source": [
    "**Descripción del set de datos (ABT)**"
   ]
  },
  {
   "cell_type": "code",
   "execution_count": null,
   "id": "8b01a63c-fb2b-4dca-9cab-b43bd22d0de1",
   "metadata": {
    "colab": {
     "base_uri": "https://localhost:8080/",
     "height": 364
    },
    "id": "8b01a63c-fb2b-4dca-9cab-b43bd22d0de1",
    "outputId": "4394cca0-a101-45e8-e691-64f58c4caf0a"
   },
   "outputs": [],
   "source": [
    "df_coment.describe()"
   ]
  },
  {
   "cell_type": "code",
   "execution_count": null,
   "id": "P6HNUBkCD2WT",
   "metadata": {
    "colab": {
     "base_uri": "https://localhost:8080/"
    },
    "id": "P6HNUBkCD2WT",
    "outputId": "9a650f67-858b-4455-98dd-18c9066e31d4"
   },
   "outputs": [],
   "source": [
    "len(df_coment.columns)"
   ]
  },
  {
   "cell_type": "code",
   "execution_count": null,
   "id": "9ae67655-503d-41d2-9c98-98a75ec2c387",
   "metadata": {
    "colab": {
     "base_uri": "https://localhost:8080/",
     "height": 553
    },
    "id": "9ae67655-503d-41d2-9c98-98a75ec2c387",
    "outputId": "228d6ffb-5f34-449a-fe87-761425d7a403"
   },
   "outputs": [],
   "source": [
    "# 19 variables\n",
    "\n",
    "# Gráficos de pastel\n",
    "plt.subplots(5,  4, figsize=(18, 6))\n",
    "\n",
    "for idx, i in enumerate(df_coment.columns):\n",
    "\n",
    "    if (idx < len(df_coment.columns)):\n",
    "        plt.subplot(5, 4, idx+1)\n",
    "        plt.pie(df_coment[i].value_counts(),\n",
    "                labels=None)\n",
    "\n",
    "    plt.title(i)\n",
    "\n",
    "    else:\n",
    "        plt.axis('off')  # Ocultar los ejes del subplot 20\n",
    "\n",
    "plt.tight_layout(pad = 0.5)\n",
    "plt.show()"
   ]
  },
  {
   "cell_type": "code",
   "execution_count": null,
   "id": "13599ee2-c4af-4061-b363-1b00d6c22153",
   "metadata": {
    "colab": {
     "base_uri": "https://localhost:8080/",
     "height": 551
    },
    "id": "13599ee2-c4af-4061-b363-1b00d6c22153",
    "outputId": "4d8c2215-4f58-4c1a-ac92-dd4e97a3b249"
   },
   "outputs": [],
   "source": [
    "df_coment.corr('pearson', numeric_only=True)\\\n",
    ".style.background_gradient(cmap='coolwarm',\n",
    "                           axis=None).format(precision=2)"
   ]
  },
  {
   "cell_type": "markdown",
   "id": "a0307848-4b48-40ae-b474-a61be9e22a6e",
   "metadata": {
    "id": "a0307848-4b48-40ae-b474-a61be9e22a6e"
   },
   "source": [
    "**Observaciones**\n",
    "\n",
    "Podemos detectar que hay multicolinealidad entre las variables de la pregunta 1 entre ellas mismas y lo mismo para la pregunta 5; además, la pregunta 1 se encuentra correlacionada con la variable objetivo evaluacion."
   ]
  },
  {
   "cell_type": "markdown",
   "id": "e207ca49-77ce-46e7-86b5-9a600889c0f2",
   "metadata": {
    "id": "e207ca49-77ce-46e7-86b5-9a600889c0f2"
   },
   "source": [
    "#### Valores que puede tomar cada variable\n",
    "\n",
    "Valores antes de aplicar Min-Max scaler y la separación en conjuntos de variable independiente, dependiente, entrenamiento y prueba."
   ]
  },
  {
   "cell_type": "code",
   "execution_count": null,
   "id": "ed16fb49-6a0a-4b7a-be2d-c9653b1bdc54",
   "metadata": {
    "colab": {
     "base_uri": "https://localhost:8080/"
    },
    "id": "ed16fb49-6a0a-4b7a-be2d-c9653b1bdc54",
    "outputId": "7735d4da-5ff1-48f2-fdb8-1c4e93f5ccfa"
   },
   "outputs": [],
   "source": [
    "for col in df_coment.columns[3:17]:\n",
    "    print(f'{col}: {df_coment[col].unique()}. - {df_coment[col].dtype}')"
   ]
  },
  {
   "cell_type": "markdown",
   "id": "5a8d2d11-30bb-4da5-aa06-70b5d878fec7",
   "metadata": {
    "id": "5a8d2d11-30bb-4da5-aa06-70b5d878fec7"
   },
   "source": [
    "### IV.1 Modelos de regresión en series de tiempo\n",
    "\n",
    "Se elegirá el mejor de los siguientes modelos de regresión de aprendizaje supervisado:\n",
    "\n",
    "* Regresión lineal\n",
    "* Regresión con Random Forest\n",
    "* Regresión con K-NN\n",
    "* Regresión con Support Vector Machine (SVM)\n",
    "* Regresión con redes neuronales\n"
   ]
  },
  {
   "cell_type": "markdown",
   "id": "YAfnAJbAeqXk",
   "metadata": {
    "id": "YAfnAJbAeqXk"
   },
   "source": [
    "**Preprocesamiento:**\n",
    "\n",
    "* Seleccionar las variables de interés: `periodoA`, `osf` y `evaluacion`\n",
    "* Transformar tipo de dato de object a int en variable `osf`. Se asignará un id a cada una de las osf\n",
    "* Verificar presencia de valores nulos\n",
    "* Separar dataset en variables independientes (X: `periodoA`, `osf`) y dependiente (y: `evaluacion`)\n",
    "* Separar datos en conjunto de entrenamiento y prueba\n",
    "* Escalar variables independientes (X) con Min-Max Scaler"
   ]
  },
  {
   "cell_type": "markdown",
   "id": "oLpzDENvwbRD",
   "metadata": {
    "id": "oLpzDENvwbRD"
   },
   "source": [
    "**1. Selección de variables de interés**"
   ]
  },
  {
   "cell_type": "code",
   "execution_count": null,
   "id": "92QpkaSlvLsk",
   "metadata": {
    "id": "92QpkaSlvLsk"
   },
   "outputs": [],
   "source": [
    "# Seleccionamos unicamente las variables consideradas para modelar\n",
    "df_models = df_coment[['periodoA', 'osf', 'evaluacion']].copy()"
   ]
  },
  {
   "cell_type": "markdown",
   "id": "MVYCrT0zwgf0",
   "metadata": {
    "id": "MVYCrT0zwgf0"
   },
   "source": [
    "**2. Transformar categorías tipo string a int en variable osf**"
   ]
  },
  {
   "cell_type": "code",
   "execution_count": null,
   "id": "9IfOjiy_wsMm",
   "metadata": {
    "colab": {
     "base_uri": "https://localhost:8080/",
     "height": 143
    },
    "id": "9IfOjiy_wsMm",
    "outputId": "df98133a-a8e1-4fbd-9ff7-89d4f7e830a4"
   },
   "outputs": [],
   "source": [
    "# Retomamos dataframe con los nombre de cada OSF\n",
    "df_cat.head(3)"
   ]
  },
  {
   "cell_type": "code",
   "execution_count": null,
   "id": "zOV5dYz9xWKL",
   "metadata": {
    "id": "zOV5dYz9xWKL"
   },
   "outputs": [],
   "source": [
    "# Función para asignar un id de tipo entero a cada osf\n",
    "# (El id será el índice que tiene en el data frame df_cat)\n",
    "def idOsf(osf):\n",
    "    if osf in df_cat.osf.values:\n",
    "        return df_cat[df_cat.osf==osf].index[0]\n",
    "\n",
    "df_models.osf = df_models.osf.apply(idOsf)"
   ]
  },
  {
   "cell_type": "code",
   "execution_count": null,
   "id": "j2Ygw4g_yYkc",
   "metadata": {
    "colab": {
     "base_uri": "https://localhost:8080/",
     "height": 143
    },
    "id": "j2Ygw4g_yYkc",
    "outputId": "755d6421-fb00-4f70-cecc-1765f454fbc9"
   },
   "outputs": [],
   "source": [
    "df_models.head(3)"
   ]
  },
  {
   "cell_type": "markdown",
   "id": "PJfB2ocL7LdI",
   "metadata": {
    "id": "PJfB2ocL7LdI"
   },
   "source": [
    "**3. Verificar presencia de valores nulos**"
   ]
  },
  {
   "cell_type": "code",
   "execution_count": null,
   "id": "pGmJz94K45I1",
   "metadata": {
    "colab": {
     "base_uri": "https://localhost:8080/"
    },
    "id": "pGmJz94K45I1",
    "outputId": "42f4bb95-4395-4473-95d9-4da009940007"
   },
   "outputs": [],
   "source": [
    "# Eliminar renglones con valores nulos\n",
    "df_models.isna().sum()"
   ]
  },
  {
   "cell_type": "markdown",
   "id": "B1Br8RgQ6nYw",
   "metadata": {
    "id": "B1Br8RgQ6nYw"
   },
   "source": [
    "Tenemos valores nulos en la columna osf. Eliminaremos esos renglones ya que no hay forma de saber a qué OSF se refieren"
   ]
  },
  {
   "cell_type": "code",
   "execution_count": null,
   "id": "K9Fkf7G76xSB",
   "metadata": {
    "id": "K9Fkf7G76xSB"
   },
   "outputs": [],
   "source": [
    "df_models.dropna(axis=0, inplace=True)"
   ]
  },
  {
   "cell_type": "code",
   "execution_count": null,
   "id": "NfNjMFSg7BmD",
   "metadata": {
    "colab": {
     "base_uri": "https://localhost:8080/"
    },
    "id": "NfNjMFSg7BmD",
    "outputId": "4d7a8e8f-6214-46e3-9d7c-bd3768ee314f"
   },
   "outputs": [],
   "source": [
    "df_models.isna().sum()"
   ]
  },
  {
   "cell_type": "markdown",
   "id": "UMcrlUGj24G5",
   "metadata": {
    "id": "UMcrlUGj24G5"
   },
   "source": [
    "**4. Separar dataset en variables independientes (X) y dependiente(y)**"
   ]
  },
  {
   "cell_type": "code",
   "execution_count": null,
   "id": "rkoZEUch224o",
   "metadata": {
    "id": "rkoZEUch224o"
   },
   "outputs": [],
   "source": [
    "X = df_models[['periodoA', 'osf']].copy()\n",
    "y = df_models.evaluacion.copy()"
   ]
  },
  {
   "cell_type": "markdown",
   "id": "EQDMMsBY3LTM",
   "metadata": {
    "id": "EQDMMsBY3LTM"
   },
   "source": [
    "**5. Separar variables en conjunto de entrenamiento y prueba**"
   ]
  },
  {
   "cell_type": "code",
   "execution_count": null,
   "id": "k9UcLOPh3lOM",
   "metadata": {
    "id": "k9UcLOPh3lOM"
   },
   "outputs": [],
   "source": [
    "X_train, X_test, y_train, y_test = train_test_split(X, y, test_size=0.3, random_state=42)"
   ]
  },
  {
   "cell_type": "markdown",
   "id": "g_9aSnRp4GsA",
   "metadata": {
    "id": "g_9aSnRp4GsA"
   },
   "source": [
    "**6. Escalar variables independientes (X) con Min-Max Scaler**"
   ]
  },
  {
   "cell_type": "code",
   "execution_count": null,
   "id": "EJOvUOFj4DXA",
   "metadata": {
    "id": "EJOvUOFj4DXA"
   },
   "outputs": [],
   "source": [
    "# Escalamiento de variables independientes (train y test)\n",
    "scaler = MinMaxScaler()\n",
    "scaler.fit(X_train)\n",
    "\n",
    "Xs_train = scaler.transform(X_train)\n",
    "Xs_test = scaler.transform(X_test)"
   ]
  },
  {
   "cell_type": "markdown",
   "id": "2ff8ffb3-7aed-4212-af52-0a53ea16efde",
   "metadata": {
    "id": "2ff8ffb3-7aed-4212-af52-0a53ea16efde"
   },
   "source": [
    "#### IV.1.1 Regresión Lineal\n",
    "---"
   ]
  },
  {
   "cell_type": "code",
   "execution_count": null,
   "id": "7rFfsml4dGdc",
   "metadata": {
    "colab": {
     "base_uri": "https://localhost:8080/"
    },
    "id": "7rFfsml4dGdc",
    "outputId": "879e19f2-3f38-4803-e8ef-174c5596ba4b"
   },
   "outputs": [],
   "source": [
    "# ---------------------------------------\n",
    "# MODELO: REGRESIÓN LINEAL SIMPLE\n",
    "# ---------------------------------------\n",
    "\n",
    "# Modelo de regresión lineal\n",
    "m_slr = LinearRegression().fit(Xs_train, y_train) # Entrenamiento\n",
    "\n",
    "yn_pred = m_slr.predict(Xs_test)  # Test\n",
    "\n",
    "# Evaluación\n",
    "r2_slr = round(r2_score(y_test, yn_pred), 2)\n",
    "mae_slr = round(mean_absolute_error(y_test, yn_pred), 2)\n",
    "rmse_slr = round(np.sqrt(mean_squared_error(y_test, yn_pred)), 2)\n",
    "\n",
    "print('* R2 score:', r2_slr)  # 1 is perfect\n",
    "print('* MAE score:', mae_slr)  # 0 is perfect\n",
    "print('* RMSE score:', rmse_slr)  # 0 is perfect\n",
    "\n",
    "print(\"\\n<< Coeficientes >>\\n\")\n",
    "c = m_slr.coef_\n",
    "v = ['periodoA', 'osf']\n",
    "for x in range(0, len(c)):\n",
    "    print(f'{round(c[x], 1)}*{v[x]}', end=' +\\n')\n",
    "\n",
    "print(round(m_slr.intercept_, 1))"
   ]
  },
  {
   "cell_type": "markdown",
   "id": "v7FeR4O4dW5Q",
   "metadata": {
    "id": "v7FeR4O4dW5Q"
   },
   "source": [
    "**Regresión Lineal con regularización ElasticNet**"
   ]
  },
  {
   "cell_type": "code",
   "execution_count": null,
   "id": "GargFBQY6eIJ",
   "metadata": {
    "colab": {
     "base_uri": "https://localhost:8080/"
    },
    "id": "GargFBQY6eIJ",
    "outputId": "2e6a9d00-e75f-4b72-fac1-09b81eba4f84"
   },
   "outputs": [],
   "source": [
    "# ---------------------------------------\n",
    "# MODELO: Regresión lineal con ElasticNet\n",
    "# ---------------------------------------\n",
    "\n",
    "# Modelo de regresión lineal\n",
    "m_slr = ElasticNet(alpha=0.001, l1_ratio=1).fit(Xs_train, y_train) # Entrenamiento\n",
    "\n",
    "yn_pred = m_slr.predict(Xs_test)  # Test\n",
    "\n",
    "# Evaluación\n",
    "r2_slr = round(r2_score(y_test, yn_pred), 2)\n",
    "mae_slr = round(mean_absolute_error(y_test, yn_pred), 2)\n",
    "rmse_slr = round(np.sqrt(mean_squared_error(y_test, yn_pred)), 2)\n",
    "\n",
    "print('* R2 score:', r2_slr)  # 1 is perfect\n",
    "print('* MAE score:', mae_slr)  # 0 is perfect\n",
    "print('* RMSE score:', rmse_slr)  # 0 is perfect\n",
    "\n",
    "print(\"\\n<< Coeficientes >>\\n\")\n",
    "c = m_slr.coef_\n",
    "v = ['periodoA', 'osf']\n",
    "for x in range(0, len(c)):\n",
    "    print(f'{round(c[x], 1)}*{v[x]}', end=' +\\n')\n",
    "\n",
    "print(round(m_slr.intercept_, 1))"
   ]
  },
  {
   "cell_type": "code",
   "execution_count": null,
   "id": "pyQNwsg7Gae-",
   "metadata": {
    "id": "pyQNwsg7Gae-"
   },
   "outputs": [],
   "source": [
    "# La variable p5_b es la que tiene mayor peso\n",
    "# Puntos\n",
    "#xtn = list(Xn_train.periodoA)\n",
    "#ytn = list(yn_train)\n",
    "#xts = list(Xn_test.periodoA)\n",
    "#yts = list(yn_test)\n",
    "\n",
    "# Recta del modelo de regresión\n",
    "#xm = [1, 5]\n",
    "#ym = [c[0] + m_slr.intercept_,  c[0]*5 + m_slr.intercept_]\n",
    "\n",
    "#plt.scatter(xtn, ytn, color='deepskyblue', label='Train')\n",
    "#plt.scatter(xts, yts, color='blue', label='Test')\n",
    "#plt.scatter(Xn_test.periodoA*0+5, yn_pred, color='orange', label='Prediction', marker='.')\n",
    "#plt.plot(xm, ym, color='red')\n",
    "#plt.grid()\n",
    "#plt.legend()\n",
    "#plt.show()\n"
   ]
  },
  {
   "cell_type": "markdown",
   "id": "m-zaQBgjeb5o",
   "metadata": {
    "id": "m-zaQBgjeb5o"
   },
   "source": [
    "**Regresión polinomial**"
   ]
  },
  {
   "cell_type": "code",
   "execution_count": null,
   "id": "Rd4ofsXTefDv",
   "metadata": {
    "colab": {
     "base_uri": "https://localhost:8080/"
    },
    "id": "Rd4ofsXTefDv",
    "outputId": "b0a7fe1b-dee1-4472-deb2-013de046d2f8"
   },
   "outputs": [],
   "source": [
    "# Preprocesamiento adicional\n",
    "poly = PolynomialFeatures(degree=3)  # Define el grado del polinomio deseado\n",
    "X_poly_train = poly.fit_transform(Xs_train)  # Genera las características polinomiales\n",
    "X_poly_test = poly.fit_transform(Xs_test)  # Genera las características polinomiales\n",
    "\n",
    "\n",
    "# ---------------------------------------\n",
    "# MODELO: Regresión Polinomial\n",
    "# ---------------------------------------\n",
    "\n",
    "# Modelo de regresión lineal\n",
    "m_slr = LinearRegression().fit(X_poly_train, y_train) # Entrenamiento\n",
    "\n",
    "yn_pred = m_slr.predict(X_poly_test)  # Test\n",
    "\n",
    "# Evaluación\n",
    "r2_slr = round(r2_score(y_test, yn_pred), 2)\n",
    "mae_slr = round(mean_absolute_error(y_test, yn_pred), 2)\n",
    "rmse_slr = round(np.sqrt(mean_squared_error(y_test, yn_pred)), 2)\n",
    "\n",
    "print('* R2 score:', r2_slr)  # 1 is perfect\n",
    "print('* MAE score:', mae_slr)  # 0 is perfect\n",
    "print('* RMSE score:', rmse_slr)  # 0 is perfect"
   ]
  },
  {
   "cell_type": "markdown",
   "id": "O73rNWzgiYSq",
   "metadata": {
    "id": "O73rNWzgiYSq"
   },
   "source": [
    "El modelo polonomial es muy malo prediciendo, entre mayor sea el grado del polinomio las métricas empeoran más.\n",
    "\n",
    "Nos quedaremos con el **modelo lineal** al que se le aplicó la regularización **ElasticNet**, combinando l1 y l2."
   ]
  },
  {
   "cell_type": "markdown",
   "id": "7aae4b64-2235-4b76-b736-47fbe813df58",
   "metadata": {
    "id": "7aae4b64-2235-4b76-b736-47fbe813df58"
   },
   "source": [
    "#### IV.1.2 Random Forest\n",
    "---"
   ]
  },
  {
   "cell_type": "code",
   "execution_count": null,
   "id": "SFQwWVqji_Iv",
   "metadata": {
    "colab": {
     "base_uri": "https://localhost:8080/",
     "height": 472
    },
    "id": "SFQwWVqji_Iv",
    "outputId": "5e6efa85-e91d-4d6b-a906-4c779e8d3a8b"
   },
   "outputs": [],
   "source": [
    "acc_train = []  # Lista para almacenar accuracy\n",
    "acc_test = []  # Lista para almacenar accuracy\n",
    "\n",
    "n = 50  # Número de bosques (forest)\n",
    "\n",
    "for k in range(1, n+1):\n",
    "\n",
    "    m_rfr = RandomForestRegressor(n_estimators=k,\n",
    "                                 criterion='poisson',\n",
    "                                 #max_depth=3,\n",
    "                                 random_state=42)\n",
    "\n",
    "    m_rfr.fit(Xs_train, y_train)\n",
    "\n",
    "\n",
    "    acc_train.append(m_rfr.score(Xs_train, y_train))\n",
    "    acc_test.append(m_rfr.score(Xs_test, y_test))\n",
    "\n",
    "plt.plot(range(1, n+1), acc_train, color='orange')\n",
    "plt.plot(range(1, n+1), acc_test, color='deepskyblue')\n",
    "plt.xlabel('Number of forest')\n",
    "plt.ylabel('Mean accuracy')\n",
    "plt.title('Accuracy vs n forest')\n",
    "plt.grid(True)\n",
    "plt.legend(['Train set', 'Test set'])\n",
    "plt.show()"
   ]
  },
  {
   "cell_type": "markdown",
   "id": "-xBePCWXkaRX",
   "metadata": {
    "id": "-xBePCWXkaRX"
   },
   "source": [
    "En todos los criterios el modelo sigue en underfitting, es decir, no es capaz de generalizar. Siempre el accuracy del conjunto de prueba está muy por debajo del conjunto de entrenamiento.\n",
    "\n",
    "**Random forest no es muy buen modelo** sin embargo, su mejor accuracy se alcanzó con 10 árboles dedecisión."
   ]
  },
  {
   "cell_type": "markdown",
   "id": "0eecc2e5-a494-4c31-a086-808e83bdc3cd",
   "metadata": {
    "id": "0eecc2e5-a494-4c31-a086-808e83bdc3cd"
   },
   "source": [
    "**MEJOR MODELO DE RANDOM FOREST**"
   ]
  },
  {
   "cell_type": "code",
   "execution_count": null,
   "id": "hsOrm8nZk3B0",
   "metadata": {
    "colab": {
     "base_uri": "https://localhost:8080/"
    },
    "id": "hsOrm8nZk3B0",
    "outputId": "c4f62d81-3cd1-44a4-c4b3-b3c89d42ca1f"
   },
   "outputs": [],
   "source": [
    "m_rfr = RandomForestRegressor(n_estimators= 10,\n",
    "                              criterion='absolute_error',\n",
    "                              #max_depth=4,\n",
    "                              min_samples_split=5,\n",
    "                              #min_samples_leaf=70,\n",
    "                              random_state=42)\n",
    "\n",
    "# Training\n",
    "m_rfr.fit(Xs_train, y_train)\n",
    "\n",
    "# Evaluation\n",
    "y_pred_rfr = m_rfr.predict(Xs_test)\n",
    "\n",
    "r2_rfr = round(r2_score(y_test, y_pred_rfr), 2)\n",
    "mae_rfr = round(mean_absolute_error(y_test, y_pred_rfr), 2)\n",
    "rmse_rfr = round(np.sqrt(mean_squared_error(y_test, y_pred_rfr)), 2)\n",
    "\n",
    "print('* R2 score:', r2_rfr)  # 1 is perfect\n",
    "print('* MAE score:', mae_rfr)  # 0 is perfect\n",
    "print('* RMSE score:', rmse_rfr)  # 0 is perfect"
   ]
  },
  {
   "cell_type": "markdown",
   "id": "e129551a-cc77-4716-8f98-523734ab7de1",
   "metadata": {
    "id": "e129551a-cc77-4716-8f98-523734ab7de1"
   },
   "source": [
    "#### IV.1.3 K-Nearest Neighbors\n",
    "---"
   ]
  },
  {
   "cell_type": "code",
   "execution_count": null,
   "id": "dAhiUW9Bl5xl",
   "metadata": {
    "colab": {
     "base_uri": "https://localhost:8080/",
     "height": 611
    },
    "id": "dAhiUW9Bl5xl",
    "outputId": "193e7768-4f4b-4804-bbf6-8c66df6fe3d3"
   },
   "outputs": [],
   "source": [
    "distances = ['euclidean', 'manhattan', 'cosine',\n",
    "             'cityblock', 'l1', 'l2']\n",
    "k = 50  # Numbers of neighbors to be tested\n",
    "\n",
    "\n",
    "plt.subplots(2, 3, figsize=(8, 6))\n",
    "\n",
    "for idx,dist in enumerate(distances):\n",
    "    r2_knn_train = [0]  # List of R^2 scores of training set\n",
    "    r2_knn_test = [0]  # List of R^2 scores of test set\n",
    "\n",
    "    for i in range(1, k):\n",
    "        m_knn = KNeighborsRegressor(n_neighbors=i,\n",
    "                                  weights='uniform',\n",
    "                                  metric=dist)\n",
    "        m_knn.fit(Xs_train, y_train)\n",
    "\n",
    "        r2_knn_train.append(m_knn.score(Xs_train, y_train))\n",
    "        r2_knn_test.append(m_knn.score(Xs_test, y_test))\n",
    "\n",
    "\n",
    "# Plot\n",
    "plt.subplot(2, 3, idx+1)\n",
    "\n",
    "plt.plot(np.array(range(1, k)), r2_knn_train[1:],\n",
    "      color='orange');  # Train set\n",
    "plt.plot(np.array(range(1, k)), r2_knn_test[1:],\n",
    "      color='deepskyblue');  # Test set\n",
    "plt.xticks(range(0, k, 5))\n",
    "plt.xlabel(' k neighbors')\n",
    "plt.ylabel('R^2')\n",
    "plt.title ('Dist='+ dist+ '. Max R^2=' +\\\n",
    "         str(round(max(r2_knn_test), 3)), fontsize=8)\n",
    "plt.grid(True)\n",
    "plt.legend(['Train set', 'Test set'])\n",
    "\n",
    "plt.suptitle('R2 score per distance and k neighbors', fontsize=20)\n",
    "plt.tight_layout(pad = 1)\n",
    "plt.show()"
   ]
  },
  {
   "cell_type": "markdown",
   "id": "kjHxx_Zqm9_F",
   "metadata": {
    "id": "kjHxx_Zqm9_F"
   },
   "source": [
    "La distancia manhattan resultó ser una de las que mayor accuracy alcanzó, con una cantidad de vecinos igual a 2"
   ]
  },
  {
   "cell_type": "markdown",
   "id": "d8e1b7a6-079c-4965-a196-1cccef0205c1",
   "metadata": {
    "id": "d8e1b7a6-079c-4965-a196-1cccef0205c1"
   },
   "source": [
    "**MEJOR MODELO DE K-NN**"
   ]
  },
  {
   "cell_type": "code",
   "execution_count": null,
   "id": "m9NneW9znOO-",
   "metadata": {
    "colab": {
     "base_uri": "https://localhost:8080/"
    },
    "id": "m9NneW9znOO-",
    "outputId": "350feeea-e9cb-4647-d545-21a9bfd85e47"
   },
   "outputs": [],
   "source": [
    "m_knn = KNeighborsRegressor(n_neighbors=2,\n",
    "                            weights='uniform',\n",
    "                            metric='manhattan')\n",
    "# Training\n",
    "m_knn.fit(Xs_train, y_train)\n",
    "\n",
    "# Evaluation\n",
    "y_pred_knn = m_knn.predict(Xs_test)\n",
    "\n",
    "r2_knn = round(r2_score(y_test, y_pred_knn), 2)\n",
    "mae_knn = round(mean_absolute_error(y_test, y_pred_knn), 2)\n",
    "rmse_knn = round(np.sqrt(mean_squared_error(y_test, y_pred_knn)), 2)\n",
    "\n",
    "print('* R2 score:', r2_knn)  # 1 is perfect\n",
    "print('* MAE score:', mae_knn)  # 0 is perfect\n",
    "print('* RMSE score:', rmse_knn)  # 0 is perfect\n"
   ]
  },
  {
   "cell_type": "markdown",
   "id": "d8ab6ca0-e314-4974-b080-92a28b8ae5fc",
   "metadata": {
    "id": "d8ab6ca0-e314-4974-b080-92a28b8ae5fc"
   },
   "source": [
    "#### IV.1.4 Support Vector Machine (SVM)\n",
    "---"
   ]
  },
  {
   "cell_type": "code",
   "execution_count": null,
   "id": "7SEfGNFEsOey",
   "metadata": {
    "colab": {
     "base_uri": "https://localhost:8080/"
    },
    "id": "7SEfGNFEsOey",
    "outputId": "41c5af41-2ae9-4d72-c7c2-fd5b40ed68e0"
   },
   "outputs": [],
   "source": [
    "m_svm = SVR(kernel='linear',\n",
    "            gamma='scale')\n",
    "\n",
    "# Entrenamiento\n",
    "m_svm.fit(Xs_train, y_train)\n",
    "\n",
    "# Evaluación\n",
    "y_pred_svm = m_svm.predict(Xs_test)\n",
    "\n",
    "r2_svm = round(r2_score(y_test, y_pred_svm), 2)\n",
    "mae_svm = round(mean_absolute_error(y_test, y_pred_svm), 2)\n",
    "rmse_svm = round(np.sqrt(mean_squared_error(y_test, y_pred_svm)), 2)\n",
    "\n",
    "print('* R2 score:', r2_svm)  # 1 is perfect\n",
    "print('* MAE score:', mae_svm)  # 0 is perfect\n",
    "print('* RMSE score:', rmse_svm)  # 0 is perfect"
   ]
  },
  {
   "cell_type": "code",
   "execution_count": null,
   "id": "tUmG1y4ooZzz",
   "metadata": {
    "colab": {
     "base_uri": "https://localhost:8080/"
    },
    "id": "tUmG1y4ooZzz",
    "outputId": "2a2a58ce-dc59-419a-afa2-9e3c59a910ca"
   },
   "outputs": [],
   "source": [
    "m_svm = SVR(kernel='poly',\n",
    "            degree=4,\n",
    "            gamma='scale')\n",
    "\n",
    "# Entrenamiento\n",
    "m_svm.fit(Xs_train, y_train)\n",
    "\n",
    "# Evaluación\n",
    "y_pred_svm = m_svm.predict(Xs_test)\n",
    "\n",
    "r2_svm = round(r2_score(y_test, y_pred_svm), 2)\n",
    "mae_svm = round(mean_absolute_error(y_test, y_pred_svm), 2)\n",
    "rmse_svm = round(np.sqrt(mean_squared_error(y_test, y_pred_svm)), 2)\n",
    "\n",
    "print('* R2 score:', r2_svm)  # 1 is perfect\n",
    "print('* MAE score:', mae_svm)  # 0 is perfect\n",
    "print('* RMSE score:', rmse_svm)  # 0 is perfect"
   ]
  },
  {
   "cell_type": "markdown",
   "id": "65bc8497-e53f-4006-8faf-da26b8bf6b6b",
   "metadata": {
    "id": "65bc8497-e53f-4006-8faf-da26b8bf6b6b"
   },
   "source": [
    "El mejor modelo utilizando máquina de vectores de soporte fue aquel con el parámetro `kernel` lineal.\n",
    "\n",
    "Sin embargo, aunque todos los modelos han obtenido muy malos resultados, el mejor modelo hasta la fecha ha sido el de KNN ( K vecinos más cercanos)."
   ]
  },
  {
   "cell_type": "markdown",
   "id": "5f080a78-c61f-49cf-b88f-fd688a8f0ef2",
   "metadata": {
    "id": "5f080a78-c61f-49cf-b88f-fd688a8f0ef2"
   },
   "source": [
    "#### IV.1.5 Red Neuronal Profunda\n",
    "---\n",
    "*Ejecutado en 6 min*"
   ]
  },
  {
   "cell_type": "code",
   "execution_count": null,
   "id": "64f5be4f-05ab-4f52-8a7f-095bb6ee639e",
   "metadata": {
    "id": "64f5be4f-05ab-4f52-8a7f-095bb6ee639e",
    "tags": []
   },
   "outputs": [],
   "source": [
    "\n",
    "m_dnn = keras.Sequential([\n",
    "    keras.layers.Dense(16, activation=tf.nn.relu, input_shape=[2]),\n",
    "    keras.layers.Dense(16, activation=tf.nn.relu),\n",
    "    keras.layers.Dense(16, activation=tf.nn.relu),\n",
    "    #keras.layers.Dense(2, activation=tf.nn.relu),\n",
    "    keras.layers.Dense(1)\n",
    "])\n",
    "\n",
    "optimizer = tf.keras.optimizers.RMSprop(learning_rate=0.001)\n",
    "\n",
    "m_dnn.compile(loss='mean_absolute_error',\n",
    "             optimizer=optimizer,\n",
    "             metrics=['mean_absolute_error', 'mean_squared_error'])\n",
    "\n",
    "# Ajuste del modelo\n",
    "m_dnn.fit(Xs_train, y_train, epochs=1000, verbose=2);\n"
   ]
  },
  {
   "cell_type": "code",
   "execution_count": null,
   "id": "h58qM5gP6499",
   "metadata": {
    "colab": {
     "base_uri": "https://localhost:8080/"
    },
    "id": "h58qM5gP6499",
    "outputId": "2c7061c8-4a1a-42c3-f4bc-f6f29417b779"
   },
   "outputs": [],
   "source": [
    "m_dnn.predict([[6, 21]]) # Min MSE = 0.4227"
   ]
  },
  {
   "cell_type": "markdown",
   "id": "q8RWT_oU-pP6",
   "metadata": {
    "id": "q8RWT_oU-pP6"
   },
   "source": [
    "Visualización de datos reales y predecidos por el modelo al considerar a las osf que tienen presencia en 3 periodos (1, 2 y 5)"
   ]
  },
  {
   "cell_type": "code",
   "execution_count": null,
   "id": "RmFMx4PLWRdP",
   "metadata": {
    "colab": {
     "base_uri": "https://localhost:8080/"
    },
    "id": "RmFMx4PLWRdP",
    "outputId": "f2bbe8f0-e1fa-4f5c-e390-5d5b5b33a8a4"
   },
   "outputs": [],
   "source": [
    "len(osf_3p)"
   ]
  },
  {
   "cell_type": "code",
   "execution_count": null,
   "id": "zt0X_8Dv4RSl",
   "metadata": {
    "colab": {
     "base_uri": "https://localhost:8080/",
     "height": 597
    },
    "id": "zt0X_8Dv4RSl",
    "outputId": "1648e460-2ea9-476e-ccd3-73203e5dd61b"
   },
   "outputs": [],
   "source": [
    "\n",
    "n = 6  # Número de osf que tiene presencia en 3 periodos (0 a 18) 7, 12\n",
    "plt.scatter(x = [1, 2, 5], y=df_models[df_models.osf==idOsf(osf_3p[n])].groupby('periodoA').mean().evaluacion, label='Datos reales')\n",
    "\n",
    "plt.scatter(x = [1, 2, 3, 4, 5, 6], y = [m_dnn.predict([[x, idOsf(osf_3p[n])]]) for x in range(1, 7)], label='Predicciones');\n",
    "plt.title(f'OSF: {osf_3p[n]}.\\nId: {idOsf(osf_3p[n])}')\n",
    "plt.grid()\n",
    "plt.legend()\n",
    "plt.xlabel('Periodo académico')\n",
    "plt.ylabel('Evaluación promediada')\n",
    "plt.show()\n"
   ]
  },
  {
   "cell_type": "markdown",
   "id": "7P8qPrfNZiis",
   "metadata": {
    "id": "7P8qPrfNZiis"
   },
   "source": [
    "**Guardamos el modelo entrenado y lo reconstruimos**"
   ]
  },
  {
   "cell_type": "code",
   "execution_count": null,
   "id": "E4qiyUioZhk1",
   "metadata": {
    "colab": {
     "base_uri": "https://localhost:8080/"
    },
    "id": "E4qiyUioZhk1",
    "outputId": "f95e3096-3f05-4f96-d674-f8325454f7a0"
   },
   "outputs": [],
   "source": [
    "#m_dnn.save('model_dnn')"
   ]
  },
  {
   "cell_type": "code",
   "execution_count": null,
   "id": "Z3upoPcdaFmu",
   "metadata": {
    "id": "Z3upoPcdaFmu"
   },
   "outputs": [],
   "source": [
    "#m_dnn_reconstructed = keras.models.load_model('model_dnn')"
   ]
  },
  {
   "cell_type": "code",
   "execution_count": null,
   "id": "usKjSLz0aZVu",
   "metadata": {
    "colab": {
     "base_uri": "https://localhost:8080/"
    },
    "id": "usKjSLz0aZVu",
    "outputId": "0bfc9696-d53b-43e4-d45b-14486fe21e13"
   },
   "outputs": [],
   "source": [
    "#m_dnn_reconstructed.predict([[1, 24]])"
   ]
  },
  {
   "cell_type": "markdown",
   "id": "adb16e2e-6288-4c2c-8cf2-906d4a658051",
   "metadata": {},
   "source": [
    "**Crear archivo pickle usando serialización**"
   ]
  },
  {
   "cell_type": "code",
   "execution_count": null,
   "id": "63e4e5a6-2714-4b0a-8e21-287b8c9ff88c",
   "metadata": {},
   "outputs": [],
   "source": [
    "pickle_out = open('m_dnn.pkl', 'wb')\n",
    "pickle.dump(m_dnn, pickle_out)\n",
    "pickle_out.close()"
   ]
  },
  {
   "cell_type": "markdown",
   "id": "acc4bf68-900d-4f73-902e-83a9402a022b",
   "metadata": {
    "id": "acc4bf68-900d-4f73-902e-83a9402a022b"
   },
   "source": [
    "### IV.2 Modelos de aprendizaje no supervisado para generar nueva información\n",
    "\n",
    "Se utilzarán modelos de aprendizaje no supervisado para las siguientes tareas:\n",
    "\n",
    "* Identificar las variables más relevantes: Análisis de componentes principales (PCA)\n",
    "* Identificar si los mejors osf tienen algo en común: K-Means y Clusterización"
   ]
  },
  {
   "cell_type": "markdown",
   "id": "50397f26-214b-4bb2-841d-63bf84e9be2c",
   "metadata": {
    "id": "50397f26-214b-4bb2-841d-63bf84e9be2c"
   },
   "source": [
    "Uniendo datos escalados para alimentar a modelos de aprendizaje no supervisado"
   ]
  },
  {
   "cell_type": "markdown",
   "id": "6aaf2454-0640-4d42-8828-ab386f35156f",
   "metadata": {
    "id": "6aaf2454-0640-4d42-8828-ab386f35156f"
   },
   "source": [
    "#### IV.2.1 Análisis de Componentes Principales (PCA)"
   ]
  },
  {
   "cell_type": "code",
   "execution_count": null,
   "id": "xN77Zvr3fdKQ",
   "metadata": {
    "id": "xN77Zvr3fdKQ"
   },
   "outputs": [],
   "source": [
    "Xns = df_coment.drop(['categoria', 'comentarios'], axis=1).copy()\n",
    "Xns.osf = Xns.osf.apply(idOsf)  # Cambiamos a entero la variable categorica de la osf\n",
    "Xns.dropna(axis=0, inplace=True)  # Eliminamos valores nulos de columna osf\n",
    "\n",
    "# Escalamiento\n",
    "scalerNs=MinMaxScaler()\n",
    "scalerNs.fit(Xns)\n",
    "Xns=scalerNs.transform(Xns)\n",
    "Xns=pd.DataFrame(Xns,columns=df_coment.drop(['categoria', 'comentarios'], axis=1).columns)"
   ]
  },
  {
   "cell_type": "code",
   "execution_count": null,
   "id": "f4db454b-619a-4143-adaf-d0edc5d0c770",
   "metadata": {
    "colab": {
     "base_uri": "https://localhost:8080/"
    },
    "id": "f4db454b-619a-4143-adaf-d0edc5d0c770",
    "outputId": "abfefd81-6097-45fe-ea0c-7d29b0d72a2e"
   },
   "outputs": [],
   "source": [
    "c = 10  # Número de componentes\n",
    "pca = PCA(n_components = c)\n",
    "pca.fit(Xns)\n",
    "\n",
    "#  Porcentaje de varianza (info) contenida en cada componente\n",
    "pca.explained_variance_ratio_"
   ]
  },
  {
   "cell_type": "code",
   "execution_count": null,
   "id": "53fa040a-6483-4430-b19f-7ffe3acb0aa2",
   "metadata": {
    "colab": {
     "base_uri": "https://localhost:8080/",
     "height": 472
    },
    "id": "53fa040a-6483-4430-b19f-7ffe3acb0aa2",
    "outputId": "15d69dc4-fbf7-4e70-8c7f-737dee1d197d"
   },
   "outputs": [],
   "source": [
    "# Visualisación\n",
    "plt.bar(np.array(range(c))+1, pca.explained_variance_ratio_, color='deepskyblue')\n",
    "plt.title(\"% variance represented per PC\")\n",
    "plt.xlabel(\"Principal component (PC)\")\n",
    "plt.xticks(range(1,c))\n",
    "plt.show()"
   ]
  },
  {
   "cell_type": "code",
   "execution_count": null,
   "id": "112537f9-d125-4549-8421-0cc4a04da774",
   "metadata": {
    "colab": {
     "base_uri": "https://localhost:8080/"
    },
    "id": "112537f9-d125-4549-8421-0cc4a04da774",
    "outputId": "e04b0dde-7d16-471b-dca7-eee8deffa894"
   },
   "outputs": [],
   "source": [
    "pca.explained_variance_ratio_[:5].sum()"
   ]
  },
  {
   "cell_type": "markdown",
   "id": "d42484ce-5a01-49f5-9bcf-85d921633167",
   "metadata": {
    "id": "d42484ce-5a01-49f5-9bcf-85d921633167"
   },
   "source": [
    "Con las primeras 5 componentes logramos contener a más del 80% de los datos. Además, la primera componente parece contener significativamente más varianza que el resto"
   ]
  },
  {
   "cell_type": "markdown",
   "id": "9766c90e-736a-4892-8ec1-b7af2fc57e9d",
   "metadata": {
    "id": "9766c90e-736a-4892-8ec1-b7af2fc57e9d"
   },
   "source": [
    "##### Identificar las variables mas relevantes"
   ]
  },
  {
   "cell_type": "code",
   "execution_count": null,
   "id": "432d726b-e821-422d-8505-b12b5980ce75",
   "metadata": {
    "colab": {
     "base_uri": "https://localhost:8080/",
     "height": 363
    },
    "id": "432d726b-e821-422d-8505-b12b5980ce75",
    "outputId": "972b88ef-8ce5-4d21-9b4e-a1b893af0d4b"
   },
   "outputs": [],
   "source": [
    "# Data frame of first principal component eigenvalues\n",
    "df_pc1_cmpnts = pd.DataFrame(np.abs(pca.components_[0]),\n",
    "                             index=Xns.columns)\n",
    "\n",
    "df_pc1_cmpnts.sort_values(by=0, ascending=False).head(10)"
   ]
  },
  {
   "cell_type": "markdown",
   "id": "7debfc96-69cd-4460-b537-d0f341c9dc96",
   "metadata": {
    "id": "7debfc96-69cd-4460-b537-d0f341c9dc96"
   },
   "source": [
    "En la primera componente, la pregunta 6.1 parece contener significativamente más varianza que el resto de preguntas.\n",
    "\n",
    "Por lo que parece indicar que es una variable a considerar."
   ]
  },
  {
   "cell_type": "code",
   "execution_count": null,
   "id": "-H2vi8fhtiRd",
   "metadata": {
    "colab": {
     "base_uri": "https://localhost:8080/",
     "height": 472
    },
    "id": "-H2vi8fhtiRd",
    "outputId": "9df9b323-5725-4104-c809-3f2eb1a62683"
   },
   "outputs": [],
   "source": [
    "X_pca = pca.transform(Xns).copy()\n",
    "comp_1=1\n",
    "comp_2=2\n",
    "plt.scatter(X_pca[:,(comp_1-1)],X_pca[:,(comp_2-1)])\n",
    "plt.title(\"Scatter plot de PC_\" + str(comp_1) + \" vs PC_\" + str(comp_2))\n",
    "plt.xlabel(\"PC_\"+str(comp_1))\n",
    "plt.ylabel(\" PC_\"+str(comp_2))\n",
    "plt.show()"
   ]
  },
  {
   "cell_type": "markdown",
   "id": "834824b7-6d39-4488-9ea2-0c98de0201df",
   "metadata": {
    "id": "834824b7-6d39-4488-9ea2-0c98de0201df"
   },
   "source": [
    "#### IV.2.2 K Means"
   ]
  },
  {
   "cell_type": "code",
   "execution_count": null,
   "id": "4bd75f06-9e0d-46bb-97bc-2a0fa2a2a83f",
   "metadata": {
    "colab": {
     "base_uri": "https://localhost:8080/",
     "height": 472
    },
    "id": "4bd75f06-9e0d-46bb-97bc-2a0fa2a2a83f",
    "outputId": "c192dc68-2cac-4552-94ca-4e69c41e8853"
   },
   "outputs": [],
   "source": [
    "sse = []  # Lista de sum of squared errors\n",
    "n = 10  # Número de clusters a ser probados para elegir el mejor\n",
    "\n",
    "for i in range(n):\n",
    "    kmeans= KMeans(init='random',\n",
    "                   n_init=5,\n",
    "                   n_clusters=i+1,\n",
    "                   random_state=42)\n",
    "\n",
    "    kmeans.fit(Xns)\n",
    "    sse.append(kmeans.inertia_)\n",
    "\n",
    "plt.plot(np.array(range(n))+1,sse, color='deepskyblue');\n",
    "plt.xticks(range(1,n))\n",
    "plt.xlabel('Number of clusters')\n",
    "plt.ylabel('Sum of squared errors (SSE)')\n",
    "plt.title ('K-Means elbow test')\n",
    "plt.show()"
   ]
  },
  {
   "cell_type": "markdown",
   "id": "a6ec8115-d786-4647-8261-bf62f77cb0c0",
   "metadata": {
    "id": "a6ec8115-d786-4647-8261-bf62f77cb0c0"
   },
   "source": [
    "De acuerdo con la técnica del codo, la mejor elección es generar **4 clusters**\n",
    "\n",
    "Creamos el modelo para 4 cluster"
   ]
  },
  {
   "cell_type": "code",
   "execution_count": null,
   "id": "hFKdphlPn3rk",
   "metadata": {
    "colab": {
     "base_uri": "https://localhost:8080/"
    },
    "id": "hFKdphlPn3rk",
    "outputId": "b59a08a3-3c4f-4554-9472-972676b69d67"
   },
   "outputs": [],
   "source": [
    "k=4\n",
    "m_km=KMeans(n_clusters=k, random_state=42)\n",
    "m_km.fit(Xns)\n",
    "Xns[\"cluster_kmeans\"]=m_km.predict(Xns)\n",
    "Xns.cluster_kmeans.value_counts()"
   ]
  },
  {
   "cell_type": "markdown",
   "id": "dc0d5486-e682-4a6c-a035-78175c50231c",
   "metadata": {
    "id": "dc0d5486-e682-4a6c-a035-78175c50231c"
   },
   "source": [
    "#### IV.2.3 Clusterización"
   ]
  },
  {
   "cell_type": "code",
   "execution_count": null,
   "id": "0c7b1d26-3738-4aab-acbb-ecbf01449a32",
   "metadata": {
    "colab": {
     "base_uri": "https://localhost:8080/",
     "height": 626
    },
    "id": "0c7b1d26-3738-4aab-acbb-ecbf01449a32",
    "outputId": "c6812335-9eda-4b74-c32f-49ecb76024b0"
   },
   "outputs": [],
   "source": [
    "# record start time\n",
    "plt.figure(figsize=(10, 7))\n",
    "plt.title(\"Dendrogram\")\n",
    "dend = shc.dendrogram(shc.linkage(Xns))"
   ]
  },
  {
   "cell_type": "markdown",
   "id": "jzM3C24Sm22t",
   "metadata": {
    "id": "jzM3C24Sm22t"
   },
   "source": [
    "El dendrograma también nos indica la presencia de **4 clusters**.\n",
    "\n",
    "Creamos el modelos para 4 clusters."
   ]
  },
  {
   "cell_type": "code",
   "execution_count": null,
   "id": "QJrE7QyxnEoD",
   "metadata": {
    "colab": {
     "base_uri": "https://localhost:8080/"
    },
    "id": "QJrE7QyxnEoD",
    "outputId": "62fb3494-0645-447e-ab7c-f8c0cbf1a652"
   },
   "outputs": [],
   "source": [
    "m_ac = AgglomerativeClustering(n_clusters=4)\n",
    "m_ac.fit(Xns)\n",
    "Xns[\"ac_cluster\"] = m_ac.fit_predict(Xns)\n",
    "Xns[\"ac_cluster\"].value_counts()"
   ]
  },
  {
   "cell_type": "markdown",
   "id": "1gB_0YyfoIR6",
   "metadata": {
    "id": "1gB_0YyfoIR6"
   },
   "source": [
    "Tanto k means como el clustering aglomerativo nos arrojan la misma cantidad de datos para cada cluster.\n",
    "\n",
    "Veamos qué tienen en común cada uno."
   ]
  },
  {
   "cell_type": "code",
   "execution_count": null,
   "id": "nMI3cO6rnS_C",
   "metadata": {
    "colab": {
     "base_uri": "https://localhost:8080/",
     "height": 143
    },
    "id": "nMI3cO6rnS_C",
    "outputId": "fe5ba0ee-2b02-4179-c9c8-490eef542f0f"
   },
   "outputs": [],
   "source": [
    "Xns.head(3)"
   ]
  },
  {
   "cell_type": "code",
   "execution_count": null,
   "id": "tpOAAonZojXp",
   "metadata": {
    "colab": {
     "base_uri": "https://localhost:8080/",
     "height": 1000
    },
    "id": "tpOAAonZojXp",
    "outputId": "3af0e0c4-516f-49d8-e36b-fa94f33da6c5"
   },
   "outputs": [],
   "source": [
    "for i in Xns.columns[:-2]:\n",
    "    Xns.boxplot(column=[i],by=\"ac_cluster\",figsize=(3,3))\n",
    "    plt.tight_layout()\n",
    "    plt.show()"
   ]
  },
  {
   "cell_type": "markdown",
   "id": "7LY9dpkgqGyf",
   "metadata": {
    "id": "7LY9dpkgqGyf"
   },
   "source": [
    "Se observa lo siguiente respecto a los puntajes en cada cluster:\n",
    "\n",
    "* C0: Más bajos puntajes y alta varianza\n",
    "* C1: Altos\n",
    "* C2: Bajos\n",
    "* C3: Más altos puntajes y con menor varianza\n",
    "\n"
   ]
  },
  {
   "cell_type": "markdown",
   "id": "2h3gznm6qruT",
   "metadata": {
    "id": "2h3gznm6qruT"
   },
   "source": [
    "Veamos quienes son las categorías con osf con más altos puntajes"
   ]
  },
  {
   "cell_type": "code",
   "execution_count": null,
   "id": "YBmq8prCqWq-",
   "metadata": {
    "colab": {
     "base_uri": "https://localhost:8080/",
     "height": 477
    },
    "id": "YBmq8prCqWq-",
    "outputId": "aaa7458a-7ce2-44da-c2eb-46100c55168c"
   },
   "outputs": [],
   "source": [
    "#pd.DataFrame(df_coment.iloc[Xns[Xns.ac_cluster == 3].index, :].categoria.value_counts()).plot.pie(subplots=True)\n",
    "pd.DataFrame(df_coment.iloc[Xns[Xns.ac_cluster == 3].index, :].categoria.value_counts()).plot.pie(subplots=True)\n",
    "plt.legend([], [])\n",
    "plt.show()"
   ]
  },
  {
   "cell_type": "markdown",
   "id": "b22087aa-87ca-4835-ade5-e03259ec12a1",
   "metadata": {
    "id": "b22087aa-87ca-4835-ade5-e03259ec12a1"
   },
   "source": [
    "---\n",
    "## TESTS"
   ]
  },
  {
   "cell_type": "code",
   "execution_count": null,
   "id": "WpHp98Phoh4g",
   "metadata": {
    "colab": {
     "base_uri": "https://localhost:8080/"
    },
    "id": "WpHp98Phoh4g",
    "outputId": "4345802c-3cfd-4c74-b5b4-71afd55173ec"
   },
   "outputs": [],
   "source": []
  },
  {
   "cell_type": "code",
   "execution_count": null,
   "id": "LrfcTVbChAxz",
   "metadata": {
    "id": "LrfcTVbChAxz"
   },
   "outputs": [],
   "source": []
  },
  {
   "cell_type": "code",
   "execution_count": null,
   "id": "1ab1999a-e941-4b70-acd3-bde7ab764425",
   "metadata": {
    "id": "1ab1999a-e941-4b70-acd3-bde7ab764425"
   },
   "outputs": [],
   "source": [
    "# Convertir Data Frame a archivo excel\n",
    "#pip install xlsxwriter\n",
    "#df_coment.to_excel('DB.xlsx', engine='xlsxwriter')\n",
    "#df_coment.to_csv('DataBase.csv', index=False)"
   ]
  },
  {
   "cell_type": "code",
   "execution_count": null,
   "id": "3e53e8a6-55e7-4bb4-9a4f-f92b3ec19d98",
   "metadata": {},
   "outputs": [],
   "source": []
  }
 ],
 "metadata": {
  "colab": {
   "gpuType": "T4",
   "include_colab_link": true,
   "provenance": []
  },
  "kernelspec": {
   "display_name": "Python 3 (ipykernel)",
   "language": "python",
   "name": "python3"
  },
  "language_info": {
   "codemirror_mode": {
    "name": "ipython",
    "version": 3
   },
   "file_extension": ".py",
   "mimetype": "text/x-python",
   "name": "python",
   "nbconvert_exporter": "python",
   "pygments_lexer": "ipython3",
   "version": "3.10.11"
  }
 },
 "nbformat": 4,
 "nbformat_minor": 5
}
