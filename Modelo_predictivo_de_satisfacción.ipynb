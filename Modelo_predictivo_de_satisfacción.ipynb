{
 "cells": [
  {
   "cell_type": "markdown",
   "id": "6f31f365-ac78-4ca0-9eed-9548fd3727a3",
   "metadata": {},
   "source": [
    "# MODELO PREDICTIVO DE SATISFACCIÓN DE PROYECTO SOLIDARIO"
   ]
  },
  {
   "cell_type": "markdown",
   "id": "389a5127-0aa8-4f78-ab5d-85de2ff307e8",
   "metadata": {},
   "source": [
    "Modelo clasificador que puede predecir el grado de satisfacción de estudiantes del Tecnológico de Monterrey en su experiencia realizando un proyecto solidario con una organización socio formadora."
   ]
  },
  {
   "cell_type": "markdown",
   "id": "30faf79d-2567-4860-af9e-25fcfdedd7ba",
   "metadata": {},
   "source": [
    "## I. COMPRENSIÓN Y PREPARACIÓN DE DATOS"
   ]
  },
  {
   "cell_type": "markdown",
   "id": "e3ad3712-4cca-4fe4-be92-4520f77dc23d",
   "metadata": {},
   "source": [
    "### I.1 Importación de librerías"
   ]
  },
  {
   "cell_type": "code",
   "execution_count": 1,
   "id": "c1da1f9a",
   "metadata": {},
   "outputs": [],
   "source": [
    "import pandas as pd\n",
    "import numpy as np\n",
    "import matplotlib.pyplot as plt"
   ]
  },
  {
   "cell_type": "markdown",
   "id": "cd8854da",
   "metadata": {},
   "source": [
    "### I.2 Lectura de datos"
   ]
  },
  {
   "cell_type": "markdown",
   "id": "323ffbc8",
   "metadata": {},
   "source": [
    "#### 1. Cargar todos los archivos csv"
   ]
  },
  {
   "cell_type": "code",
   "execution_count": 33,
   "id": "1c450de3",
   "metadata": {},
   "outputs": [],
   "source": [
    "df_1 = pd.read_csv('Encuesta+a+Estudiantes+PS_17+de+mayo+de+2023_12.05.csv')\n",
    "df_2 = pd.read_csv('Estudiantes+PS+FJ22+TEC21_17+de+mayo+de+2023_12.17.csv')\n",
    "df_3 = pd.read_csv('Estudiantes+PS+AD22+TEC21_17+de+mayo+de+2023_12.07.csv')\n",
    "df_4 = pd.read_csv('Estudiantes+PS_INV23+TEC21_17+de+mayo+de+2023_12.22.csv')\n",
    "df_5 = pd.read_csv('Estudiantes+PS+FJ23_17+de+mayo+de+2023_12.28.csv')"
   ]
  },
  {
   "cell_type": "code",
   "execution_count": 35,
   "id": "b6e0f09e",
   "metadata": {},
   "outputs": [],
   "source": [
    "# Se elimina la primera fila, porque repite el nombre de la columna\n",
    "# pero en español\n",
    "df_INV22 = df_1.drop(0)\n",
    "df_FJ22 = df_2.drop(0)\n",
    "df_AD22 = df_3.drop(0)\n",
    "df_INV23 = df_4.drop(0)\n",
    "df_FJ23 = df_5.drop(0)"
   ]
  },
  {
   "cell_type": "code",
   "execution_count": null,
   "id": "345d6648",
   "metadata": {},
   "outputs": [],
   "source": []
  },
  {
   "cell_type": "code",
   "execution_count": null,
   "id": "867ab9d0",
   "metadata": {},
   "outputs": [],
   "source": []
  }
 ],
 "metadata": {
  "kernelspec": {
   "display_name": "Python 3 (ipykernel)",
   "language": "python",
   "name": "python3"
  },
  "language_info": {
   "codemirror_mode": {
    "name": "ipython",
    "version": 3
   },
   "file_extension": ".py",
   "mimetype": "text/x-python",
   "name": "python",
   "nbconvert_exporter": "python",
   "pygments_lexer": "ipython3",
   "version": "3.11.0"
  }
 },
 "nbformat": 4,
 "nbformat_minor": 5
}
