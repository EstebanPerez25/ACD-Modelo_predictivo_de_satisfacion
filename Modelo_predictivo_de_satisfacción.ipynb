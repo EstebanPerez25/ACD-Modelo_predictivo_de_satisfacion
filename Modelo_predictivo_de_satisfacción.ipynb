{
 "cells": [
  {
   "cell_type": "markdown",
   "id": "0aeb003c",
   "metadata": {
    "colab_type": "text",
    "id": "view-in-github"
   },
   "source": [
    "<a href=\"https://colab.research.google.com/github/EstebanPerez25/ACD-Modelo_predictivo_de_satisfacion/blob/main/Modelo_predictivo_de_satisfacci%C3%B3n.ipynb\" target=\"_parent\"><img src=\"https://colab.research.google.com/assets/colab-badge.svg\" alt=\"Open In Colab\"/></a>"
   ]
  },
  {
   "cell_type": "markdown",
   "id": "6f31f365-ac78-4ca0-9eed-9548fd3727a3",
   "metadata": {
    "id": "6f31f365-ac78-4ca0-9eed-9548fd3727a3"
   },
   "source": [
    "# MODELO PREDICTIVO DE SATISFACCIÓN DE PROYECTO SOLIDARIO"
   ]
  },
  {
   "cell_type": "markdown",
   "id": "389a5127-0aa8-4f78-ab5d-85de2ff307e8",
   "metadata": {
    "id": "389a5127-0aa8-4f78-ab5d-85de2ff307e8"
   },
   "source": [
    "Modelo clasificador que puede predecir el grado de satisfacción de estudiantes del Tecnológico de Monterrey en su experiencia realizando un proyecto solidario con una organización socio formadora."
   ]
  },
  {
   "cell_type": "markdown",
   "id": "30faf79d-2567-4860-af9e-25fcfdedd7ba",
   "metadata": {
    "id": "30faf79d-2567-4860-af9e-25fcfdedd7ba"
   },
   "source": [
    "## I. COMPRENSIÓN DEL NEGOCIO"
   ]
  },
  {
   "cell_type": "markdown",
   "id": "954cda6f-76bd-4a4f-918e-f5cc65a5fad9",
   "metadata": {
    "id": "954cda6f-76bd-4a4f-918e-f5cc65a5fad9"
   },
   "source": [
    "## II. COMPRENSIÓN DE LOS DATOS"
   ]
  },
  {
   "cell_type": "markdown",
   "id": "e3ad3712-4cca-4fe4-be92-4520f77dc23d",
   "metadata": {
    "id": "e3ad3712-4cca-4fe4-be92-4520f77dc23d"
   },
   "source": [
    "### II.1 Importación de librerías"
   ]
  },
  {
   "cell_type": "code",
   "execution_count": 1,
   "id": "bd0f37f7",
   "metadata": {
    "id": "bd0f37f7"
   },
   "outputs": [],
   "source": [
    "import pandas as pd\n",
    "import numpy as np\n",
    "import matplotlib.pyplot as plt"
   ]
  },
  {
   "cell_type": "markdown",
   "id": "2190bfa1",
   "metadata": {
    "id": "2190bfa1"
   },
   "source": [
    "### II.2 Lectura de datos"
   ]
  },
  {
   "cell_type": "markdown",
   "id": "4ec081b7",
   "metadata": {
    "id": "4ec081b7"
   },
   "source": [
    "#### II.2.1. Cargar todos los archivos csv"
   ]
  },
  {
   "cell_type": "code",
   "execution_count": 2,
   "id": "jVNvI72p-rdb",
   "metadata": {
    "id": "jVNvI72p-rdb"
   },
   "outputs": [],
   "source": [
    "# Url de archivos csv\n",
    "url1 = 'https://raw.githubusercontent.com/EstebanPerez25/ACD-Modelo_predictivo_de_satisfacion/main/Encuesta%2Ba%2BEstudiantes%2BPS_17%2Bde%2Bmayo%2Bde%2B2023_12.05.csv'\n",
    "url2 = 'https://raw.githubusercontent.com/EstebanPerez25/ACD-Modelo_predictivo_de_satisfacion/main/Estudiantes%2BPS%2BFJ22%2BTEC21_17%2Bde%2Bmayo%2Bde%2B2023_12.17.csv'\n",
    "url3 = 'https://raw.githubusercontent.com/EstebanPerez25/ACD-Modelo_predictivo_de_satisfacion/main/Estudiantes%2BPS%2BAD22%2BTEC21_17%2Bde%2Bmayo%2Bde%2B2023_12.07.csv'\n",
    "url4 = 'https://raw.githubusercontent.com/EstebanPerez25/ACD-Modelo_predictivo_de_satisfacion/main/Estudiantes%2BPS_INV23%2BTEC21_17%2Bde%2Bmayo%2Bde%2B2023_12.22.csv'\n",
    "url5 = 'https://raw.githubusercontent.com/EstebanPerez25/ACD-Modelo_predictivo_de_satisfacion/main/Estudiantes%2BPS%2BFJ23_17%2Bde%2Bmayo%2Bde%2B2023_12.28.csv'\n"
   ]
  },
  {
   "cell_type": "code",
   "execution_count": 3,
   "id": "26fdd325",
   "metadata": {
    "id": "26fdd325"
   },
   "outputs": [],
   "source": [
    "df_1 = pd.read_csv(url1)\n",
    "df_2 = pd.read_csv(url2)\n",
    "df_3 = pd.read_csv(url3)\n",
    "df_4 = pd.read_csv(url4)\n",
    "df_5 = pd.read_csv(url5)"
   ]
  },
  {
   "cell_type": "code",
   "execution_count": 8,
   "id": "931d7be4",
   "metadata": {
    "id": "931d7be4"
   },
   "outputs": [],
   "source": [
    "# Se elimina la primera fila, porque repite el nombre de la columna\n",
    "# pero en español\n",
    "df_inv22 = df_1.drop(0)\n",
    "df_fj22 = df_2.drop(0)\n",
    "df_ad22 = df_3.drop(0)\n",
    "df_inv23 = df_4.drop(0)\n",
    "df_fj23 = df_5.drop(0)\n",
    "\n",
    "# Agregando una primera columna indicando el periodo\n",
    "df_inv22.insert(0, 'Period', 'INV22')\n",
    "df_fj22.insert(0, 'Period', 'FJ22')\n",
    "df_ad22.insert(0, 'Period', 'AD22')\n",
    "df_inv23.insert(0, 'Period', 'INV23')\n",
    "df_fj23.insert(0, 'Period', 'FJ23')"
   ]
  },
  {
   "cell_type": "markdown",
   "id": "ee486d0e",
   "metadata": {
    "id": "ee486d0e"
   },
   "source": [
    "#### II.2.2. Unificar archivos"
   ]
  },
  {
   "cell_type": "code",
   "execution_count": 9,
   "id": "98f512d5",
   "metadata": {
    "colab": {
     "base_uri": "https://localhost:8080/"
    },
    "id": "98f512d5",
    "outputId": "8a83a877-4feb-4491-ebdd-04a55eea8bdf"
   },
   "outputs": [],
   "source": [
    "df_m = pd.merge(df_inv22, df_fj22, how='outer')\\\n",
    "         .merge(df_ad22, how='outer')\\\n",
    "         .merge(df_inv23, how='outer')\\\n",
    "         .merge(df_fj23, how='outer');"
   ]
  },
  {
   "cell_type": "markdown",
   "id": "0ee6e4af-544a-415c-a9a7-d916137d5ee3",
   "metadata": {
    "id": "0ee6e4af-544a-415c-a9a7-d916137d5ee3"
   },
   "source": [
    "### II.3 Calidad de los datos"
   ]
  },
  {
   "cell_type": "code",
   "execution_count": 10,
   "id": "1abd2ad2-a422-4a55-9f50-55f28b5e1fbd",
   "metadata": {
    "colab": {
     "base_uri": "https://localhost:8080/",
     "height": 421
    },
    "id": "1abd2ad2-a422-4a55-9f50-55f28b5e1fbd",
    "outputId": "5d0e7b8f-e5ce-495f-9a35-9c8103ae83af"
   },
   "outputs": [
    {
     "data": {
      "text/html": [
       "<div>\n",
       "<style scoped>\n",
       "    .dataframe tbody tr th:only-of-type {\n",
       "        vertical-align: middle;\n",
       "    }\n",
       "\n",
       "    .dataframe tbody tr th {\n",
       "        vertical-align: top;\n",
       "    }\n",
       "\n",
       "    .dataframe thead th {\n",
       "        text-align: right;\n",
       "    }\n",
       "</style>\n",
       "<table border=\"1\" class=\"dataframe\">\n",
       "  <thead>\n",
       "    <tr style=\"text-align: right;\">\n",
       "      <th></th>\n",
       "      <th>Period</th>\n",
       "      <th>StartDate</th>\n",
       "      <th>EndDate</th>\n",
       "      <th>Status</th>\n",
       "      <th>IPAddress</th>\n",
       "      <th>Progress</th>\n",
       "      <th>Duration (in seconds)</th>\n",
       "      <th>Finished</th>\n",
       "      <th>RecordedDate</th>\n",
       "      <th>ResponseId</th>\n",
       "      <th>...</th>\n",
       "      <th>Nombre de Experiencia</th>\n",
       "      <th>Periodo</th>\n",
       "      <th>Semana</th>\n",
       "      <th>Tipo de Formato</th>\n",
       "      <th>Q11</th>\n",
       "      <th>Q9.1</th>\n",
       "      <th>RecipientFirstName</th>\n",
       "      <th>Q1</th>\n",
       "      <th>Q2</th>\n",
       "      <th>Q10</th>\n",
       "    </tr>\n",
       "  </thead>\n",
       "  <tbody>\n",
       "    <tr>\n",
       "      <th>0</th>\n",
       "      <td>INV22</td>\n",
       "      <td>22/04/2021 13:24</td>\n",
       "      <td>22/04/2021 13:26</td>\n",
       "      <td>Survey Preview</td>\n",
       "      <td>NaN</td>\n",
       "      <td>100</td>\n",
       "      <td>132</td>\n",
       "      <td>True</td>\n",
       "      <td>22/04/2021 13:26</td>\n",
       "      <td>R_12tdDn1LDz4BmzD</td>\n",
       "      <td>...</td>\n",
       "      <td>NaN</td>\n",
       "      <td>NaN</td>\n",
       "      <td>NaN</td>\n",
       "      <td>NaN</td>\n",
       "      <td>NaN</td>\n",
       "      <td>NaN</td>\n",
       "      <td>NaN</td>\n",
       "      <td>NaN</td>\n",
       "      <td>NaN</td>\n",
       "      <td>NaN</td>\n",
       "    </tr>\n",
       "    <tr>\n",
       "      <th>1</th>\n",
       "      <td>INV22</td>\n",
       "      <td>22/04/2021 17:35</td>\n",
       "      <td>22/04/2021 17:38</td>\n",
       "      <td>IP Address</td>\n",
       "      <td>187.153.66.173</td>\n",
       "      <td>100</td>\n",
       "      <td>207</td>\n",
       "      <td>True</td>\n",
       "      <td>22/04/2021 17:38</td>\n",
       "      <td>R_3nBhoMQcs4l6UzN</td>\n",
       "      <td>...</td>\n",
       "      <td>NaN</td>\n",
       "      <td>NaN</td>\n",
       "      <td>NaN</td>\n",
       "      <td>NaN</td>\n",
       "      <td>NaN</td>\n",
       "      <td>NaN</td>\n",
       "      <td>NaN</td>\n",
       "      <td>NaN</td>\n",
       "      <td>NaN</td>\n",
       "      <td>NaN</td>\n",
       "    </tr>\n",
       "    <tr>\n",
       "      <th>2</th>\n",
       "      <td>INV22</td>\n",
       "      <td>22/04/2021 18:31</td>\n",
       "      <td>22/04/2021 18:34</td>\n",
       "      <td>IP Address</td>\n",
       "      <td>187.189.141.187</td>\n",
       "      <td>100</td>\n",
       "      <td>168</td>\n",
       "      <td>True</td>\n",
       "      <td>22/04/2021 18:34</td>\n",
       "      <td>R_3CT33YuqT2viJVr</td>\n",
       "      <td>...</td>\n",
       "      <td>NaN</td>\n",
       "      <td>NaN</td>\n",
       "      <td>NaN</td>\n",
       "      <td>NaN</td>\n",
       "      <td>NaN</td>\n",
       "      <td>NaN</td>\n",
       "      <td>NaN</td>\n",
       "      <td>NaN</td>\n",
       "      <td>NaN</td>\n",
       "      <td>NaN</td>\n",
       "    </tr>\n",
       "    <tr>\n",
       "      <th>3</th>\n",
       "      <td>INV22</td>\n",
       "      <td>23/04/2021 04:47</td>\n",
       "      <td>23/04/2021 04:53</td>\n",
       "      <td>IP Address</td>\n",
       "      <td>45.238.188.41</td>\n",
       "      <td>100</td>\n",
       "      <td>349</td>\n",
       "      <td>True</td>\n",
       "      <td>23/04/2021 04:53</td>\n",
       "      <td>R_2Vr6CJ6upwFerdf</td>\n",
       "      <td>...</td>\n",
       "      <td>NaN</td>\n",
       "      <td>NaN</td>\n",
       "      <td>NaN</td>\n",
       "      <td>NaN</td>\n",
       "      <td>NaN</td>\n",
       "      <td>NaN</td>\n",
       "      <td>NaN</td>\n",
       "      <td>NaN</td>\n",
       "      <td>NaN</td>\n",
       "      <td>NaN</td>\n",
       "    </tr>\n",
       "    <tr>\n",
       "      <th>4</th>\n",
       "      <td>INV22</td>\n",
       "      <td>23/04/2021 07:45</td>\n",
       "      <td>23/04/2021 07:49</td>\n",
       "      <td>IP Address</td>\n",
       "      <td>189.152.158.35</td>\n",
       "      <td>100</td>\n",
       "      <td>245</td>\n",
       "      <td>True</td>\n",
       "      <td>23/04/2021 07:49</td>\n",
       "      <td>R_cTjIZnPkeIWYVUZ</td>\n",
       "      <td>...</td>\n",
       "      <td>NaN</td>\n",
       "      <td>NaN</td>\n",
       "      <td>NaN</td>\n",
       "      <td>NaN</td>\n",
       "      <td>NaN</td>\n",
       "      <td>NaN</td>\n",
       "      <td>NaN</td>\n",
       "      <td>NaN</td>\n",
       "      <td>NaN</td>\n",
       "      <td>NaN</td>\n",
       "    </tr>\n",
       "  </tbody>\n",
       "</table>\n",
       "<p>5 rows × 46 columns</p>\n",
       "</div>"
      ],
      "text/plain": [
       "  Period         StartDate           EndDate          Status        IPAddress  \\\n",
       "0  INV22  22/04/2021 13:24  22/04/2021 13:26  Survey Preview              NaN   \n",
       "1  INV22  22/04/2021 17:35  22/04/2021 17:38      IP Address   187.153.66.173   \n",
       "2  INV22  22/04/2021 18:31  22/04/2021 18:34      IP Address  187.189.141.187   \n",
       "3  INV22  23/04/2021 04:47  23/04/2021 04:53      IP Address    45.238.188.41   \n",
       "4  INV22  23/04/2021 07:45  23/04/2021 07:49      IP Address   189.152.158.35   \n",
       "\n",
       "  Progress Duration (in seconds) Finished      RecordedDate  \\\n",
       "0      100                   132     True  22/04/2021 13:26   \n",
       "1      100                   207     True  22/04/2021 17:38   \n",
       "2      100                   168     True  22/04/2021 18:34   \n",
       "3      100                   349     True  23/04/2021 04:53   \n",
       "4      100                   245     True  23/04/2021 07:49   \n",
       "\n",
       "          ResponseId  ... Nombre de Experiencia Periodo Semana  \\\n",
       "0  R_12tdDn1LDz4BmzD  ...                   NaN     NaN    NaN   \n",
       "1  R_3nBhoMQcs4l6UzN  ...                   NaN     NaN    NaN   \n",
       "2  R_3CT33YuqT2viJVr  ...                   NaN     NaN    NaN   \n",
       "3  R_2Vr6CJ6upwFerdf  ...                   NaN     NaN    NaN   \n",
       "4  R_cTjIZnPkeIWYVUZ  ...                   NaN     NaN    NaN   \n",
       "\n",
       "  Tipo de Formato  Q11 Q9.1 RecipientFirstName   Q1   Q2  Q10  \n",
       "0             NaN  NaN  NaN                NaN  NaN  NaN  NaN  \n",
       "1             NaN  NaN  NaN                NaN  NaN  NaN  NaN  \n",
       "2             NaN  NaN  NaN                NaN  NaN  NaN  NaN  \n",
       "3             NaN  NaN  NaN                NaN  NaN  NaN  NaN  \n",
       "4             NaN  NaN  NaN                NaN  NaN  NaN  NaN  \n",
       "\n",
       "[5 rows x 46 columns]"
      ]
     },
     "execution_count": 10,
     "metadata": {},
     "output_type": "execute_result"
    }
   ],
   "source": [
    "df_m.head(5)"
   ]
  },
  {
   "cell_type": "code",
   "execution_count": 11,
   "id": "8156767a-0312-4805-ad24-7dcfd6cd59c0",
   "metadata": {
    "id": "8156767a-0312-4805-ad24-7dcfd6cd59c0",
    "outputId": "0d76f9a5-f811-4c29-e431-baf3ceaa1833"
   },
   "outputs": [
    {
     "name": "stdout",
     "output_type": "stream",
     "text": [
      "Filas:  10499\n",
      "Columnas:  46\n"
     ]
    }
   ],
   "source": [
    "print('Filas: ', df_m.shape[0])\n",
    "print('Columnas: ', df_m.shape[1])"
   ]
  },
  {
   "cell_type": "code",
   "execution_count": 12,
   "id": "1d4c9c61-ef76-434b-94a6-1d75cea5bc9a",
   "metadata": {
    "colab": {
     "base_uri": "https://localhost:8080/"
    },
    "id": "1d4c9c61-ef76-434b-94a6-1d75cea5bc9a",
    "outputId": "7590596d-09e8-4ca6-cfe2-7173b245af1c"
   },
   "outputs": [
    {
     "name": "stdout",
     "output_type": "stream",
     "text": [
      "<class 'pandas.core.frame.DataFrame'>\n",
      "RangeIndex: 10499 entries, 0 to 10498\n",
      "Columns: 46 entries, Period to Q10\n",
      "dtypes: object(46)\n",
      "memory usage: 3.7+ MB\n"
     ]
    }
   ],
   "source": [
    "df_m.info(verbose=False)"
   ]
  },
  {
   "cell_type": "code",
   "execution_count": 18,
   "id": "565bdaa0-d261-47ac-8681-399493eeabf8",
   "metadata": {
    "colab": {
     "base_uri": "https://localhost:8080/",
     "height": 1000
    },
    "id": "565bdaa0-d261-47ac-8681-399493eeabf8",
    "outputId": "cfe764de-6f6e-409b-bbce-41e206da78fb"
   },
   "outputs": [
    {
     "data": {
      "text/html": [
       "<div>\n",
       "<style scoped>\n",
       "    .dataframe tbody tr th:only-of-type {\n",
       "        vertical-align: middle;\n",
       "    }\n",
       "\n",
       "    .dataframe tbody tr th {\n",
       "        vertical-align: top;\n",
       "    }\n",
       "\n",
       "    .dataframe thead th {\n",
       "        text-align: right;\n",
       "    }\n",
       "</style>\n",
       "<table border=\"1\" class=\"dataframe\">\n",
       "  <thead>\n",
       "    <tr style=\"text-align: right;\">\n",
       "      <th></th>\n",
       "      <th>0</th>\n",
       "    </tr>\n",
       "  </thead>\n",
       "  <tbody>\n",
       "    <tr>\n",
       "      <th>Period</th>\n",
       "      <td>0.0</td>\n",
       "    </tr>\n",
       "    <tr>\n",
       "      <th>StartDate</th>\n",
       "      <td>0.0</td>\n",
       "    </tr>\n",
       "    <tr>\n",
       "      <th>EndDate</th>\n",
       "      <td>0.0</td>\n",
       "    </tr>\n",
       "    <tr>\n",
       "      <th>Status</th>\n",
       "      <td>0.0</td>\n",
       "    </tr>\n",
       "    <tr>\n",
       "      <th>IPAddress</th>\n",
       "      <td>0.0</td>\n",
       "    </tr>\n",
       "    <tr>\n",
       "      <th>Progress</th>\n",
       "      <td>0.0</td>\n",
       "    </tr>\n",
       "    <tr>\n",
       "      <th>Duration (in seconds)</th>\n",
       "      <td>0.0</td>\n",
       "    </tr>\n",
       "    <tr>\n",
       "      <th>Finished</th>\n",
       "      <td>0.0</td>\n",
       "    </tr>\n",
       "    <tr>\n",
       "      <th>RecordedDate</th>\n",
       "      <td>0.0</td>\n",
       "    </tr>\n",
       "    <tr>\n",
       "      <th>ResponseId</th>\n",
       "      <td>0.0</td>\n",
       "    </tr>\n",
       "    <tr>\n",
       "      <th>RecipientLastName</th>\n",
       "      <td>52.0</td>\n",
       "    </tr>\n",
       "    <tr>\n",
       "      <th>RecipientEmail</th>\n",
       "      <td>31.0</td>\n",
       "    </tr>\n",
       "    <tr>\n",
       "      <th>ExternalReference</th>\n",
       "      <td>100.0</td>\n",
       "    </tr>\n",
       "    <tr>\n",
       "      <th>LocationLatitude</th>\n",
       "      <td>0.0</td>\n",
       "    </tr>\n",
       "    <tr>\n",
       "      <th>LocationLongitude</th>\n",
       "      <td>0.0</td>\n",
       "    </tr>\n",
       "    <tr>\n",
       "      <th>DistributionChannel</th>\n",
       "      <td>14.0</td>\n",
       "    </tr>\n",
       "    <tr>\n",
       "      <th>UserLanguage</th>\n",
       "      <td>0.0</td>\n",
       "    </tr>\n",
       "    <tr>\n",
       "      <th>Al concluir este Bloque con Sentido Humano</th>\n",
       "      <td>0.0</td>\n",
       "    </tr>\n",
       "    <tr>\n",
       "      <th>Vivir la experiencia de aprendizaje relacionada con un Objetivo de Desarrollo Sostenible</th>\n",
       "      <td>0.0</td>\n",
       "    </tr>\n",
       "    <tr>\n",
       "      <th>Nivel de sensibilización que aportó esta unidad de formación para la atención de necesidades sociales</th>\n",
       "      <td>0.0</td>\n",
       "    </tr>\n",
       "    <tr>\n",
       "      <th>Seguimiento y liderazgo que dio la organización socio formadora en el desarrollo de tu experiencia</th>\n",
       "      <td>0.0</td>\n",
       "    </tr>\n",
       "    <tr>\n",
       "      <th>Herramientas que aplicaste como las actividades, reportes, \"quizzes\", dentro de la plataforma de CANVAS en el desarrollo de la experiencia de Servicio Social</th>\n",
       "      <td>0.0</td>\n",
       "    </tr>\n",
       "    <tr>\n",
       "      <th>Q2_6</th>\n",
       "      <td>0.0</td>\n",
       "    </tr>\n",
       "    <tr>\n",
       "      <th>Q2_7</th>\n",
       "      <td>0.0</td>\n",
       "    </tr>\n",
       "    <tr>\n",
       "      <th>Q2_8</th>\n",
       "      <td>0.0</td>\n",
       "    </tr>\n",
       "    <tr>\n",
       "      <th>Q5</th>\n",
       "      <td>0.0</td>\n",
       "    </tr>\n",
       "    <tr>\n",
       "      <th>Q9</th>\n",
       "      <td>0.0</td>\n",
       "    </tr>\n",
       "    <tr>\n",
       "      <th>Q6</th>\n",
       "      <td>1.0</td>\n",
       "    </tr>\n",
       "    <tr>\n",
       "      <th>Al concluir este Bloque con Sentido Humano.1</th>\n",
       "      <td>0.0</td>\n",
       "    </tr>\n",
       "    <tr>\n",
       "      <th>Vivir la experiencia de aprendizaje relacionada con un Objetivo de Desarrollo Sostenible.1</th>\n",
       "      <td>0.0</td>\n",
       "    </tr>\n",
       "    <tr>\n",
       "      <th>Nivel de sensibilización que aportó esta unidad de formación para la atención de necesidades sociales.1</th>\n",
       "      <td>0.0</td>\n",
       "    </tr>\n",
       "    <tr>\n",
       "      <th>Seguimiento y liderazgo que dio la organización socio formadora en el desarrollo de tu experiencia.1</th>\n",
       "      <td>0.0</td>\n",
       "    </tr>\n",
       "    <tr>\n",
       "      <th>Q3</th>\n",
       "      <td>13.0</td>\n",
       "    </tr>\n",
       "    <tr>\n",
       "      <th>Q7</th>\n",
       "      <td>13.0</td>\n",
       "    </tr>\n",
       "    <tr>\n",
       "      <th>OSF</th>\n",
       "      <td>45.0</td>\n",
       "    </tr>\n",
       "    <tr>\n",
       "      <th>CRN</th>\n",
       "      <td>45.0</td>\n",
       "    </tr>\n",
       "    <tr>\n",
       "      <th>Nombre de Experiencia</th>\n",
       "      <td>83.0</td>\n",
       "    </tr>\n",
       "    <tr>\n",
       "      <th>Periodo</th>\n",
       "      <td>83.0</td>\n",
       "    </tr>\n",
       "    <tr>\n",
       "      <th>Semana</th>\n",
       "      <td>83.0</td>\n",
       "    </tr>\n",
       "    <tr>\n",
       "      <th>Tipo de Formato</th>\n",
       "      <td>83.0</td>\n",
       "    </tr>\n",
       "    <tr>\n",
       "      <th>Q11</th>\n",
       "      <td>74.0</td>\n",
       "    </tr>\n",
       "    <tr>\n",
       "      <th>Q9.1</th>\n",
       "      <td>63.0</td>\n",
       "    </tr>\n",
       "    <tr>\n",
       "      <th>RecipientFirstName</th>\n",
       "      <td>100.0</td>\n",
       "    </tr>\n",
       "    <tr>\n",
       "      <th>Q1</th>\n",
       "      <td>89.0</td>\n",
       "    </tr>\n",
       "    <tr>\n",
       "      <th>Q2</th>\n",
       "      <td>96.0</td>\n",
       "    </tr>\n",
       "    <tr>\n",
       "      <th>Q10</th>\n",
       "      <td>97.0</td>\n",
       "    </tr>\n",
       "  </tbody>\n",
       "</table>\n",
       "</div>"
      ],
      "text/plain": [
       "                                                        0\n",
       "Period                                                0.0\n",
       "StartDate                                             0.0\n",
       "EndDate                                               0.0\n",
       "Status                                                0.0\n",
       "IPAddress                                             0.0\n",
       "Progress                                              0.0\n",
       "Duration (in seconds)                                 0.0\n",
       "Finished                                              0.0\n",
       "RecordedDate                                          0.0\n",
       "ResponseId                                            0.0\n",
       "RecipientLastName                                    52.0\n",
       "RecipientEmail                                       31.0\n",
       "ExternalReference                                   100.0\n",
       "LocationLatitude                                      0.0\n",
       "LocationLongitude                                     0.0\n",
       "DistributionChannel                                  14.0\n",
       "UserLanguage                                          0.0\n",
       "Al concluir este Bloque con Sentido Humano            0.0\n",
       "Vivir la experiencia de aprendizaje relacionada...    0.0\n",
       "Nivel de sensibilización que aportó esta unidad...    0.0\n",
       "Seguimiento y liderazgo que dio la organización...    0.0\n",
       "Herramientas que aplicaste como las actividades...    0.0\n",
       "Q2_6                                                  0.0\n",
       "Q2_7                                                  0.0\n",
       "Q2_8                                                  0.0\n",
       "Q5                                                    0.0\n",
       "Q9                                                    0.0\n",
       "Q6                                                    1.0\n",
       "Al concluir este Bloque con Sentido Humano.1          0.0\n",
       "Vivir la experiencia de aprendizaje relacionada...    0.0\n",
       "Nivel de sensibilización que aportó esta unidad...    0.0\n",
       "Seguimiento y liderazgo que dio la organización...    0.0\n",
       "Q3                                                   13.0\n",
       "Q7                                                   13.0\n",
       "OSF                                                  45.0\n",
       "CRN                                                  45.0\n",
       "Nombre de Experiencia                                83.0\n",
       "Periodo                                              83.0\n",
       "Semana                                               83.0\n",
       "Tipo de Formato                                      83.0\n",
       "Q11                                                  74.0\n",
       "Q9.1                                                 63.0\n",
       "RecipientFirstName                                  100.0\n",
       "Q1                                                   89.0\n",
       "Q2                                                   96.0\n",
       "Q10                                                  97.0"
      ]
     },
     "execution_count": 18,
     "metadata": {},
     "output_type": "execute_result"
    }
   ],
   "source": [
    "pd.DataFrame(round(df_m.isnull().sum()/len(df_m)*100, 0))"
   ]
  },
  {
   "cell_type": "code",
   "execution_count": null,
   "id": "8c0a7ce0-8dfb-428c-bdf5-f565db4e3600",
   "metadata": {},
   "outputs": [],
   "source": []
  }
 ],
 "metadata": {
  "colab": {
   "include_colab_link": true,
   "provenance": []
  },
  "kernelspec": {
   "display_name": "Python 3 (ipykernel)",
   "language": "python",
   "name": "python3"
  },
  "language_info": {
   "codemirror_mode": {
    "name": "ipython",
    "version": 3
   },
   "file_extension": ".py",
   "mimetype": "text/x-python",
   "name": "python",
   "nbconvert_exporter": "python",
   "pygments_lexer": "ipython3",
   "version": "3.10.9"
  }
 },
 "nbformat": 4,
 "nbformat_minor": 5
}
