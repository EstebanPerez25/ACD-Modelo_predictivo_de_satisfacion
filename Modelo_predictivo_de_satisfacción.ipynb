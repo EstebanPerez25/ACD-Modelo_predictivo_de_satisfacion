{
 "cells": [
  {
   "cell_type": "markdown",
   "id": "6f31f365-ac78-4ca0-9eed-9548fd3727a3",
   "metadata": {},
   "source": [
    "# MODELO PREDICTIVO DE SATISFACCIÓN DE PROYECTO SOLIDARIO"
   ]
  },
  {
   "cell_type": "markdown",
   "id": "389a5127-0aa8-4f78-ab5d-85de2ff307e8",
   "metadata": {},
   "source": [
    "Modelo clasificador que puede predecir el grado de satisfacción de estudiantes del Tecnológico de Monterrey en su experiencia realizando un proyecto solidario con una organización socio formadora."
   ]
  },
  {
   "cell_type": "markdown",
   "id": "30faf79d-2567-4860-af9e-25fcfdedd7ba",
   "metadata": {},
   "source": [
    "## I. COMPRENSIÓN Y PREPARACIÓN DE DATOS"
   ]
  },
  {
   "cell_type": "markdown",
   "id": "e3ad3712-4cca-4fe4-be92-4520f77dc23d",
   "metadata": {},
   "source": [
    "### I.1 Importación de librerías"
   ]
  },
  {
   "cell_type": "code",
   "execution_count": 3,
   "id": "bd0f37f7",
   "metadata": {},
   "outputs": [],
   "source": [
    "import pandas as pd\n",
    "import numpy as np\n",
    "import matplotlib.pyplot as plt"
   ]
  },
  {
   "cell_type": "markdown",
   "id": "2190bfa1",
   "metadata": {},
   "source": [
    "### I.2 Lectura de datos"
   ]
  },
  {
   "cell_type": "markdown",
   "id": "4ec081b7",
   "metadata": {},
   "source": [
    "#### 1. Cargar todos los archivos csv"
   ]
  },
  {
   "cell_type": "code",
   "execution_count": 5,
   "id": "26fdd325",
   "metadata": {},
   "outputs": [],
   "source": [
    "df_1 = pd.read_csv('Encuesta+a+Estudiantes+PS_17+de+mayo+de+2023_12.05.csv')\n",
    "df_2 = pd.read_csv('Estudiantes+PS+FJ22+TEC21_17+de+mayo+de+2023_12.17.csv')\n",
    "df_3 = pd.read_csv('Estudiantes+PS+AD22+TEC21_17+de+mayo+de+2023_12.07.csv')\n",
    "df_4 = pd.read_csv('Estudiantes+PS_INV23+TEC21_17+de+mayo+de+2023_12.22.csv')\n",
    "df_5 = pd.read_csv('Estudiantes+PS+FJ23_17+de+mayo+de+2023_12.28.csv')"
   ]
  },
  {
   "cell_type": "code",
   "execution_count": 6,
   "id": "931d7be4",
   "metadata": {},
   "outputs": [],
   "source": [
    "# Se elimina la primera fila, porque repite el nombre de la columna\n",
    "# pero en español\n",
    "df_inv22 = df_1.drop(0)\n",
    "df_fj22 = df_2.drop(0)\n",
    "df_ad22 = df_3.drop(0)\n",
    "df_inv23 = df_4.drop(0)\n",
    "df_fj23 = df_5.drop(0)\n",
    "\n",
    "# Agregando una primera columna indicando el periodo\n",
    "df_inv22.insert(0, 'Period', 'INV22')\n",
    "df_fj22.insert(0, 'Period', 'FJ22')\n",
    "df_ad22.insert(0, 'Period', 'AD22')\n",
    "df_inv23.insert(0, 'Period', 'INV23')\n",
    "df_fj23.insert(0, 'Period', 'FJ23')"
   ]
  },
  {
   "cell_type": "markdown",
   "id": "ee486d0e",
   "metadata": {},
   "source": [
    "#### 2. Unificar archivos"
   ]
  },
  {
   "cell_type": "code",
   "execution_count": 7,
   "id": "98f512d5",
   "metadata": {},
   "outputs": [],
   "source": [
    "df_main = pd.merge(df_inv22, df_fj22, how='outer')\\\n",
    "            .merge(df_ad22, how='outer')\\\n",
    "            .merge(df_inv23, how='outer')\\\n",
    "            .merge(df_fj23, how='outer')"
   ]
  },
  {
   "cell_type": "code",
   "execution_count": 9,
   "id": "1a0c59da-ffb9-4f89-ab21-01694b81c247",
   "metadata": {},
   "outputs": [
    {
     "data": {
      "text/plain": [
       "(10499, 46)"
      ]
     },
     "execution_count": 9,
     "metadata": {},
     "output_type": "execute_result"
    }
   ],
   "source": [
    "df_main.shape"
   ]
  },
  {
   "cell_type": "code",
   "execution_count": null,
   "id": "10fb48c7-9224-42c8-a6df-29b54b0b506a",
   "metadata": {},
   "outputs": [],
   "source": []
  }
 ],
 "metadata": {
  "kernelspec": {
   "display_name": "Python 3 (ipykernel)",
   "language": "python",
   "name": "python3"
  },
  "language_info": {
   "codemirror_mode": {
    "name": "ipython",
    "version": 3
   },
   "file_extension": ".py",
   "mimetype": "text/x-python",
   "name": "python",
   "nbconvert_exporter": "python",
   "pygments_lexer": "ipython3",
   "version": "3.10.9"
  }
 },
 "nbformat": 4,
 "nbformat_minor": 5
}
